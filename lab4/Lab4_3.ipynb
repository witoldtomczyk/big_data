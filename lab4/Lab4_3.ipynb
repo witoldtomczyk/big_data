{
 "cells": [
  {
   "cell_type": "markdown",
   "metadata": {
    "application/vnd.databricks.v1+cell": {
     "cellMetadata": {},
     "inputWidgets": {},
     "nuid": "b46aeec1-05b4-4aa4-87dc-5b7c35a47b04",
     "showTitle": false,
     "tableResultSettingsMap": {},
     "title": ""
    }
   },
   "source": [
    "# Zadanie 3\n"
   ]
  },
  {
   "cell_type": "code",
   "execution_count": 0,
   "metadata": {
    "application/vnd.databricks.v1+cell": {
     "cellMetadata": {
      "byteLimit": 2048000,
      "implicitDf": true,
      "rowLimit": 10000
     },
     "inputWidgets": {},
     "nuid": "971639fe-155d-4fc8-b4fd-aecf0136979e",
     "showTitle": false,
     "tableResultSettingsMap": {},
     "title": ""
    }
   },
   "outputs": [
    {
     "output_type": "display_data",
     "data": {
      "text/html": [
       "<style scoped>\n",
       "  .table-result-container {\n",
       "    max-height: 300px;\n",
       "    overflow: auto;\n",
       "  }\n",
       "  table, th, td {\n",
       "    border: 1px solid black;\n",
       "    border-collapse: collapse;\n",
       "  }\n",
       "  th, td {\n",
       "    padding: 5px;\n",
       "  }\n",
       "  th {\n",
       "    text-align: left;\n",
       "  }\n",
       "</style><div class='table-result-container'><table class='table-result'><thead style='background-color: white'><tr></tr></thead><tbody></tbody></table></div>"
      ]
     },
     "metadata": {
      "application/vnd.databricks.v1+output": {
       "addedWidgets": {},
       "aggData": [],
       "aggError": "",
       "aggOverflow": false,
       "aggSchema": [],
       "aggSeriesLimitReached": false,
       "aggType": "",
       "arguments": {},
       "columnCustomDisplayInfos": {},
       "data": [],
       "datasetInfos": [],
       "dbfsResultPath": null,
       "isJsonSchema": true,
       "metadata": {},
       "overflow": false,
       "plotOptions": {
        "customPlotOptions": {},
        "displayType": "table",
        "pivotAggregation": null,
        "pivotColumns": null,
        "xColumns": null,
        "yColumns": null
       },
       "removedWidgets": [],
       "schema": [],
       "type": "table"
      }
     },
     "output_type": "display_data"
    }
   ],
   "source": [
    "%sql\n",
    "Create database if not exists Sample"
   ]
  },
  {
   "cell_type": "code",
   "execution_count": 0,
   "metadata": {
    "application/vnd.databricks.v1+cell": {
     "cellMetadata": {
      "byteLimit": 2048000,
      "implicitDf": true,
      "rowLimit": 10000
     },
     "inputWidgets": {},
     "nuid": "4f9d3e45-c14e-4e22-9cea-9831beac8fdd",
     "showTitle": false,
     "tableResultSettingsMap": {},
     "title": ""
    }
   },
   "outputs": [
    {
     "output_type": "display_data",
     "data": {
      "text/html": [
       "<style scoped>\n",
       "  .table-result-container {\n",
       "    max-height: 300px;\n",
       "    overflow: auto;\n",
       "  }\n",
       "  table, th, td {\n",
       "    border: 1px solid black;\n",
       "    border-collapse: collapse;\n",
       "  }\n",
       "  th, td {\n",
       "    padding: 5px;\n",
       "  }\n",
       "  th {\n",
       "    text-align: left;\n",
       "  }\n",
       "</style><div class='table-result-container'><table class='table-result'><thead style='background-color: white'><tr><th>num_affected_rows</th><th>num_inserted_rows</th></tr></thead><tbody><tr><td>18</td><td>18</td></tr></tbody></table></div>"
      ]
     },
     "metadata": {
      "application/vnd.databricks.v1+output": {
       "addedWidgets": {},
       "aggData": [],
       "aggError": "",
       "aggOverflow": false,
       "aggSchema": [],
       "aggSeriesLimitReached": false,
       "aggType": "",
       "arguments": {},
       "columnCustomDisplayInfos": {},
       "data": [
        [
         18,
         18
        ]
       ],
       "datasetInfos": [],
       "dbfsResultPath": null,
       "isJsonSchema": true,
       "metadata": {},
       "overflow": false,
       "plotOptions": {
        "customPlotOptions": {},
        "displayType": "table",
        "pivotAggregation": null,
        "pivotColumns": null,
        "xColumns": null,
        "yColumns": null
       },
       "removedWidgets": [],
       "schema": [
        {
         "metadata": "{}",
         "name": "num_affected_rows",
         "type": "\"long\""
        },
        {
         "metadata": "{}",
         "name": "num_inserted_rows",
         "type": "\"long\""
        }
       ],
       "type": "table"
      }
     },
     "output_type": "display_data"
    }
   ],
   "source": [
    "%sql\n",
    "CREATE TABLE IF NOT EXISTS Sample.Transactions( Account INT, TranDate DATE, TranAmt DECIMAL(8,2));\n",
    "CREATE TABLE IF NOT EXISTS Sample.Logical(RowID INT, FName VARCHAR(20), Salary SMALLINT);\n",
    "\n",
    "\n",
    "INSERT INTO Sample.Transactions VALUES \n",
    "( 1, '2011-01-01', 500),\n",
    "( 1, '2011-01-15', 50),\n",
    "( 1, '2011-01-22', 250),\n",
    "( 1, '2011-01-24', 75),\n",
    "( 1, '2011-01-26', 125),\n",
    "( 1, '2011-01-28', 175),\n",
    "( 2, '2011-01-01', 500),\n",
    "( 2, '2011-01-15', 50),\n",
    "( 2, '2011-01-22', 25),\n",
    "( 2, '2011-01-23', 125),\n",
    "( 2, '2011-01-26', 200),\n",
    "( 2, '2011-01-29', 250),\n",
    "( 3, '2011-01-01', 500),\n",
    "( 3, '2011-01-15', 50 ),\n",
    "( 3, '2011-01-22', 5000),\n",
    "( 3, '2011-01-25', 550),\n",
    "( 3, '2011-01-27', 95 ),\n",
    "( 3, '2011-01-30', 2500)\n"
   ]
  },
  {
   "cell_type": "code",
   "execution_count": 0,
   "metadata": {
    "application/vnd.databricks.v1+cell": {
     "cellMetadata": {
      "byteLimit": 2048000,
      "implicitDf": true,
      "rowLimit": 10000
     },
     "inputWidgets": {},
     "nuid": "d719f44f-a104-4498-970c-c38dd1b3591a",
     "showTitle": false,
     "tableResultSettingsMap": {},
     "title": ""
    }
   },
   "outputs": [
    {
     "output_type": "display_data",
     "data": {
      "text/html": [
       "<style scoped>\n",
       "  .table-result-container {\n",
       "    max-height: 300px;\n",
       "    overflow: auto;\n",
       "  }\n",
       "  table, th, td {\n",
       "    border: 1px solid black;\n",
       "    border-collapse: collapse;\n",
       "  }\n",
       "  th, td {\n",
       "    padding: 5px;\n",
       "  }\n",
       "  th {\n",
       "    text-align: left;\n",
       "  }\n",
       "</style><div class='table-result-container'><table class='table-result'><thead style='background-color: white'><tr><th>num_affected_rows</th><th>num_inserted_rows</th></tr></thead><tbody><tr><td>14</td><td>14</td></tr></tbody></table></div>"
      ]
     },
     "metadata": {
      "application/vnd.databricks.v1+output": {
       "addedWidgets": {},
       "aggData": [],
       "aggError": "",
       "aggOverflow": false,
       "aggSchema": [],
       "aggSeriesLimitReached": false,
       "aggType": "",
       "arguments": {},
       "columnCustomDisplayInfos": {},
       "data": [
        [
         14,
         14
        ]
       ],
       "datasetInfos": [],
       "dbfsResultPath": null,
       "isJsonSchema": true,
       "metadata": {},
       "overflow": false,
       "plotOptions": {
        "customPlotOptions": {},
        "displayType": "table",
        "pivotAggregation": null,
        "pivotColumns": null,
        "xColumns": null,
        "yColumns": null
       },
       "removedWidgets": [],
       "schema": [
        {
         "metadata": "{}",
         "name": "num_affected_rows",
         "type": "\"long\""
        },
        {
         "metadata": "{}",
         "name": "num_inserted_rows",
         "type": "\"long\""
        }
       ],
       "type": "table"
      }
     },
     "output_type": "display_data"
    }
   ],
   "source": [
    "%sql\n",
    "INSERT INTO Sample.Logical\n",
    "VALUES (1,'George', 800),\n",
    "(2,'Sam', 950),\n",
    "(3,'Diane', 1100),\n",
    "(4,'Nicholas', 1250),\n",
    "(5,'Samuel', 1250),\n",
    "(6,'Patricia', 1300),\n",
    "(7,'Brian', 1500),\n",
    "(8,'Thomas', 1600),\n",
    "(9,'Fran', 2450),\n",
    "(10,'Debbie', 2850),\n",
    "(11,'Mark', 2975),\n",
    "(12,'James', 3000),\n",
    "(13,'Cynthia', 3000),\n",
    "(14,'Christopher', 5000);"
   ]
  },
  {
   "cell_type": "code",
   "execution_count": 0,
   "metadata": {
    "application/vnd.databricks.v1+cell": {
     "cellMetadata": {
      "byteLimit": 2048000,
      "implicitDf": true,
      "rowLimit": 10000
     },
     "inputWidgets": {},
     "nuid": "a08bb5dc-a623-41c0-b586-cf8a2e14588d",
     "showTitle": false,
     "tableResultSettingsMap": {},
     "title": ""
    }
   },
   "outputs": [
    {
     "output_type": "display_data",
     "data": {
      "text/html": [
       "<style scoped>\n",
       "  .table-result-container {\n",
       "    max-height: 300px;\n",
       "    overflow: auto;\n",
       "  }\n",
       "  table, th, td {\n",
       "    border: 1px solid black;\n",
       "    border-collapse: collapse;\n",
       "  }\n",
       "  th, td {\n",
       "    padding: 5px;\n",
       "  }\n",
       "  th {\n",
       "    text-align: left;\n",
       "  }\n",
       "</style><div class='table-result-container'><table class='table-result'><thead style='background-color: white'><tr><th>Account</th><th>TranDate</th><th>TranAmt</th><th>RunTotalAmt</th></tr></thead><tbody><tr><td>1</td><td>2011-01-01</td><td>500.00</td><td>2000.00</td></tr><tr><td>1</td><td>2011-01-01</td><td>500.00</td><td>2000.00</td></tr><tr><td>1</td><td>2011-01-01</td><td>500.00</td><td>2000.00</td></tr><tr><td>1</td><td>2011-01-01</td><td>500.00</td><td>2000.00</td></tr><tr><td>1</td><td>2011-01-15</td><td>50.00</td><td>2200.00</td></tr><tr><td>1</td><td>2011-01-15</td><td>50.00</td><td>2200.00</td></tr><tr><td>1</td><td>2011-01-15</td><td>50.00</td><td>2200.00</td></tr><tr><td>1</td><td>2011-01-15</td><td>50.00</td><td>2200.00</td></tr><tr><td>1</td><td>2011-01-22</td><td>250.00</td><td>3200.00</td></tr><tr><td>1</td><td>2011-01-22</td><td>250.00</td><td>3200.00</td></tr><tr><td>1</td><td>2011-01-22</td><td>250.00</td><td>3200.00</td></tr><tr><td>1</td><td>2011-01-22</td><td>250.00</td><td>3200.00</td></tr><tr><td>1</td><td>2011-01-24</td><td>75.00</td><td>3500.00</td></tr><tr><td>1</td><td>2011-01-24</td><td>75.00</td><td>3500.00</td></tr><tr><td>1</td><td>2011-01-24</td><td>75.00</td><td>3500.00</td></tr><tr><td>1</td><td>2011-01-24</td><td>75.00</td><td>3500.00</td></tr><tr><td>1</td><td>2011-01-26</td><td>125.00</td><td>4000.00</td></tr><tr><td>1</td><td>2011-01-26</td><td>125.00</td><td>4000.00</td></tr><tr><td>1</td><td>2011-01-26</td><td>125.00</td><td>4000.00</td></tr><tr><td>1</td><td>2011-01-26</td><td>125.00</td><td>4000.00</td></tr><tr><td>1</td><td>2011-01-28</td><td>175.00</td><td>4700.00</td></tr><tr><td>1</td><td>2011-01-28</td><td>175.00</td><td>4700.00</td></tr><tr><td>1</td><td>2011-01-28</td><td>175.00</td><td>4700.00</td></tr><tr><td>1</td><td>2011-01-28</td><td>175.00</td><td>4700.00</td></tr><tr><td>2</td><td>2011-01-01</td><td>500.00</td><td>2000.00</td></tr><tr><td>2</td><td>2011-01-01</td><td>500.00</td><td>2000.00</td></tr><tr><td>2</td><td>2011-01-01</td><td>500.00</td><td>2000.00</td></tr><tr><td>2</td><td>2011-01-01</td><td>500.00</td><td>2000.00</td></tr><tr><td>2</td><td>2011-01-15</td><td>50.00</td><td>2200.00</td></tr><tr><td>2</td><td>2011-01-15</td><td>50.00</td><td>2200.00</td></tr><tr><td>2</td><td>2011-01-15</td><td>50.00</td><td>2200.00</td></tr><tr><td>2</td><td>2011-01-15</td><td>50.00</td><td>2200.00</td></tr><tr><td>2</td><td>2011-01-22</td><td>25.00</td><td>2300.00</td></tr><tr><td>2</td><td>2011-01-22</td><td>25.00</td><td>2300.00</td></tr><tr><td>2</td><td>2011-01-22</td><td>25.00</td><td>2300.00</td></tr><tr><td>2</td><td>2011-01-22</td><td>25.00</td><td>2300.00</td></tr><tr><td>2</td><td>2011-01-23</td><td>125.00</td><td>2800.00</td></tr><tr><td>2</td><td>2011-01-23</td><td>125.00</td><td>2800.00</td></tr><tr><td>2</td><td>2011-01-23</td><td>125.00</td><td>2800.00</td></tr><tr><td>2</td><td>2011-01-23</td><td>125.00</td><td>2800.00</td></tr><tr><td>2</td><td>2011-01-26</td><td>200.00</td><td>3600.00</td></tr><tr><td>2</td><td>2011-01-26</td><td>200.00</td><td>3600.00</td></tr><tr><td>2</td><td>2011-01-26</td><td>200.00</td><td>3600.00</td></tr><tr><td>2</td><td>2011-01-26</td><td>200.00</td><td>3600.00</td></tr><tr><td>2</td><td>2011-01-29</td><td>250.00</td><td>4600.00</td></tr><tr><td>2</td><td>2011-01-29</td><td>250.00</td><td>4600.00</td></tr><tr><td>2</td><td>2011-01-29</td><td>250.00</td><td>4600.00</td></tr><tr><td>2</td><td>2011-01-29</td><td>250.00</td><td>4600.00</td></tr><tr><td>3</td><td>2011-01-01</td><td>500.00</td><td>2000.00</td></tr><tr><td>3</td><td>2011-01-01</td><td>500.00</td><td>2000.00</td></tr><tr><td>3</td><td>2011-01-01</td><td>500.00</td><td>2000.00</td></tr><tr><td>3</td><td>2011-01-01</td><td>500.00</td><td>2000.00</td></tr><tr><td>3</td><td>2011-01-15</td><td>50.00</td><td>2200.00</td></tr><tr><td>3</td><td>2011-01-15</td><td>50.00</td><td>2200.00</td></tr><tr><td>3</td><td>2011-01-15</td><td>50.00</td><td>2200.00</td></tr><tr><td>3</td><td>2011-01-15</td><td>50.00</td><td>2200.00</td></tr><tr><td>3</td><td>2011-01-22</td><td>5000.00</td><td>22200.00</td></tr><tr><td>3</td><td>2011-01-22</td><td>5000.00</td><td>22200.00</td></tr><tr><td>3</td><td>2011-01-22</td><td>5000.00</td><td>22200.00</td></tr><tr><td>3</td><td>2011-01-22</td><td>5000.00</td><td>22200.00</td></tr><tr><td>3</td><td>2011-01-25</td><td>550.00</td><td>24400.00</td></tr><tr><td>3</td><td>2011-01-25</td><td>550.00</td><td>24400.00</td></tr><tr><td>3</td><td>2011-01-25</td><td>550.00</td><td>24400.00</td></tr><tr><td>3</td><td>2011-01-25</td><td>550.00</td><td>24400.00</td></tr><tr><td>3</td><td>2011-01-27</td><td>95.00</td><td>24780.00</td></tr><tr><td>3</td><td>2011-01-27</td><td>95.00</td><td>24780.00</td></tr><tr><td>3</td><td>2011-01-27</td><td>95.00</td><td>24780.00</td></tr><tr><td>3</td><td>2011-01-27</td><td>95.00</td><td>24780.00</td></tr><tr><td>3</td><td>2011-01-30</td><td>2500.00</td><td>34780.00</td></tr><tr><td>3</td><td>2011-01-30</td><td>2500.00</td><td>34780.00</td></tr><tr><td>3</td><td>2011-01-30</td><td>2500.00</td><td>34780.00</td></tr><tr><td>3</td><td>2011-01-30</td><td>2500.00</td><td>34780.00</td></tr></tbody></table></div>"
      ]
     },
     "metadata": {
      "application/vnd.databricks.v1+output": {
       "addedWidgets": {},
       "aggData": [],
       "aggError": "",
       "aggOverflow": false,
       "aggSchema": [],
       "aggSeriesLimitReached": false,
       "aggType": "",
       "arguments": {},
       "columnCustomDisplayInfos": {},
       "data": [
        [
         1,
         "2011-01-01",
         "500.00",
         "2000.00"
        ],
        [
         1,
         "2011-01-01",
         "500.00",
         "2000.00"
        ],
        [
         1,
         "2011-01-01",
         "500.00",
         "2000.00"
        ],
        [
         1,
         "2011-01-01",
         "500.00",
         "2000.00"
        ],
        [
         1,
         "2011-01-15",
         "50.00",
         "2200.00"
        ],
        [
         1,
         "2011-01-15",
         "50.00",
         "2200.00"
        ],
        [
         1,
         "2011-01-15",
         "50.00",
         "2200.00"
        ],
        [
         1,
         "2011-01-15",
         "50.00",
         "2200.00"
        ],
        [
         1,
         "2011-01-22",
         "250.00",
         "3200.00"
        ],
        [
         1,
         "2011-01-22",
         "250.00",
         "3200.00"
        ],
        [
         1,
         "2011-01-22",
         "250.00",
         "3200.00"
        ],
        [
         1,
         "2011-01-22",
         "250.00",
         "3200.00"
        ],
        [
         1,
         "2011-01-24",
         "75.00",
         "3500.00"
        ],
        [
         1,
         "2011-01-24",
         "75.00",
         "3500.00"
        ],
        [
         1,
         "2011-01-24",
         "75.00",
         "3500.00"
        ],
        [
         1,
         "2011-01-24",
         "75.00",
         "3500.00"
        ],
        [
         1,
         "2011-01-26",
         "125.00",
         "4000.00"
        ],
        [
         1,
         "2011-01-26",
         "125.00",
         "4000.00"
        ],
        [
         1,
         "2011-01-26",
         "125.00",
         "4000.00"
        ],
        [
         1,
         "2011-01-26",
         "125.00",
         "4000.00"
        ],
        [
         1,
         "2011-01-28",
         "175.00",
         "4700.00"
        ],
        [
         1,
         "2011-01-28",
         "175.00",
         "4700.00"
        ],
        [
         1,
         "2011-01-28",
         "175.00",
         "4700.00"
        ],
        [
         1,
         "2011-01-28",
         "175.00",
         "4700.00"
        ],
        [
         2,
         "2011-01-01",
         "500.00",
         "2000.00"
        ],
        [
         2,
         "2011-01-01",
         "500.00",
         "2000.00"
        ],
        [
         2,
         "2011-01-01",
         "500.00",
         "2000.00"
        ],
        [
         2,
         "2011-01-01",
         "500.00",
         "2000.00"
        ],
        [
         2,
         "2011-01-15",
         "50.00",
         "2200.00"
        ],
        [
         2,
         "2011-01-15",
         "50.00",
         "2200.00"
        ],
        [
         2,
         "2011-01-15",
         "50.00",
         "2200.00"
        ],
        [
         2,
         "2011-01-15",
         "50.00",
         "2200.00"
        ],
        [
         2,
         "2011-01-22",
         "25.00",
         "2300.00"
        ],
        [
         2,
         "2011-01-22",
         "25.00",
         "2300.00"
        ],
        [
         2,
         "2011-01-22",
         "25.00",
         "2300.00"
        ],
        [
         2,
         "2011-01-22",
         "25.00",
         "2300.00"
        ],
        [
         2,
         "2011-01-23",
         "125.00",
         "2800.00"
        ],
        [
         2,
         "2011-01-23",
         "125.00",
         "2800.00"
        ],
        [
         2,
         "2011-01-23",
         "125.00",
         "2800.00"
        ],
        [
         2,
         "2011-01-23",
         "125.00",
         "2800.00"
        ],
        [
         2,
         "2011-01-26",
         "200.00",
         "3600.00"
        ],
        [
         2,
         "2011-01-26",
         "200.00",
         "3600.00"
        ],
        [
         2,
         "2011-01-26",
         "200.00",
         "3600.00"
        ],
        [
         2,
         "2011-01-26",
         "200.00",
         "3600.00"
        ],
        [
         2,
         "2011-01-29",
         "250.00",
         "4600.00"
        ],
        [
         2,
         "2011-01-29",
         "250.00",
         "4600.00"
        ],
        [
         2,
         "2011-01-29",
         "250.00",
         "4600.00"
        ],
        [
         2,
         "2011-01-29",
         "250.00",
         "4600.00"
        ],
        [
         3,
         "2011-01-01",
         "500.00",
         "2000.00"
        ],
        [
         3,
         "2011-01-01",
         "500.00",
         "2000.00"
        ],
        [
         3,
         "2011-01-01",
         "500.00",
         "2000.00"
        ],
        [
         3,
         "2011-01-01",
         "500.00",
         "2000.00"
        ],
        [
         3,
         "2011-01-15",
         "50.00",
         "2200.00"
        ],
        [
         3,
         "2011-01-15",
         "50.00",
         "2200.00"
        ],
        [
         3,
         "2011-01-15",
         "50.00",
         "2200.00"
        ],
        [
         3,
         "2011-01-15",
         "50.00",
         "2200.00"
        ],
        [
         3,
         "2011-01-22",
         "5000.00",
         "22200.00"
        ],
        [
         3,
         "2011-01-22",
         "5000.00",
         "22200.00"
        ],
        [
         3,
         "2011-01-22",
         "5000.00",
         "22200.00"
        ],
        [
         3,
         "2011-01-22",
         "5000.00",
         "22200.00"
        ],
        [
         3,
         "2011-01-25",
         "550.00",
         "24400.00"
        ],
        [
         3,
         "2011-01-25",
         "550.00",
         "24400.00"
        ],
        [
         3,
         "2011-01-25",
         "550.00",
         "24400.00"
        ],
        [
         3,
         "2011-01-25",
         "550.00",
         "24400.00"
        ],
        [
         3,
         "2011-01-27",
         "95.00",
         "24780.00"
        ],
        [
         3,
         "2011-01-27",
         "95.00",
         "24780.00"
        ],
        [
         3,
         "2011-01-27",
         "95.00",
         "24780.00"
        ],
        [
         3,
         "2011-01-27",
         "95.00",
         "24780.00"
        ],
        [
         3,
         "2011-01-30",
         "2500.00",
         "34780.00"
        ],
        [
         3,
         "2011-01-30",
         "2500.00",
         "34780.00"
        ],
        [
         3,
         "2011-01-30",
         "2500.00",
         "34780.00"
        ],
        [
         3,
         "2011-01-30",
         "2500.00",
         "34780.00"
        ]
       ],
       "datasetInfos": [],
       "dbfsResultPath": null,
       "isJsonSchema": true,
       "metadata": {},
       "overflow": false,
       "plotOptions": {
        "customPlotOptions": {},
        "displayType": "table",
        "pivotAggregation": null,
        "pivotColumns": null,
        "xColumns": null,
        "yColumns": null
       },
       "removedWidgets": [],
       "schema": [
        {
         "metadata": "{}",
         "name": "Account",
         "type": "\"integer\""
        },
        {
         "metadata": "{}",
         "name": "TranDate",
         "type": "\"date\""
        },
        {
         "metadata": "{}",
         "name": "TranAmt",
         "type": "\"decimal(8,2)\""
        },
        {
         "metadata": "{}",
         "name": "RunTotalAmt",
         "type": "\"decimal(18,2)\""
        }
       ],
       "type": "table"
      }
     },
     "output_type": "display_data"
    }
   ],
   "source": [
    "%sql\n",
    "\n",
    "SELECT Account,\n",
    "TranDate,\n",
    "TranAmt,\n",
    "-- running total of all transactions\n",
    "SUM(TranAmt) OVER (PARTITION BY Account ORDER BY TranDate) as RunTotalAmt\n",
    "FROM Sample.Transactions ORDER BY Account, TranDate;"
   ]
  },
  {
   "cell_type": "code",
   "execution_count": 0,
   "metadata": {
    "application/vnd.databricks.v1+cell": {
     "cellMetadata": {
      "byteLimit": 2048000,
      "rowLimit": 10000
     },
     "inputWidgets": {},
     "nuid": "8fb22698-bead-4931-a73d-1f6c06457048",
     "showTitle": false,
     "tableResultSettingsMap": {},
     "title": ""
    }
   },
   "outputs": [
    {
     "output_type": "stream",
     "name": "stdout",
     "output_type": "stream",
     "text": [
      "+-------+----------+-------+-----------+\n|Account|  TranDate|TranAmt|RunTotalAmt|\n+-------+----------+-------+-----------+\n|      1|2011-01-01| 500.00|    2000.00|\n|      1|2011-01-01| 500.00|    2000.00|\n|      1|2011-01-01| 500.00|    2000.00|\n|      1|2011-01-01| 500.00|    2000.00|\n|      1|2011-01-15|  50.00|    2200.00|\n|      1|2011-01-15|  50.00|    2200.00|\n|      1|2011-01-15|  50.00|    2200.00|\n|      1|2011-01-15|  50.00|    2200.00|\n|      1|2011-01-22| 250.00|    3200.00|\n|      1|2011-01-22| 250.00|    3200.00|\n|      1|2011-01-22| 250.00|    3200.00|\n|      1|2011-01-22| 250.00|    3200.00|\n|      1|2011-01-24|  75.00|    3500.00|\n|      1|2011-01-24|  75.00|    3500.00|\n|      1|2011-01-24|  75.00|    3500.00|\n|      1|2011-01-24|  75.00|    3500.00|\n|      1|2011-01-26| 125.00|    4000.00|\n|      1|2011-01-26| 125.00|    4000.00|\n|      1|2011-01-26| 125.00|    4000.00|\n|      1|2011-01-26| 125.00|    4000.00|\n+-------+----------+-------+-----------+\nonly showing top 20 rows\n\n"
     ]
    }
   ],
   "source": [
    "from pyspark.sql import functions as F\n",
    "from pyspark.sql.window import Window\n",
    "df = spark.sql(\"SELECT * FROM Sample.Transactions\")\n",
    "# Definiujemy okno (partition by Account, order by TranDate)\n",
    "windowSpec = Window.partitionBy(\"Account\").orderBy(\"TranDate\")\n",
    "\n",
    "# Obliczamy sumę transakcji dla każdego konta w danym porządku\n",
    "df_with_run_total = df.withColumn(\"RunTotalAmt\", F.sum(\"TranAmt\").over(windowSpec))\n",
    "\n",
    "df_with_run_total.show()\n"
   ]
  },
  {
   "cell_type": "code",
   "execution_count": 0,
   "metadata": {
    "application/vnd.databricks.v1+cell": {
     "cellMetadata": {
      "byteLimit": 2048000,
      "implicitDf": true,
      "rowLimit": 10000
     },
     "inputWidgets": {},
     "nuid": "a407493d-07eb-4953-955f-fbf44b1c53ce",
     "showTitle": false,
     "tableResultSettingsMap": {},
     "title": ""
    }
   },
   "outputs": [
    {
     "output_type": "display_data",
     "data": {
      "text/html": [
       "<style scoped>\n",
       "  .table-result-container {\n",
       "    max-height: 300px;\n",
       "    overflow: auto;\n",
       "  }\n",
       "  table, th, td {\n",
       "    border: 1px solid black;\n",
       "    border-collapse: collapse;\n",
       "  }\n",
       "  th, td {\n",
       "    padding: 5px;\n",
       "  }\n",
       "  th {\n",
       "    text-align: left;\n",
       "  }\n",
       "</style><div class='table-result-container'><table class='table-result'><thead style='background-color: white'><tr><th>Account</th><th>TranDate</th><th>TranAmt</th><th>RunAvg</th><th>RunTranQty</th><th>RunSmallAmt</th><th>RunLargeAmt</th><th>RunTotalAmt</th></tr></thead><tbody><tr><td>1</td><td>2011-01-01</td><td>500.00</td><td>500.000000</td><td>4</td><td>500.00</td><td>500.00</td><td>2000.00</td></tr><tr><td>1</td><td>2011-01-01</td><td>500.00</td><td>500.000000</td><td>4</td><td>500.00</td><td>500.00</td><td>2000.00</td></tr><tr><td>1</td><td>2011-01-01</td><td>500.00</td><td>500.000000</td><td>4</td><td>500.00</td><td>500.00</td><td>2000.00</td></tr><tr><td>1</td><td>2011-01-01</td><td>500.00</td><td>500.000000</td><td>4</td><td>500.00</td><td>500.00</td><td>2000.00</td></tr><tr><td>1</td><td>2011-01-15</td><td>50.00</td><td>275.000000</td><td>8</td><td>50.00</td><td>500.00</td><td>2200.00</td></tr><tr><td>1</td><td>2011-01-15</td><td>50.00</td><td>275.000000</td><td>8</td><td>50.00</td><td>500.00</td><td>2200.00</td></tr><tr><td>1</td><td>2011-01-15</td><td>50.00</td><td>275.000000</td><td>8</td><td>50.00</td><td>500.00</td><td>2200.00</td></tr><tr><td>1</td><td>2011-01-15</td><td>50.00</td><td>275.000000</td><td>8</td><td>50.00</td><td>500.00</td><td>2200.00</td></tr><tr><td>1</td><td>2011-01-22</td><td>250.00</td><td>266.666667</td><td>12</td><td>50.00</td><td>500.00</td><td>3200.00</td></tr><tr><td>1</td><td>2011-01-22</td><td>250.00</td><td>266.666667</td><td>12</td><td>50.00</td><td>500.00</td><td>3200.00</td></tr><tr><td>1</td><td>2011-01-22</td><td>250.00</td><td>266.666667</td><td>12</td><td>50.00</td><td>500.00</td><td>3200.00</td></tr><tr><td>1</td><td>2011-01-22</td><td>250.00</td><td>266.666667</td><td>12</td><td>50.00</td><td>500.00</td><td>3200.00</td></tr><tr><td>1</td><td>2011-01-24</td><td>75.00</td><td>218.750000</td><td>16</td><td>50.00</td><td>500.00</td><td>3500.00</td></tr><tr><td>1</td><td>2011-01-24</td><td>75.00</td><td>218.750000</td><td>16</td><td>50.00</td><td>500.00</td><td>3500.00</td></tr><tr><td>1</td><td>2011-01-24</td><td>75.00</td><td>218.750000</td><td>16</td><td>50.00</td><td>500.00</td><td>3500.00</td></tr><tr><td>1</td><td>2011-01-24</td><td>75.00</td><td>218.750000</td><td>16</td><td>50.00</td><td>500.00</td><td>3500.00</td></tr><tr><td>1</td><td>2011-01-26</td><td>125.00</td><td>200.000000</td><td>20</td><td>50.00</td><td>500.00</td><td>4000.00</td></tr><tr><td>1</td><td>2011-01-26</td><td>125.00</td><td>200.000000</td><td>20</td><td>50.00</td><td>500.00</td><td>4000.00</td></tr><tr><td>1</td><td>2011-01-26</td><td>125.00</td><td>200.000000</td><td>20</td><td>50.00</td><td>500.00</td><td>4000.00</td></tr><tr><td>1</td><td>2011-01-26</td><td>125.00</td><td>200.000000</td><td>20</td><td>50.00</td><td>500.00</td><td>4000.00</td></tr><tr><td>1</td><td>2011-01-28</td><td>175.00</td><td>195.833333</td><td>24</td><td>50.00</td><td>500.00</td><td>4700.00</td></tr><tr><td>1</td><td>2011-01-28</td><td>175.00</td><td>195.833333</td><td>24</td><td>50.00</td><td>500.00</td><td>4700.00</td></tr><tr><td>1</td><td>2011-01-28</td><td>175.00</td><td>195.833333</td><td>24</td><td>50.00</td><td>500.00</td><td>4700.00</td></tr><tr><td>1</td><td>2011-01-28</td><td>175.00</td><td>195.833333</td><td>24</td><td>50.00</td><td>500.00</td><td>4700.00</td></tr><tr><td>2</td><td>2011-01-01</td><td>500.00</td><td>500.000000</td><td>4</td><td>500.00</td><td>500.00</td><td>2000.00</td></tr><tr><td>2</td><td>2011-01-01</td><td>500.00</td><td>500.000000</td><td>4</td><td>500.00</td><td>500.00</td><td>2000.00</td></tr><tr><td>2</td><td>2011-01-01</td><td>500.00</td><td>500.000000</td><td>4</td><td>500.00</td><td>500.00</td><td>2000.00</td></tr><tr><td>2</td><td>2011-01-01</td><td>500.00</td><td>500.000000</td><td>4</td><td>500.00</td><td>500.00</td><td>2000.00</td></tr><tr><td>2</td><td>2011-01-15</td><td>50.00</td><td>275.000000</td><td>8</td><td>50.00</td><td>500.00</td><td>2200.00</td></tr><tr><td>2</td><td>2011-01-15</td><td>50.00</td><td>275.000000</td><td>8</td><td>50.00</td><td>500.00</td><td>2200.00</td></tr><tr><td>2</td><td>2011-01-15</td><td>50.00</td><td>275.000000</td><td>8</td><td>50.00</td><td>500.00</td><td>2200.00</td></tr><tr><td>2</td><td>2011-01-15</td><td>50.00</td><td>275.000000</td><td>8</td><td>50.00</td><td>500.00</td><td>2200.00</td></tr><tr><td>2</td><td>2011-01-22</td><td>25.00</td><td>191.666667</td><td>12</td><td>25.00</td><td>500.00</td><td>2300.00</td></tr><tr><td>2</td><td>2011-01-22</td><td>25.00</td><td>191.666667</td><td>12</td><td>25.00</td><td>500.00</td><td>2300.00</td></tr><tr><td>2</td><td>2011-01-22</td><td>25.00</td><td>191.666667</td><td>12</td><td>25.00</td><td>500.00</td><td>2300.00</td></tr><tr><td>2</td><td>2011-01-22</td><td>25.00</td><td>191.666667</td><td>12</td><td>25.00</td><td>500.00</td><td>2300.00</td></tr><tr><td>2</td><td>2011-01-23</td><td>125.00</td><td>175.000000</td><td>16</td><td>25.00</td><td>500.00</td><td>2800.00</td></tr><tr><td>2</td><td>2011-01-23</td><td>125.00</td><td>175.000000</td><td>16</td><td>25.00</td><td>500.00</td><td>2800.00</td></tr><tr><td>2</td><td>2011-01-23</td><td>125.00</td><td>175.000000</td><td>16</td><td>25.00</td><td>500.00</td><td>2800.00</td></tr><tr><td>2</td><td>2011-01-23</td><td>125.00</td><td>175.000000</td><td>16</td><td>25.00</td><td>500.00</td><td>2800.00</td></tr><tr><td>2</td><td>2011-01-26</td><td>200.00</td><td>180.000000</td><td>20</td><td>25.00</td><td>500.00</td><td>3600.00</td></tr><tr><td>2</td><td>2011-01-26</td><td>200.00</td><td>180.000000</td><td>20</td><td>25.00</td><td>500.00</td><td>3600.00</td></tr><tr><td>2</td><td>2011-01-26</td><td>200.00</td><td>180.000000</td><td>20</td><td>25.00</td><td>500.00</td><td>3600.00</td></tr><tr><td>2</td><td>2011-01-26</td><td>200.00</td><td>180.000000</td><td>20</td><td>25.00</td><td>500.00</td><td>3600.00</td></tr><tr><td>2</td><td>2011-01-29</td><td>250.00</td><td>191.666667</td><td>24</td><td>25.00</td><td>500.00</td><td>4600.00</td></tr><tr><td>2</td><td>2011-01-29</td><td>250.00</td><td>191.666667</td><td>24</td><td>25.00</td><td>500.00</td><td>4600.00</td></tr><tr><td>2</td><td>2011-01-29</td><td>250.00</td><td>191.666667</td><td>24</td><td>25.00</td><td>500.00</td><td>4600.00</td></tr><tr><td>2</td><td>2011-01-29</td><td>250.00</td><td>191.666667</td><td>24</td><td>25.00</td><td>500.00</td><td>4600.00</td></tr><tr><td>3</td><td>2011-01-01</td><td>500.00</td><td>500.000000</td><td>4</td><td>500.00</td><td>500.00</td><td>2000.00</td></tr><tr><td>3</td><td>2011-01-01</td><td>500.00</td><td>500.000000</td><td>4</td><td>500.00</td><td>500.00</td><td>2000.00</td></tr><tr><td>3</td><td>2011-01-01</td><td>500.00</td><td>500.000000</td><td>4</td><td>500.00</td><td>500.00</td><td>2000.00</td></tr><tr><td>3</td><td>2011-01-01</td><td>500.00</td><td>500.000000</td><td>4</td><td>500.00</td><td>500.00</td><td>2000.00</td></tr><tr><td>3</td><td>2011-01-15</td><td>50.00</td><td>275.000000</td><td>8</td><td>50.00</td><td>500.00</td><td>2200.00</td></tr><tr><td>3</td><td>2011-01-15</td><td>50.00</td><td>275.000000</td><td>8</td><td>50.00</td><td>500.00</td><td>2200.00</td></tr><tr><td>3</td><td>2011-01-15</td><td>50.00</td><td>275.000000</td><td>8</td><td>50.00</td><td>500.00</td><td>2200.00</td></tr><tr><td>3</td><td>2011-01-15</td><td>50.00</td><td>275.000000</td><td>8</td><td>50.00</td><td>500.00</td><td>2200.00</td></tr><tr><td>3</td><td>2011-01-22</td><td>5000.00</td><td>1850.000000</td><td>12</td><td>50.00</td><td>5000.00</td><td>22200.00</td></tr><tr><td>3</td><td>2011-01-22</td><td>5000.00</td><td>1850.000000</td><td>12</td><td>50.00</td><td>5000.00</td><td>22200.00</td></tr><tr><td>3</td><td>2011-01-22</td><td>5000.00</td><td>1850.000000</td><td>12</td><td>50.00</td><td>5000.00</td><td>22200.00</td></tr><tr><td>3</td><td>2011-01-22</td><td>5000.00</td><td>1850.000000</td><td>12</td><td>50.00</td><td>5000.00</td><td>22200.00</td></tr><tr><td>3</td><td>2011-01-25</td><td>550.00</td><td>1525.000000</td><td>16</td><td>50.00</td><td>5000.00</td><td>24400.00</td></tr><tr><td>3</td><td>2011-01-25</td><td>550.00</td><td>1525.000000</td><td>16</td><td>50.00</td><td>5000.00</td><td>24400.00</td></tr><tr><td>3</td><td>2011-01-25</td><td>550.00</td><td>1525.000000</td><td>16</td><td>50.00</td><td>5000.00</td><td>24400.00</td></tr><tr><td>3</td><td>2011-01-25</td><td>550.00</td><td>1525.000000</td><td>16</td><td>50.00</td><td>5000.00</td><td>24400.00</td></tr><tr><td>3</td><td>2011-01-27</td><td>95.00</td><td>1239.000000</td><td>20</td><td>50.00</td><td>5000.00</td><td>24780.00</td></tr><tr><td>3</td><td>2011-01-27</td><td>95.00</td><td>1239.000000</td><td>20</td><td>50.00</td><td>5000.00</td><td>24780.00</td></tr><tr><td>3</td><td>2011-01-27</td><td>95.00</td><td>1239.000000</td><td>20</td><td>50.00</td><td>5000.00</td><td>24780.00</td></tr><tr><td>3</td><td>2011-01-27</td><td>95.00</td><td>1239.000000</td><td>20</td><td>50.00</td><td>5000.00</td><td>24780.00</td></tr><tr><td>3</td><td>2011-01-30</td><td>2500.00</td><td>1449.166667</td><td>24</td><td>50.00</td><td>5000.00</td><td>34780.00</td></tr><tr><td>3</td><td>2011-01-30</td><td>2500.00</td><td>1449.166667</td><td>24</td><td>50.00</td><td>5000.00</td><td>34780.00</td></tr><tr><td>3</td><td>2011-01-30</td><td>2500.00</td><td>1449.166667</td><td>24</td><td>50.00</td><td>5000.00</td><td>34780.00</td></tr><tr><td>3</td><td>2011-01-30</td><td>2500.00</td><td>1449.166667</td><td>24</td><td>50.00</td><td>5000.00</td><td>34780.00</td></tr></tbody></table></div>"
      ]
     },
     "metadata": {
      "application/vnd.databricks.v1+output": {
       "addedWidgets": {},
       "aggData": [],
       "aggError": "",
       "aggOverflow": false,
       "aggSchema": [],
       "aggSeriesLimitReached": false,
       "aggType": "",
       "arguments": {},
       "columnCustomDisplayInfos": {},
       "data": [
        [
         1,
         "2011-01-01",
         "500.00",
         "500.000000",
         4,
         "500.00",
         "500.00",
         "2000.00"
        ],
        [
         1,
         "2011-01-01",
         "500.00",
         "500.000000",
         4,
         "500.00",
         "500.00",
         "2000.00"
        ],
        [
         1,
         "2011-01-01",
         "500.00",
         "500.000000",
         4,
         "500.00",
         "500.00",
         "2000.00"
        ],
        [
         1,
         "2011-01-01",
         "500.00",
         "500.000000",
         4,
         "500.00",
         "500.00",
         "2000.00"
        ],
        [
         1,
         "2011-01-15",
         "50.00",
         "275.000000",
         8,
         "50.00",
         "500.00",
         "2200.00"
        ],
        [
         1,
         "2011-01-15",
         "50.00",
         "275.000000",
         8,
         "50.00",
         "500.00",
         "2200.00"
        ],
        [
         1,
         "2011-01-15",
         "50.00",
         "275.000000",
         8,
         "50.00",
         "500.00",
         "2200.00"
        ],
        [
         1,
         "2011-01-15",
         "50.00",
         "275.000000",
         8,
         "50.00",
         "500.00",
         "2200.00"
        ],
        [
         1,
         "2011-01-22",
         "250.00",
         "266.666667",
         12,
         "50.00",
         "500.00",
         "3200.00"
        ],
        [
         1,
         "2011-01-22",
         "250.00",
         "266.666667",
         12,
         "50.00",
         "500.00",
         "3200.00"
        ],
        [
         1,
         "2011-01-22",
         "250.00",
         "266.666667",
         12,
         "50.00",
         "500.00",
         "3200.00"
        ],
        [
         1,
         "2011-01-22",
         "250.00",
         "266.666667",
         12,
         "50.00",
         "500.00",
         "3200.00"
        ],
        [
         1,
         "2011-01-24",
         "75.00",
         "218.750000",
         16,
         "50.00",
         "500.00",
         "3500.00"
        ],
        [
         1,
         "2011-01-24",
         "75.00",
         "218.750000",
         16,
         "50.00",
         "500.00",
         "3500.00"
        ],
        [
         1,
         "2011-01-24",
         "75.00",
         "218.750000",
         16,
         "50.00",
         "500.00",
         "3500.00"
        ],
        [
         1,
         "2011-01-24",
         "75.00",
         "218.750000",
         16,
         "50.00",
         "500.00",
         "3500.00"
        ],
        [
         1,
         "2011-01-26",
         "125.00",
         "200.000000",
         20,
         "50.00",
         "500.00",
         "4000.00"
        ],
        [
         1,
         "2011-01-26",
         "125.00",
         "200.000000",
         20,
         "50.00",
         "500.00",
         "4000.00"
        ],
        [
         1,
         "2011-01-26",
         "125.00",
         "200.000000",
         20,
         "50.00",
         "500.00",
         "4000.00"
        ],
        [
         1,
         "2011-01-26",
         "125.00",
         "200.000000",
         20,
         "50.00",
         "500.00",
         "4000.00"
        ],
        [
         1,
         "2011-01-28",
         "175.00",
         "195.833333",
         24,
         "50.00",
         "500.00",
         "4700.00"
        ],
        [
         1,
         "2011-01-28",
         "175.00",
         "195.833333",
         24,
         "50.00",
         "500.00",
         "4700.00"
        ],
        [
         1,
         "2011-01-28",
         "175.00",
         "195.833333",
         24,
         "50.00",
         "500.00",
         "4700.00"
        ],
        [
         1,
         "2011-01-28",
         "175.00",
         "195.833333",
         24,
         "50.00",
         "500.00",
         "4700.00"
        ],
        [
         2,
         "2011-01-01",
         "500.00",
         "500.000000",
         4,
         "500.00",
         "500.00",
         "2000.00"
        ],
        [
         2,
         "2011-01-01",
         "500.00",
         "500.000000",
         4,
         "500.00",
         "500.00",
         "2000.00"
        ],
        [
         2,
         "2011-01-01",
         "500.00",
         "500.000000",
         4,
         "500.00",
         "500.00",
         "2000.00"
        ],
        [
         2,
         "2011-01-01",
         "500.00",
         "500.000000",
         4,
         "500.00",
         "500.00",
         "2000.00"
        ],
        [
         2,
         "2011-01-15",
         "50.00",
         "275.000000",
         8,
         "50.00",
         "500.00",
         "2200.00"
        ],
        [
         2,
         "2011-01-15",
         "50.00",
         "275.000000",
         8,
         "50.00",
         "500.00",
         "2200.00"
        ],
        [
         2,
         "2011-01-15",
         "50.00",
         "275.000000",
         8,
         "50.00",
         "500.00",
         "2200.00"
        ],
        [
         2,
         "2011-01-15",
         "50.00",
         "275.000000",
         8,
         "50.00",
         "500.00",
         "2200.00"
        ],
        [
         2,
         "2011-01-22",
         "25.00",
         "191.666667",
         12,
         "25.00",
         "500.00",
         "2300.00"
        ],
        [
         2,
         "2011-01-22",
         "25.00",
         "191.666667",
         12,
         "25.00",
         "500.00",
         "2300.00"
        ],
        [
         2,
         "2011-01-22",
         "25.00",
         "191.666667",
         12,
         "25.00",
         "500.00",
         "2300.00"
        ],
        [
         2,
         "2011-01-22",
         "25.00",
         "191.666667",
         12,
         "25.00",
         "500.00",
         "2300.00"
        ],
        [
         2,
         "2011-01-23",
         "125.00",
         "175.000000",
         16,
         "25.00",
         "500.00",
         "2800.00"
        ],
        [
         2,
         "2011-01-23",
         "125.00",
         "175.000000",
         16,
         "25.00",
         "500.00",
         "2800.00"
        ],
        [
         2,
         "2011-01-23",
         "125.00",
         "175.000000",
         16,
         "25.00",
         "500.00",
         "2800.00"
        ],
        [
         2,
         "2011-01-23",
         "125.00",
         "175.000000",
         16,
         "25.00",
         "500.00",
         "2800.00"
        ],
        [
         2,
         "2011-01-26",
         "200.00",
         "180.000000",
         20,
         "25.00",
         "500.00",
         "3600.00"
        ],
        [
         2,
         "2011-01-26",
         "200.00",
         "180.000000",
         20,
         "25.00",
         "500.00",
         "3600.00"
        ],
        [
         2,
         "2011-01-26",
         "200.00",
         "180.000000",
         20,
         "25.00",
         "500.00",
         "3600.00"
        ],
        [
         2,
         "2011-01-26",
         "200.00",
         "180.000000",
         20,
         "25.00",
         "500.00",
         "3600.00"
        ],
        [
         2,
         "2011-01-29",
         "250.00",
         "191.666667",
         24,
         "25.00",
         "500.00",
         "4600.00"
        ],
        [
         2,
         "2011-01-29",
         "250.00",
         "191.666667",
         24,
         "25.00",
         "500.00",
         "4600.00"
        ],
        [
         2,
         "2011-01-29",
         "250.00",
         "191.666667",
         24,
         "25.00",
         "500.00",
         "4600.00"
        ],
        [
         2,
         "2011-01-29",
         "250.00",
         "191.666667",
         24,
         "25.00",
         "500.00",
         "4600.00"
        ],
        [
         3,
         "2011-01-01",
         "500.00",
         "500.000000",
         4,
         "500.00",
         "500.00",
         "2000.00"
        ],
        [
         3,
         "2011-01-01",
         "500.00",
         "500.000000",
         4,
         "500.00",
         "500.00",
         "2000.00"
        ],
        [
         3,
         "2011-01-01",
         "500.00",
         "500.000000",
         4,
         "500.00",
         "500.00",
         "2000.00"
        ],
        [
         3,
         "2011-01-01",
         "500.00",
         "500.000000",
         4,
         "500.00",
         "500.00",
         "2000.00"
        ],
        [
         3,
         "2011-01-15",
         "50.00",
         "275.000000",
         8,
         "50.00",
         "500.00",
         "2200.00"
        ],
        [
         3,
         "2011-01-15",
         "50.00",
         "275.000000",
         8,
         "50.00",
         "500.00",
         "2200.00"
        ],
        [
         3,
         "2011-01-15",
         "50.00",
         "275.000000",
         8,
         "50.00",
         "500.00",
         "2200.00"
        ],
        [
         3,
         "2011-01-15",
         "50.00",
         "275.000000",
         8,
         "50.00",
         "500.00",
         "2200.00"
        ],
        [
         3,
         "2011-01-22",
         "5000.00",
         "1850.000000",
         12,
         "50.00",
         "5000.00",
         "22200.00"
        ],
        [
         3,
         "2011-01-22",
         "5000.00",
         "1850.000000",
         12,
         "50.00",
         "5000.00",
         "22200.00"
        ],
        [
         3,
         "2011-01-22",
         "5000.00",
         "1850.000000",
         12,
         "50.00",
         "5000.00",
         "22200.00"
        ],
        [
         3,
         "2011-01-22",
         "5000.00",
         "1850.000000",
         12,
         "50.00",
         "5000.00",
         "22200.00"
        ],
        [
         3,
         "2011-01-25",
         "550.00",
         "1525.000000",
         16,
         "50.00",
         "5000.00",
         "24400.00"
        ],
        [
         3,
         "2011-01-25",
         "550.00",
         "1525.000000",
         16,
         "50.00",
         "5000.00",
         "24400.00"
        ],
        [
         3,
         "2011-01-25",
         "550.00",
         "1525.000000",
         16,
         "50.00",
         "5000.00",
         "24400.00"
        ],
        [
         3,
         "2011-01-25",
         "550.00",
         "1525.000000",
         16,
         "50.00",
         "5000.00",
         "24400.00"
        ],
        [
         3,
         "2011-01-27",
         "95.00",
         "1239.000000",
         20,
         "50.00",
         "5000.00",
         "24780.00"
        ],
        [
         3,
         "2011-01-27",
         "95.00",
         "1239.000000",
         20,
         "50.00",
         "5000.00",
         "24780.00"
        ],
        [
         3,
         "2011-01-27",
         "95.00",
         "1239.000000",
         20,
         "50.00",
         "5000.00",
         "24780.00"
        ],
        [
         3,
         "2011-01-27",
         "95.00",
         "1239.000000",
         20,
         "50.00",
         "5000.00",
         "24780.00"
        ],
        [
         3,
         "2011-01-30",
         "2500.00",
         "1449.166667",
         24,
         "50.00",
         "5000.00",
         "34780.00"
        ],
        [
         3,
         "2011-01-30",
         "2500.00",
         "1449.166667",
         24,
         "50.00",
         "5000.00",
         "34780.00"
        ],
        [
         3,
         "2011-01-30",
         "2500.00",
         "1449.166667",
         24,
         "50.00",
         "5000.00",
         "34780.00"
        ],
        [
         3,
         "2011-01-30",
         "2500.00",
         "1449.166667",
         24,
         "50.00",
         "5000.00",
         "34780.00"
        ]
       ],
       "datasetInfos": [],
       "dbfsResultPath": null,
       "isJsonSchema": true,
       "metadata": {},
       "overflow": false,
       "plotOptions": {
        "customPlotOptions": {},
        "displayType": "table",
        "pivotAggregation": null,
        "pivotColumns": null,
        "xColumns": null,
        "yColumns": null
       },
       "removedWidgets": [],
       "schema": [
        {
         "metadata": "{}",
         "name": "Account",
         "type": "\"integer\""
        },
        {
         "metadata": "{}",
         "name": "TranDate",
         "type": "\"date\""
        },
        {
         "metadata": "{}",
         "name": "TranAmt",
         "type": "\"decimal(8,2)\""
        },
        {
         "metadata": "{}",
         "name": "RunAvg",
         "type": "\"decimal(12,6)\""
        },
        {
         "metadata": "{}",
         "name": "RunTranQty",
         "type": "\"long\""
        },
        {
         "metadata": "{}",
         "name": "RunSmallAmt",
         "type": "\"decimal(8,2)\""
        },
        {
         "metadata": "{}",
         "name": "RunLargeAmt",
         "type": "\"decimal(8,2)\""
        },
        {
         "metadata": "{}",
         "name": "RunTotalAmt",
         "type": "\"decimal(18,2)\""
        }
       ],
       "type": "table"
      }
     },
     "output_type": "display_data"
    }
   ],
   "source": [
    "%sql\n",
    "SELECT Account,\n",
    "TranDate,\n",
    "TranAmt,\n",
    "-- running average of all transactions\n",
    "AVG(TranAmt) OVER (PARTITION BY Account ORDER BY TranDate) as RunAvg,\n",
    "-- running total # of transactions\n",
    "COUNT(*) OVER (PARTITION BY Account ORDER BY TranDate) as RunTranQty,\n",
    "-- smallest of the transactions so far\n",
    "MIN(TranAmt) OVER (PARTITION BY Account ORDER BY TranDate) as RunSmallAmt,\n",
    "-- largest of the transactions so far\n",
    "MAX(TranAmt) OVER (PARTITION BY Account ORDER BY TranDate) as RunLargeAmt,\n",
    "-- running total of all transactions\n",
    "SUM(TranAmt) OVER (PARTITION BY Account ORDER BY TranDate) RunTotalAmt\n",
    "FROM Sample.Transactions \n",
    "ORDER BY Account,TranDate;"
   ]
  },
  {
   "cell_type": "code",
   "execution_count": 0,
   "metadata": {
    "application/vnd.databricks.v1+cell": {
     "cellMetadata": {
      "byteLimit": 2048000,
      "rowLimit": 10000
     },
     "inputWidgets": {},
     "nuid": "657eb593-463b-4a0c-ba58-36b12a9f1be0",
     "showTitle": false,
     "tableResultSettingsMap": {},
     "title": ""
    }
   },
   "outputs": [
    {
     "output_type": "stream",
     "name": "stdout",
     "output_type": "stream",
     "text": [
      "+-------+----------+-------+----------+----------+-----------+-----------+-----------+\n|Account|  TranDate|TranAmt|    RunAvg|RunTranQty|RunSmallAmt|RunLargeAmt|RunTotalAmt|\n+-------+----------+-------+----------+----------+-----------+-----------+-----------+\n|      1|2011-01-01| 500.00|500.000000|         4|     500.00|     500.00|    2000.00|\n|      1|2011-01-01| 500.00|500.000000|         4|     500.00|     500.00|    2000.00|\n|      1|2011-01-01| 500.00|500.000000|         4|     500.00|     500.00|    2000.00|\n|      1|2011-01-01| 500.00|500.000000|         4|     500.00|     500.00|    2000.00|\n|      1|2011-01-15|  50.00|275.000000|         8|      50.00|     500.00|    2200.00|\n|      1|2011-01-15|  50.00|275.000000|         8|      50.00|     500.00|    2200.00|\n|      1|2011-01-15|  50.00|275.000000|         8|      50.00|     500.00|    2200.00|\n|      1|2011-01-15|  50.00|275.000000|         8|      50.00|     500.00|    2200.00|\n|      1|2011-01-22| 250.00|266.666667|        12|      50.00|     500.00|    3200.00|\n|      1|2011-01-22| 250.00|266.666667|        12|      50.00|     500.00|    3200.00|\n|      1|2011-01-22| 250.00|266.666667|        12|      50.00|     500.00|    3200.00|\n|      1|2011-01-22| 250.00|266.666667|        12|      50.00|     500.00|    3200.00|\n|      1|2011-01-24|  75.00|218.750000|        16|      50.00|     500.00|    3500.00|\n|      1|2011-01-24|  75.00|218.750000|        16|      50.00|     500.00|    3500.00|\n|      1|2011-01-24|  75.00|218.750000|        16|      50.00|     500.00|    3500.00|\n|      1|2011-01-24|  75.00|218.750000|        16|      50.00|     500.00|    3500.00|\n|      1|2011-01-26| 125.00|200.000000|        20|      50.00|     500.00|    4000.00|\n|      1|2011-01-26| 125.00|200.000000|        20|      50.00|     500.00|    4000.00|\n|      1|2011-01-26| 125.00|200.000000|        20|      50.00|     500.00|    4000.00|\n|      1|2011-01-26| 125.00|200.000000|        20|      50.00|     500.00|    4000.00|\n+-------+----------+-------+----------+----------+-----------+-----------+-----------+\nonly showing top 20 rows\n\n"
     ]
    }
   ],
   "source": [
    "# Tworzymy okno (partition by Account, order by TranDate)\n",
    "windowSpec = Window.partitionBy(\"Account\").orderBy(\"TranDate\")\n",
    "\n",
    "# Obliczamy średnią, liczbę, minimum, maksimum i sumę transakcji\n",
    "df_with_aggregates = df.withColumn(\"RunAvg\", F.avg(\"TranAmt\").over(windowSpec)) \\\n",
    "    .withColumn(\"RunTranQty\", F.count(\"*\").over(windowSpec)) \\\n",
    "    .withColumn(\"RunSmallAmt\", F.min(\"TranAmt\").over(windowSpec)) \\\n",
    "    .withColumn(\"RunLargeAmt\", F.max(\"TranAmt\").over(windowSpec)) \\\n",
    "    .withColumn(\"RunTotalAmt\", F.sum(\"TranAmt\").over(windowSpec))\n",
    "\n",
    "df_with_aggregates.show()"
   ]
  },
  {
   "cell_type": "code",
   "execution_count": 0,
   "metadata": {
    "application/vnd.databricks.v1+cell": {
     "cellMetadata": {
      "byteLimit": 2048000,
      "implicitDf": true,
      "rowLimit": 10000
     },
     "inputWidgets": {},
     "nuid": "9dc29a40-c947-4ec3-b95b-3ab34dcf31a4",
     "showTitle": false,
     "tableResultSettingsMap": {},
     "title": ""
    }
   },
   "outputs": [
    {
     "output_type": "display_data",
     "data": {
      "text/html": [
       "<style scoped>\n",
       "  .table-result-container {\n",
       "    max-height: 300px;\n",
       "    overflow: auto;\n",
       "  }\n",
       "  table, th, td {\n",
       "    border: 1px solid black;\n",
       "    border-collapse: collapse;\n",
       "  }\n",
       "  th, td {\n",
       "    padding: 5px;\n",
       "  }\n",
       "  th {\n",
       "    text-align: left;\n",
       "  }\n",
       "</style><div class='table-result-container'><table class='table-result'><thead style='background-color: white'><tr><th>Account</th><th>TranDate</th><th>TranAmt</th><th>SlideAvg</th><th>SlideQty</th><th>SlideMin</th><th>SlideMax</th><th>SlideTotal</th><th>RN</th></tr></thead><tbody><tr><td>1</td><td>2011-01-01</td><td>500.00</td><td>500.000000</td><td>1</td><td>500.00</td><td>500.00</td><td>500.00</td><td>1</td></tr><tr><td>1</td><td>2011-01-01</td><td>500.00</td><td>500.000000</td><td>2</td><td>500.00</td><td>500.00</td><td>1000.00</td><td>2</td></tr><tr><td>1</td><td>2011-01-01</td><td>500.00</td><td>500.000000</td><td>3</td><td>500.00</td><td>500.00</td><td>1500.00</td><td>3</td></tr><tr><td>1</td><td>2011-01-01</td><td>500.00</td><td>500.000000</td><td>3</td><td>500.00</td><td>500.00</td><td>1500.00</td><td>4</td></tr><tr><td>1</td><td>2011-01-15</td><td>50.00</td><td>350.000000</td><td>3</td><td>50.00</td><td>500.00</td><td>1050.00</td><td>5</td></tr><tr><td>1</td><td>2011-01-15</td><td>50.00</td><td>200.000000</td><td>3</td><td>50.00</td><td>500.00</td><td>600.00</td><td>6</td></tr><tr><td>1</td><td>2011-01-15</td><td>50.00</td><td>50.000000</td><td>3</td><td>50.00</td><td>50.00</td><td>150.00</td><td>7</td></tr><tr><td>1</td><td>2011-01-15</td><td>50.00</td><td>50.000000</td><td>3</td><td>50.00</td><td>50.00</td><td>150.00</td><td>8</td></tr><tr><td>1</td><td>2011-01-22</td><td>250.00</td><td>116.666667</td><td>3</td><td>50.00</td><td>250.00</td><td>350.00</td><td>9</td></tr><tr><td>1</td><td>2011-01-22</td><td>250.00</td><td>183.333333</td><td>3</td><td>50.00</td><td>250.00</td><td>550.00</td><td>10</td></tr><tr><td>1</td><td>2011-01-22</td><td>250.00</td><td>250.000000</td><td>3</td><td>250.00</td><td>250.00</td><td>750.00</td><td>11</td></tr><tr><td>1</td><td>2011-01-22</td><td>250.00</td><td>250.000000</td><td>3</td><td>250.00</td><td>250.00</td><td>750.00</td><td>12</td></tr><tr><td>1</td><td>2011-01-24</td><td>75.00</td><td>191.666667</td><td>3</td><td>75.00</td><td>250.00</td><td>575.00</td><td>13</td></tr><tr><td>1</td><td>2011-01-24</td><td>75.00</td><td>133.333333</td><td>3</td><td>75.00</td><td>250.00</td><td>400.00</td><td>14</td></tr><tr><td>1</td><td>2011-01-24</td><td>75.00</td><td>75.000000</td><td>3</td><td>75.00</td><td>75.00</td><td>225.00</td><td>15</td></tr><tr><td>1</td><td>2011-01-24</td><td>75.00</td><td>75.000000</td><td>3</td><td>75.00</td><td>75.00</td><td>225.00</td><td>16</td></tr><tr><td>1</td><td>2011-01-26</td><td>125.00</td><td>91.666667</td><td>3</td><td>75.00</td><td>125.00</td><td>275.00</td><td>17</td></tr><tr><td>1</td><td>2011-01-26</td><td>125.00</td><td>108.333333</td><td>3</td><td>75.00</td><td>125.00</td><td>325.00</td><td>18</td></tr><tr><td>1</td><td>2011-01-26</td><td>125.00</td><td>125.000000</td><td>3</td><td>125.00</td><td>125.00</td><td>375.00</td><td>19</td></tr><tr><td>1</td><td>2011-01-26</td><td>125.00</td><td>125.000000</td><td>3</td><td>125.00</td><td>125.00</td><td>375.00</td><td>20</td></tr><tr><td>1</td><td>2011-01-28</td><td>175.00</td><td>141.666667</td><td>3</td><td>125.00</td><td>175.00</td><td>425.00</td><td>21</td></tr><tr><td>1</td><td>2011-01-28</td><td>175.00</td><td>158.333333</td><td>3</td><td>125.00</td><td>175.00</td><td>475.00</td><td>22</td></tr><tr><td>1</td><td>2011-01-28</td><td>175.00</td><td>175.000000</td><td>3</td><td>175.00</td><td>175.00</td><td>525.00</td><td>23</td></tr><tr><td>1</td><td>2011-01-28</td><td>175.00</td><td>175.000000</td><td>3</td><td>175.00</td><td>175.00</td><td>525.00</td><td>24</td></tr><tr><td>2</td><td>2011-01-01</td><td>500.00</td><td>500.000000</td><td>1</td><td>500.00</td><td>500.00</td><td>500.00</td><td>1</td></tr><tr><td>2</td><td>2011-01-01</td><td>500.00</td><td>500.000000</td><td>2</td><td>500.00</td><td>500.00</td><td>1000.00</td><td>2</td></tr><tr><td>2</td><td>2011-01-01</td><td>500.00</td><td>500.000000</td><td>3</td><td>500.00</td><td>500.00</td><td>1500.00</td><td>3</td></tr><tr><td>2</td><td>2011-01-01</td><td>500.00</td><td>500.000000</td><td>3</td><td>500.00</td><td>500.00</td><td>1500.00</td><td>4</td></tr><tr><td>2</td><td>2011-01-15</td><td>50.00</td><td>350.000000</td><td>3</td><td>50.00</td><td>500.00</td><td>1050.00</td><td>5</td></tr><tr><td>2</td><td>2011-01-15</td><td>50.00</td><td>200.000000</td><td>3</td><td>50.00</td><td>500.00</td><td>600.00</td><td>6</td></tr><tr><td>2</td><td>2011-01-15</td><td>50.00</td><td>50.000000</td><td>3</td><td>50.00</td><td>50.00</td><td>150.00</td><td>7</td></tr><tr><td>2</td><td>2011-01-15</td><td>50.00</td><td>50.000000</td><td>3</td><td>50.00</td><td>50.00</td><td>150.00</td><td>8</td></tr><tr><td>2</td><td>2011-01-22</td><td>25.00</td><td>41.666667</td><td>3</td><td>25.00</td><td>50.00</td><td>125.00</td><td>9</td></tr><tr><td>2</td><td>2011-01-22</td><td>25.00</td><td>33.333333</td><td>3</td><td>25.00</td><td>50.00</td><td>100.00</td><td>10</td></tr><tr><td>2</td><td>2011-01-22</td><td>25.00</td><td>25.000000</td><td>3</td><td>25.00</td><td>25.00</td><td>75.00</td><td>11</td></tr><tr><td>2</td><td>2011-01-22</td><td>25.00</td><td>25.000000</td><td>3</td><td>25.00</td><td>25.00</td><td>75.00</td><td>12</td></tr><tr><td>2</td><td>2011-01-23</td><td>125.00</td><td>58.333333</td><td>3</td><td>25.00</td><td>125.00</td><td>175.00</td><td>13</td></tr><tr><td>2</td><td>2011-01-23</td><td>125.00</td><td>91.666667</td><td>3</td><td>25.00</td><td>125.00</td><td>275.00</td><td>14</td></tr><tr><td>2</td><td>2011-01-23</td><td>125.00</td><td>125.000000</td><td>3</td><td>125.00</td><td>125.00</td><td>375.00</td><td>15</td></tr><tr><td>2</td><td>2011-01-23</td><td>125.00</td><td>125.000000</td><td>3</td><td>125.00</td><td>125.00</td><td>375.00</td><td>16</td></tr><tr><td>2</td><td>2011-01-26</td><td>200.00</td><td>150.000000</td><td>3</td><td>125.00</td><td>200.00</td><td>450.00</td><td>17</td></tr><tr><td>2</td><td>2011-01-26</td><td>200.00</td><td>175.000000</td><td>3</td><td>125.00</td><td>200.00</td><td>525.00</td><td>18</td></tr><tr><td>2</td><td>2011-01-26</td><td>200.00</td><td>200.000000</td><td>3</td><td>200.00</td><td>200.00</td><td>600.00</td><td>19</td></tr><tr><td>2</td><td>2011-01-26</td><td>200.00</td><td>200.000000</td><td>3</td><td>200.00</td><td>200.00</td><td>600.00</td><td>20</td></tr><tr><td>2</td><td>2011-01-29</td><td>250.00</td><td>216.666667</td><td>3</td><td>200.00</td><td>250.00</td><td>650.00</td><td>21</td></tr><tr><td>2</td><td>2011-01-29</td><td>250.00</td><td>233.333333</td><td>3</td><td>200.00</td><td>250.00</td><td>700.00</td><td>22</td></tr><tr><td>2</td><td>2011-01-29</td><td>250.00</td><td>250.000000</td><td>3</td><td>250.00</td><td>250.00</td><td>750.00</td><td>23</td></tr><tr><td>2</td><td>2011-01-29</td><td>250.00</td><td>250.000000</td><td>3</td><td>250.00</td><td>250.00</td><td>750.00</td><td>24</td></tr><tr><td>3</td><td>2011-01-01</td><td>500.00</td><td>500.000000</td><td>1</td><td>500.00</td><td>500.00</td><td>500.00</td><td>1</td></tr><tr><td>3</td><td>2011-01-01</td><td>500.00</td><td>500.000000</td><td>2</td><td>500.00</td><td>500.00</td><td>1000.00</td><td>2</td></tr><tr><td>3</td><td>2011-01-01</td><td>500.00</td><td>500.000000</td><td>3</td><td>500.00</td><td>500.00</td><td>1500.00</td><td>3</td></tr><tr><td>3</td><td>2011-01-01</td><td>500.00</td><td>500.000000</td><td>3</td><td>500.00</td><td>500.00</td><td>1500.00</td><td>4</td></tr><tr><td>3</td><td>2011-01-15</td><td>50.00</td><td>350.000000</td><td>3</td><td>50.00</td><td>500.00</td><td>1050.00</td><td>5</td></tr><tr><td>3</td><td>2011-01-15</td><td>50.00</td><td>200.000000</td><td>3</td><td>50.00</td><td>500.00</td><td>600.00</td><td>6</td></tr><tr><td>3</td><td>2011-01-15</td><td>50.00</td><td>50.000000</td><td>3</td><td>50.00</td><td>50.00</td><td>150.00</td><td>7</td></tr><tr><td>3</td><td>2011-01-15</td><td>50.00</td><td>50.000000</td><td>3</td><td>50.00</td><td>50.00</td><td>150.00</td><td>8</td></tr><tr><td>3</td><td>2011-01-22</td><td>5000.00</td><td>1700.000000</td><td>3</td><td>50.00</td><td>5000.00</td><td>5100.00</td><td>9</td></tr><tr><td>3</td><td>2011-01-22</td><td>5000.00</td><td>3350.000000</td><td>3</td><td>50.00</td><td>5000.00</td><td>10050.00</td><td>10</td></tr><tr><td>3</td><td>2011-01-22</td><td>5000.00</td><td>5000.000000</td><td>3</td><td>5000.00</td><td>5000.00</td><td>15000.00</td><td>11</td></tr><tr><td>3</td><td>2011-01-22</td><td>5000.00</td><td>5000.000000</td><td>3</td><td>5000.00</td><td>5000.00</td><td>15000.00</td><td>12</td></tr><tr><td>3</td><td>2011-01-25</td><td>550.00</td><td>3516.666667</td><td>3</td><td>550.00</td><td>5000.00</td><td>10550.00</td><td>13</td></tr><tr><td>3</td><td>2011-01-25</td><td>550.00</td><td>2033.333333</td><td>3</td><td>550.00</td><td>5000.00</td><td>6100.00</td><td>14</td></tr><tr><td>3</td><td>2011-01-25</td><td>550.00</td><td>550.000000</td><td>3</td><td>550.00</td><td>550.00</td><td>1650.00</td><td>15</td></tr><tr><td>3</td><td>2011-01-25</td><td>550.00</td><td>550.000000</td><td>3</td><td>550.00</td><td>550.00</td><td>1650.00</td><td>16</td></tr><tr><td>3</td><td>2011-01-27</td><td>95.00</td><td>398.333333</td><td>3</td><td>95.00</td><td>550.00</td><td>1195.00</td><td>17</td></tr><tr><td>3</td><td>2011-01-27</td><td>95.00</td><td>246.666667</td><td>3</td><td>95.00</td><td>550.00</td><td>740.00</td><td>18</td></tr><tr><td>3</td><td>2011-01-27</td><td>95.00</td><td>95.000000</td><td>3</td><td>95.00</td><td>95.00</td><td>285.00</td><td>19</td></tr><tr><td>3</td><td>2011-01-27</td><td>95.00</td><td>95.000000</td><td>3</td><td>95.00</td><td>95.00</td><td>285.00</td><td>20</td></tr><tr><td>3</td><td>2011-01-30</td><td>2500.00</td><td>896.666667</td><td>3</td><td>95.00</td><td>2500.00</td><td>2690.00</td><td>21</td></tr><tr><td>3</td><td>2011-01-30</td><td>2500.00</td><td>1698.333333</td><td>3</td><td>95.00</td><td>2500.00</td><td>5095.00</td><td>22</td></tr><tr><td>3</td><td>2011-01-30</td><td>2500.00</td><td>2500.000000</td><td>3</td><td>2500.00</td><td>2500.00</td><td>7500.00</td><td>23</td></tr><tr><td>3</td><td>2011-01-30</td><td>2500.00</td><td>2500.000000</td><td>3</td><td>2500.00</td><td>2500.00</td><td>7500.00</td><td>24</td></tr></tbody></table></div>"
      ]
     },
     "metadata": {
      "application/vnd.databricks.v1+output": {
       "addedWidgets": {},
       "aggData": [],
       "aggError": "",
       "aggOverflow": false,
       "aggSchema": [],
       "aggSeriesLimitReached": false,
       "aggType": "",
       "arguments": {},
       "columnCustomDisplayInfos": {},
       "data": [
        [
         1,
         "2011-01-01",
         "500.00",
         "500.000000",
         1,
         "500.00",
         "500.00",
         "500.00",
         1
        ],
        [
         1,
         "2011-01-01",
         "500.00",
         "500.000000",
         2,
         "500.00",
         "500.00",
         "1000.00",
         2
        ],
        [
         1,
         "2011-01-01",
         "500.00",
         "500.000000",
         3,
         "500.00",
         "500.00",
         "1500.00",
         3
        ],
        [
         1,
         "2011-01-01",
         "500.00",
         "500.000000",
         3,
         "500.00",
         "500.00",
         "1500.00",
         4
        ],
        [
         1,
         "2011-01-15",
         "50.00",
         "350.000000",
         3,
         "50.00",
         "500.00",
         "1050.00",
         5
        ],
        [
         1,
         "2011-01-15",
         "50.00",
         "200.000000",
         3,
         "50.00",
         "500.00",
         "600.00",
         6
        ],
        [
         1,
         "2011-01-15",
         "50.00",
         "50.000000",
         3,
         "50.00",
         "50.00",
         "150.00",
         7
        ],
        [
         1,
         "2011-01-15",
         "50.00",
         "50.000000",
         3,
         "50.00",
         "50.00",
         "150.00",
         8
        ],
        [
         1,
         "2011-01-22",
         "250.00",
         "116.666667",
         3,
         "50.00",
         "250.00",
         "350.00",
         9
        ],
        [
         1,
         "2011-01-22",
         "250.00",
         "183.333333",
         3,
         "50.00",
         "250.00",
         "550.00",
         10
        ],
        [
         1,
         "2011-01-22",
         "250.00",
         "250.000000",
         3,
         "250.00",
         "250.00",
         "750.00",
         11
        ],
        [
         1,
         "2011-01-22",
         "250.00",
         "250.000000",
         3,
         "250.00",
         "250.00",
         "750.00",
         12
        ],
        [
         1,
         "2011-01-24",
         "75.00",
         "191.666667",
         3,
         "75.00",
         "250.00",
         "575.00",
         13
        ],
        [
         1,
         "2011-01-24",
         "75.00",
         "133.333333",
         3,
         "75.00",
         "250.00",
         "400.00",
         14
        ],
        [
         1,
         "2011-01-24",
         "75.00",
         "75.000000",
         3,
         "75.00",
         "75.00",
         "225.00",
         15
        ],
        [
         1,
         "2011-01-24",
         "75.00",
         "75.000000",
         3,
         "75.00",
         "75.00",
         "225.00",
         16
        ],
        [
         1,
         "2011-01-26",
         "125.00",
         "91.666667",
         3,
         "75.00",
         "125.00",
         "275.00",
         17
        ],
        [
         1,
         "2011-01-26",
         "125.00",
         "108.333333",
         3,
         "75.00",
         "125.00",
         "325.00",
         18
        ],
        [
         1,
         "2011-01-26",
         "125.00",
         "125.000000",
         3,
         "125.00",
         "125.00",
         "375.00",
         19
        ],
        [
         1,
         "2011-01-26",
         "125.00",
         "125.000000",
         3,
         "125.00",
         "125.00",
         "375.00",
         20
        ],
        [
         1,
         "2011-01-28",
         "175.00",
         "141.666667",
         3,
         "125.00",
         "175.00",
         "425.00",
         21
        ],
        [
         1,
         "2011-01-28",
         "175.00",
         "158.333333",
         3,
         "125.00",
         "175.00",
         "475.00",
         22
        ],
        [
         1,
         "2011-01-28",
         "175.00",
         "175.000000",
         3,
         "175.00",
         "175.00",
         "525.00",
         23
        ],
        [
         1,
         "2011-01-28",
         "175.00",
         "175.000000",
         3,
         "175.00",
         "175.00",
         "525.00",
         24
        ],
        [
         2,
         "2011-01-01",
         "500.00",
         "500.000000",
         1,
         "500.00",
         "500.00",
         "500.00",
         1
        ],
        [
         2,
         "2011-01-01",
         "500.00",
         "500.000000",
         2,
         "500.00",
         "500.00",
         "1000.00",
         2
        ],
        [
         2,
         "2011-01-01",
         "500.00",
         "500.000000",
         3,
         "500.00",
         "500.00",
         "1500.00",
         3
        ],
        [
         2,
         "2011-01-01",
         "500.00",
         "500.000000",
         3,
         "500.00",
         "500.00",
         "1500.00",
         4
        ],
        [
         2,
         "2011-01-15",
         "50.00",
         "350.000000",
         3,
         "50.00",
         "500.00",
         "1050.00",
         5
        ],
        [
         2,
         "2011-01-15",
         "50.00",
         "200.000000",
         3,
         "50.00",
         "500.00",
         "600.00",
         6
        ],
        [
         2,
         "2011-01-15",
         "50.00",
         "50.000000",
         3,
         "50.00",
         "50.00",
         "150.00",
         7
        ],
        [
         2,
         "2011-01-15",
         "50.00",
         "50.000000",
         3,
         "50.00",
         "50.00",
         "150.00",
         8
        ],
        [
         2,
         "2011-01-22",
         "25.00",
         "41.666667",
         3,
         "25.00",
         "50.00",
         "125.00",
         9
        ],
        [
         2,
         "2011-01-22",
         "25.00",
         "33.333333",
         3,
         "25.00",
         "50.00",
         "100.00",
         10
        ],
        [
         2,
         "2011-01-22",
         "25.00",
         "25.000000",
         3,
         "25.00",
         "25.00",
         "75.00",
         11
        ],
        [
         2,
         "2011-01-22",
         "25.00",
         "25.000000",
         3,
         "25.00",
         "25.00",
         "75.00",
         12
        ],
        [
         2,
         "2011-01-23",
         "125.00",
         "58.333333",
         3,
         "25.00",
         "125.00",
         "175.00",
         13
        ],
        [
         2,
         "2011-01-23",
         "125.00",
         "91.666667",
         3,
         "25.00",
         "125.00",
         "275.00",
         14
        ],
        [
         2,
         "2011-01-23",
         "125.00",
         "125.000000",
         3,
         "125.00",
         "125.00",
         "375.00",
         15
        ],
        [
         2,
         "2011-01-23",
         "125.00",
         "125.000000",
         3,
         "125.00",
         "125.00",
         "375.00",
         16
        ],
        [
         2,
         "2011-01-26",
         "200.00",
         "150.000000",
         3,
         "125.00",
         "200.00",
         "450.00",
         17
        ],
        [
         2,
         "2011-01-26",
         "200.00",
         "175.000000",
         3,
         "125.00",
         "200.00",
         "525.00",
         18
        ],
        [
         2,
         "2011-01-26",
         "200.00",
         "200.000000",
         3,
         "200.00",
         "200.00",
         "600.00",
         19
        ],
        [
         2,
         "2011-01-26",
         "200.00",
         "200.000000",
         3,
         "200.00",
         "200.00",
         "600.00",
         20
        ],
        [
         2,
         "2011-01-29",
         "250.00",
         "216.666667",
         3,
         "200.00",
         "250.00",
         "650.00",
         21
        ],
        [
         2,
         "2011-01-29",
         "250.00",
         "233.333333",
         3,
         "200.00",
         "250.00",
         "700.00",
         22
        ],
        [
         2,
         "2011-01-29",
         "250.00",
         "250.000000",
         3,
         "250.00",
         "250.00",
         "750.00",
         23
        ],
        [
         2,
         "2011-01-29",
         "250.00",
         "250.000000",
         3,
         "250.00",
         "250.00",
         "750.00",
         24
        ],
        [
         3,
         "2011-01-01",
         "500.00",
         "500.000000",
         1,
         "500.00",
         "500.00",
         "500.00",
         1
        ],
        [
         3,
         "2011-01-01",
         "500.00",
         "500.000000",
         2,
         "500.00",
         "500.00",
         "1000.00",
         2
        ],
        [
         3,
         "2011-01-01",
         "500.00",
         "500.000000",
         3,
         "500.00",
         "500.00",
         "1500.00",
         3
        ],
        [
         3,
         "2011-01-01",
         "500.00",
         "500.000000",
         3,
         "500.00",
         "500.00",
         "1500.00",
         4
        ],
        [
         3,
         "2011-01-15",
         "50.00",
         "350.000000",
         3,
         "50.00",
         "500.00",
         "1050.00",
         5
        ],
        [
         3,
         "2011-01-15",
         "50.00",
         "200.000000",
         3,
         "50.00",
         "500.00",
         "600.00",
         6
        ],
        [
         3,
         "2011-01-15",
         "50.00",
         "50.000000",
         3,
         "50.00",
         "50.00",
         "150.00",
         7
        ],
        [
         3,
         "2011-01-15",
         "50.00",
         "50.000000",
         3,
         "50.00",
         "50.00",
         "150.00",
         8
        ],
        [
         3,
         "2011-01-22",
         "5000.00",
         "1700.000000",
         3,
         "50.00",
         "5000.00",
         "5100.00",
         9
        ],
        [
         3,
         "2011-01-22",
         "5000.00",
         "3350.000000",
         3,
         "50.00",
         "5000.00",
         "10050.00",
         10
        ],
        [
         3,
         "2011-01-22",
         "5000.00",
         "5000.000000",
         3,
         "5000.00",
         "5000.00",
         "15000.00",
         11
        ],
        [
         3,
         "2011-01-22",
         "5000.00",
         "5000.000000",
         3,
         "5000.00",
         "5000.00",
         "15000.00",
         12
        ],
        [
         3,
         "2011-01-25",
         "550.00",
         "3516.666667",
         3,
         "550.00",
         "5000.00",
         "10550.00",
         13
        ],
        [
         3,
         "2011-01-25",
         "550.00",
         "2033.333333",
         3,
         "550.00",
         "5000.00",
         "6100.00",
         14
        ],
        [
         3,
         "2011-01-25",
         "550.00",
         "550.000000",
         3,
         "550.00",
         "550.00",
         "1650.00",
         15
        ],
        [
         3,
         "2011-01-25",
         "550.00",
         "550.000000",
         3,
         "550.00",
         "550.00",
         "1650.00",
         16
        ],
        [
         3,
         "2011-01-27",
         "95.00",
         "398.333333",
         3,
         "95.00",
         "550.00",
         "1195.00",
         17
        ],
        [
         3,
         "2011-01-27",
         "95.00",
         "246.666667",
         3,
         "95.00",
         "550.00",
         "740.00",
         18
        ],
        [
         3,
         "2011-01-27",
         "95.00",
         "95.000000",
         3,
         "95.00",
         "95.00",
         "285.00",
         19
        ],
        [
         3,
         "2011-01-27",
         "95.00",
         "95.000000",
         3,
         "95.00",
         "95.00",
         "285.00",
         20
        ],
        [
         3,
         "2011-01-30",
         "2500.00",
         "896.666667",
         3,
         "95.00",
         "2500.00",
         "2690.00",
         21
        ],
        [
         3,
         "2011-01-30",
         "2500.00",
         "1698.333333",
         3,
         "95.00",
         "2500.00",
         "5095.00",
         22
        ],
        [
         3,
         "2011-01-30",
         "2500.00",
         "2500.000000",
         3,
         "2500.00",
         "2500.00",
         "7500.00",
         23
        ],
        [
         3,
         "2011-01-30",
         "2500.00",
         "2500.000000",
         3,
         "2500.00",
         "2500.00",
         "7500.00",
         24
        ]
       ],
       "datasetInfos": [],
       "dbfsResultPath": null,
       "isJsonSchema": true,
       "metadata": {},
       "overflow": false,
       "plotOptions": {
        "customPlotOptions": {},
        "displayType": "table",
        "pivotAggregation": null,
        "pivotColumns": null,
        "xColumns": null,
        "yColumns": null
       },
       "removedWidgets": [],
       "schema": [
        {
         "metadata": "{}",
         "name": "Account",
         "type": "\"integer\""
        },
        {
         "metadata": "{}",
         "name": "TranDate",
         "type": "\"date\""
        },
        {
         "metadata": "{}",
         "name": "TranAmt",
         "type": "\"decimal(8,2)\""
        },
        {
         "metadata": "{}",
         "name": "SlideAvg",
         "type": "\"decimal(12,6)\""
        },
        {
         "metadata": "{}",
         "name": "SlideQty",
         "type": "\"long\""
        },
        {
         "metadata": "{}",
         "name": "SlideMin",
         "type": "\"decimal(8,2)\""
        },
        {
         "metadata": "{}",
         "name": "SlideMax",
         "type": "\"decimal(8,2)\""
        },
        {
         "metadata": "{}",
         "name": "SlideTotal",
         "type": "\"decimal(18,2)\""
        },
        {
         "metadata": "{}",
         "name": "RN",
         "type": "\"integer\""
        }
       ],
       "type": "table"
      }
     },
     "output_type": "display_data"
    }
   ],
   "source": [
    "%sql\n",
    "SELECT Account,\n",
    "TranDate,\n",
    "TranAmt,\n",
    "-- average of the current and previous 2 transactions\n",
    "AVG(TranAmt) OVER (PARTITION BY Account ORDER BY TranDate ROWS BETWEEN 2 PRECEDING AND CURRENT ROW) as SlideAvg,\n",
    "-- total # of the current and previous 2 transactions\n",
    "COUNT(*) OVER (PARTITION BY Account ORDER BY TranDate ROWS BETWEEN 2 PRECEDING AND CURRENT ROW) as SlideQty,\n",
    "-- smallest of the current and previous 2 transactions\n",
    "MIN(TranAmt) OVER (PARTITION BY Account ORDER BY TranDate ROWS BETWEEN 2 PRECEDING AND CURRENT ROW) as SlideMin,\n",
    "-- largest of the current and previous 2 transactions\n",
    "MAX(TranAmt) OVER (PARTITION BY Account ORDER BY TranDate ROWS BETWEEN 2 PRECEDING AND CURRENT ROW) as SlideMax,\n",
    "-- total of the current and previous 2 transactions\n",
    "SUM(TranAmt) OVER (PARTITION BY Account ORDER BY TranDate ROWS BETWEEN 2 PRECEDING AND CURRENT ROW) as SlideTotal,\n",
    "ROW_NUMBER() OVER (PARTITION BY Account ORDER BY TranDate) AS RN\n",
    "FROM Sample.Transactions \n",
    "ORDER BY Account, TranDate, RN"
   ]
  },
  {
   "cell_type": "code",
   "execution_count": 0,
   "metadata": {
    "application/vnd.databricks.v1+cell": {
     "cellMetadata": {
      "byteLimit": 2048000,
      "rowLimit": 10000
     },
     "inputWidgets": {},
     "nuid": "774bc98e-27b5-4fe1-97f3-c16dad9ccea9",
     "showTitle": false,
     "tableResultSettingsMap": {},
     "title": ""
    }
   },
   "outputs": [
    {
     "output_type": "stream",
     "name": "stdout",
     "output_type": "stream",
     "text": [
      "+-------+----------+-------+----------+--------+--------+--------+----------+---+\n|Account|  TranDate|TranAmt|  SlideAvg|SlideQty|SlideMin|SlideMax|SlideTotal| RN|\n+-------+----------+-------+----------+--------+--------+--------+----------+---+\n|      1|2011-01-01| 500.00|500.000000|       1|  500.00|  500.00|    500.00|  1|\n|      1|2011-01-01| 500.00|500.000000|       2|  500.00|  500.00|   1000.00|  2|\n|      1|2011-01-01| 500.00|500.000000|       3|  500.00|  500.00|   1500.00|  3|\n|      1|2011-01-01| 500.00|500.000000|       3|  500.00|  500.00|   1500.00|  4|\n|      1|2011-01-15|  50.00|350.000000|       3|   50.00|  500.00|   1050.00|  5|\n|      1|2011-01-15|  50.00|200.000000|       3|   50.00|  500.00|    600.00|  6|\n|      1|2011-01-15|  50.00| 50.000000|       3|   50.00|   50.00|    150.00|  7|\n|      1|2011-01-15|  50.00| 50.000000|       3|   50.00|   50.00|    150.00|  8|\n|      1|2011-01-22| 250.00|116.666667|       3|   50.00|  250.00|    350.00|  9|\n|      1|2011-01-22| 250.00|183.333333|       3|   50.00|  250.00|    550.00| 10|\n|      1|2011-01-22| 250.00|250.000000|       3|  250.00|  250.00|    750.00| 11|\n|      1|2011-01-22| 250.00|250.000000|       3|  250.00|  250.00|    750.00| 12|\n|      1|2011-01-24|  75.00|191.666667|       3|   75.00|  250.00|    575.00| 13|\n|      1|2011-01-24|  75.00|133.333333|       3|   75.00|  250.00|    400.00| 14|\n|      1|2011-01-24|  75.00| 75.000000|       3|   75.00|   75.00|    225.00| 15|\n|      1|2011-01-24|  75.00| 75.000000|       3|   75.00|   75.00|    225.00| 16|\n|      1|2011-01-26| 125.00| 91.666667|       3|   75.00|  125.00|    275.00| 17|\n|      1|2011-01-26| 125.00|108.333333|       3|   75.00|  125.00|    325.00| 18|\n|      1|2011-01-26| 125.00|125.000000|       3|  125.00|  125.00|    375.00| 19|\n|      1|2011-01-26| 125.00|125.000000|       3|  125.00|  125.00|    375.00| 20|\n+-------+----------+-------+----------+--------+--------+--------+----------+---+\nonly showing top 20 rows\n\n"
     ]
    }
   ],
   "source": [
    "# Tworzymy okno (partition by Account, order by TranDate)\n",
    "windowSpec = Window.partitionBy(\"Account\").orderBy(\"TranDate\").rowsBetween(-2, 0)\n",
    "\n",
    "# Obliczamy średnią, liczbę, minimum, maksimum i sumę w oknie przesuwającym się o 2 poprzednie wiersze\n",
    "df_with_slide_window = df.withColumn(\"SlideAvg\", F.avg(\"TranAmt\").over(windowSpec)) \\\n",
    "    .withColumn(\"SlideQty\", F.count(\"*\").over(windowSpec)) \\\n",
    "    .withColumn(\"SlideMin\", F.min(\"TranAmt\").over(windowSpec)) \\\n",
    "    .withColumn(\"SlideMax\", F.max(\"TranAmt\").over(windowSpec)) \\\n",
    "    .withColumn(\"SlideTotal\", F.sum(\"TranAmt\").over(windowSpec)) \\\n",
    "    .withColumn(\"RN\", F.row_number().over(Window.partitionBy(\"Account\").orderBy(\"TranDate\")))\n",
    "\n",
    "df_with_slide_window.show()"
   ]
  },
  {
   "cell_type": "code",
   "execution_count": 0,
   "metadata": {
    "application/vnd.databricks.v1+cell": {
     "cellMetadata": {
      "byteLimit": 2048000,
      "implicitDf": true,
      "rowLimit": 10000
     },
     "inputWidgets": {},
     "nuid": "819f105d-7cd1-4cbc-95a6-3726d801fb30",
     "showTitle": false,
     "tableResultSettingsMap": {},
     "title": ""
    }
   },
   "outputs": [
    {
     "output_type": "display_data",
     "data": {
      "text/html": [
       "<style scoped>\n",
       "  .table-result-container {\n",
       "    max-height: 300px;\n",
       "    overflow: auto;\n",
       "  }\n",
       "  table, th, td {\n",
       "    border: 1px solid black;\n",
       "    border-collapse: collapse;\n",
       "  }\n",
       "  th, td {\n",
       "    padding: 5px;\n",
       "  }\n",
       "  th {\n",
       "    text-align: left;\n",
       "  }\n",
       "</style><div class='table-result-container'><table class='table-result'><thead style='background-color: white'><tr><th>RowID</th><th>FName</th><th>Salary</th><th>SumByRows</th><th>SumByRange</th></tr></thead><tbody><tr><td>1</td><td>George</td><td>800</td><td>800</td><td>2400</td></tr><tr><td>1</td><td>George</td><td>800</td><td>1600</td><td>2400</td></tr><tr><td>1</td><td>George</td><td>800</td><td>2400</td><td>2400</td></tr><tr><td>2</td><td>Sam</td><td>950</td><td>3350</td><td>5250</td></tr><tr><td>2</td><td>Sam</td><td>950</td><td>4300</td><td>5250</td></tr><tr><td>2</td><td>Sam</td><td>950</td><td>5250</td><td>5250</td></tr><tr><td>3</td><td>Diane</td><td>1100</td><td>6350</td><td>8550</td></tr><tr><td>3</td><td>Diane</td><td>1100</td><td>7450</td><td>8550</td></tr><tr><td>3</td><td>Diane</td><td>1100</td><td>8550</td><td>8550</td></tr><tr><td>4</td><td>Nicholas</td><td>1250</td><td>9800</td><td>16050</td></tr><tr><td>4</td><td>Nicholas</td><td>1250</td><td>12300</td><td>16050</td></tr><tr><td>4</td><td>Nicholas</td><td>1250</td><td>14800</td><td>16050</td></tr><tr><td>5</td><td>Samuel</td><td>1250</td><td>11050</td><td>16050</td></tr><tr><td>5</td><td>Samuel</td><td>1250</td><td>13550</td><td>16050</td></tr><tr><td>5</td><td>Samuel</td><td>1250</td><td>16050</td><td>16050</td></tr><tr><td>6</td><td>Patricia</td><td>1300</td><td>17350</td><td>19950</td></tr><tr><td>6</td><td>Patricia</td><td>1300</td><td>18650</td><td>19950</td></tr><tr><td>6</td><td>Patricia</td><td>1300</td><td>19950</td><td>19950</td></tr><tr><td>7</td><td>Brian</td><td>1500</td><td>21450</td><td>24450</td></tr><tr><td>7</td><td>Brian</td><td>1500</td><td>22950</td><td>24450</td></tr><tr><td>7</td><td>Brian</td><td>1500</td><td>24450</td><td>24450</td></tr><tr><td>8</td><td>Thomas</td><td>1600</td><td>26050</td><td>29250</td></tr><tr><td>8</td><td>Thomas</td><td>1600</td><td>27650</td><td>29250</td></tr><tr><td>8</td><td>Thomas</td><td>1600</td><td>29250</td><td>29250</td></tr><tr><td>9</td><td>Fran</td><td>2450</td><td>31700</td><td>36600</td></tr><tr><td>9</td><td>Fran</td><td>2450</td><td>34150</td><td>36600</td></tr><tr><td>9</td><td>Fran</td><td>2450</td><td>36600</td><td>36600</td></tr><tr><td>10</td><td>Debbie</td><td>2850</td><td>39450</td><td>45150</td></tr><tr><td>10</td><td>Debbie</td><td>2850</td><td>42300</td><td>45150</td></tr><tr><td>10</td><td>Debbie</td><td>2850</td><td>45150</td><td>45150</td></tr><tr><td>11</td><td>Mark</td><td>2975</td><td>48125</td><td>54075</td></tr><tr><td>11</td><td>Mark</td><td>2975</td><td>51100</td><td>54075</td></tr><tr><td>11</td><td>Mark</td><td>2975</td><td>54075</td><td>54075</td></tr><tr><td>12</td><td>James</td><td>3000</td><td>57075</td><td>72075</td></tr><tr><td>12</td><td>James</td><td>3000</td><td>63075</td><td>72075</td></tr><tr><td>12</td><td>James</td><td>3000</td><td>69075</td><td>72075</td></tr><tr><td>13</td><td>Cynthia</td><td>3000</td><td>60075</td><td>72075</td></tr><tr><td>13</td><td>Cynthia</td><td>3000</td><td>66075</td><td>72075</td></tr><tr><td>13</td><td>Cynthia</td><td>3000</td><td>72075</td><td>72075</td></tr><tr><td>14</td><td>Christopher</td><td>5000</td><td>77075</td><td>87075</td></tr><tr><td>14</td><td>Christopher</td><td>5000</td><td>82075</td><td>87075</td></tr><tr><td>14</td><td>Christopher</td><td>5000</td><td>87075</td><td>87075</td></tr></tbody></table></div>"
      ]
     },
     "metadata": {
      "application/vnd.databricks.v1+output": {
       "addedWidgets": {},
       "aggData": [],
       "aggError": "",
       "aggOverflow": false,
       "aggSchema": [],
       "aggSeriesLimitReached": false,
       "aggType": "",
       "arguments": {},
       "columnCustomDisplayInfos": {},
       "data": [
        [
         1,
         "George",
         800,
         800,
         2400
        ],
        [
         1,
         "George",
         800,
         1600,
         2400
        ],
        [
         1,
         "George",
         800,
         2400,
         2400
        ],
        [
         2,
         "Sam",
         950,
         3350,
         5250
        ],
        [
         2,
         "Sam",
         950,
         4300,
         5250
        ],
        [
         2,
         "Sam",
         950,
         5250,
         5250
        ],
        [
         3,
         "Diane",
         1100,
         6350,
         8550
        ],
        [
         3,
         "Diane",
         1100,
         7450,
         8550
        ],
        [
         3,
         "Diane",
         1100,
         8550,
         8550
        ],
        [
         4,
         "Nicholas",
         1250,
         9800,
         16050
        ],
        [
         4,
         "Nicholas",
         1250,
         12300,
         16050
        ],
        [
         4,
         "Nicholas",
         1250,
         14800,
         16050
        ],
        [
         5,
         "Samuel",
         1250,
         11050,
         16050
        ],
        [
         5,
         "Samuel",
         1250,
         13550,
         16050
        ],
        [
         5,
         "Samuel",
         1250,
         16050,
         16050
        ],
        [
         6,
         "Patricia",
         1300,
         17350,
         19950
        ],
        [
         6,
         "Patricia",
         1300,
         18650,
         19950
        ],
        [
         6,
         "Patricia",
         1300,
         19950,
         19950
        ],
        [
         7,
         "Brian",
         1500,
         21450,
         24450
        ],
        [
         7,
         "Brian",
         1500,
         22950,
         24450
        ],
        [
         7,
         "Brian",
         1500,
         24450,
         24450
        ],
        [
         8,
         "Thomas",
         1600,
         26050,
         29250
        ],
        [
         8,
         "Thomas",
         1600,
         27650,
         29250
        ],
        [
         8,
         "Thomas",
         1600,
         29250,
         29250
        ],
        [
         9,
         "Fran",
         2450,
         31700,
         36600
        ],
        [
         9,
         "Fran",
         2450,
         34150,
         36600
        ],
        [
         9,
         "Fran",
         2450,
         36600,
         36600
        ],
        [
         10,
         "Debbie",
         2850,
         39450,
         45150
        ],
        [
         10,
         "Debbie",
         2850,
         42300,
         45150
        ],
        [
         10,
         "Debbie",
         2850,
         45150,
         45150
        ],
        [
         11,
         "Mark",
         2975,
         48125,
         54075
        ],
        [
         11,
         "Mark",
         2975,
         51100,
         54075
        ],
        [
         11,
         "Mark",
         2975,
         54075,
         54075
        ],
        [
         12,
         "James",
         3000,
         57075,
         72075
        ],
        [
         12,
         "James",
         3000,
         63075,
         72075
        ],
        [
         12,
         "James",
         3000,
         69075,
         72075
        ],
        [
         13,
         "Cynthia",
         3000,
         60075,
         72075
        ],
        [
         13,
         "Cynthia",
         3000,
         66075,
         72075
        ],
        [
         13,
         "Cynthia",
         3000,
         72075,
         72075
        ],
        [
         14,
         "Christopher",
         5000,
         77075,
         87075
        ],
        [
         14,
         "Christopher",
         5000,
         82075,
         87075
        ],
        [
         14,
         "Christopher",
         5000,
         87075,
         87075
        ]
       ],
       "datasetInfos": [],
       "dbfsResultPath": null,
       "isJsonSchema": true,
       "metadata": {},
       "overflow": false,
       "plotOptions": {
        "customPlotOptions": {},
        "displayType": "table",
        "pivotAggregation": null,
        "pivotColumns": null,
        "xColumns": null,
        "yColumns": null
       },
       "removedWidgets": [],
       "schema": [
        {
         "metadata": "{}",
         "name": "RowID",
         "type": "\"integer\""
        },
        {
         "metadata": "{\"__CHAR_VARCHAR_TYPE_STRING\":\"varchar(20)\"}",
         "name": "FName",
         "type": "\"string\""
        },
        {
         "metadata": "{}",
         "name": "Salary",
         "type": "\"short\""
        },
        {
         "metadata": "{}",
         "name": "SumByRows",
         "type": "\"long\""
        },
        {
         "metadata": "{}",
         "name": "SumByRange",
         "type": "\"long\""
        }
       ],
       "type": "table"
      }
     },
     "output_type": "display_data"
    }
   ],
   "source": [
    "\n",
    "%sql\n",
    "SELECT RowID,\n",
    "FName,\n",
    "Salary,\n",
    "SUM(Salary) OVER (ORDER BY Salary ROWS UNBOUNDED PRECEDING) as SumByRows,\n",
    "SUM(Salary) OVER (ORDER BY Salary RANGE UNBOUNDED PRECEDING) as SumByRange\n",
    "FROM Sample.Logical\n",
    "ORDER BY RowID;"
   ]
  },
  {
   "cell_type": "code",
   "execution_count": 0,
   "metadata": {
    "application/vnd.databricks.v1+cell": {
     "cellMetadata": {
      "byteLimit": 2048000,
      "rowLimit": 10000
     },
     "inputWidgets": {},
     "nuid": "20427d02-da06-4d90-94e1-23023739cc11",
     "showTitle": false,
     "tableResultSettingsMap": {},
     "title": ""
    }
   },
   "outputs": [
    {
     "output_type": "stream",
     "name": "stdout",
     "output_type": "stream",
     "text": [
      "+-----+--------+------+---------+----------+\n|RowID|   FName|Salary|SumByRows|SumByRange|\n+-----+--------+------+---------+----------+\n|    1|  George|   800|      800|      2400|\n|    1|  George|   800|     1600|      2400|\n|    1|  George|   800|     2400|      2400|\n|    2|     Sam|   950|     3350|      5250|\n|    2|     Sam|   950|     4300|      5250|\n|    2|     Sam|   950|     5250|      5250|\n|    3|   Diane|  1100|     6350|      8550|\n|    3|   Diane|  1100|     7450|      8550|\n|    3|   Diane|  1100|     8550|      8550|\n|    4|Nicholas|  1250|     9800|     16050|\n|    5|  Samuel|  1250|    11050|     16050|\n|    4|Nicholas|  1250|    12300|     16050|\n|    5|  Samuel|  1250|    13550|     16050|\n|    4|Nicholas|  1250|    14800|     16050|\n|    5|  Samuel|  1250|    16050|     16050|\n|    6|Patricia|  1300|    17350|     19950|\n|    6|Patricia|  1300|    18650|     19950|\n|    6|Patricia|  1300|    19950|     19950|\n|    7|   Brian|  1500|    21450|     24450|\n|    7|   Brian|  1500|    22950|     24450|\n+-----+--------+------+---------+----------+\nonly showing top 20 rows\n\n"
     ]
    }
   ],
   "source": [
    "df2 = spark.sql(\"SELECT * FROM Sample.Logical\")\n",
    "# Tworzymy okno (order by Salary)\n",
    "windowSpecRows = Window.orderBy(\"Salary\").rowsBetween(Window.unboundedPreceding, Window.currentRow)\n",
    "windowSpecRange = Window.orderBy(\"Salary\").rangeBetween(Window.unboundedPreceding, Window.currentRow)\n",
    "\n",
    "# Obliczamy sumy dla Rows i Range\n",
    "df_with_sums = df2.withColumn(\"SumByRows\", F.sum(\"Salary\").over(windowSpecRows)) \\\n",
    "    .withColumn(\"SumByRange\", F.sum(\"Salary\").over(windowSpecRange))\n",
    "\n",
    "df_with_sums.show()"
   ]
  },
  {
   "cell_type": "code",
   "execution_count": 0,
   "metadata": {
    "application/vnd.databricks.v1+cell": {
     "cellMetadata": {
      "byteLimit": 2048000,
      "rowLimit": 10000
     },
     "inputWidgets": {},
     "nuid": "24fb4f06-d1b4-4ce1-95bc-01921eb74a3a",
     "showTitle": false,
     "tableResultSettingsMap": {},
     "title": ""
    }
   },
   "outputs": [
    {
     "output_type": "stream",
     "name": "stdout",
     "output_type": "stream",
     "text": [
      "+-----+--------+------+-----------+----------+------------+-----------+---------+\n|RowID|   FName|Salary|Lead_Salary|Lag_Salary|First_Salary|Last_Salary|RowNumber|\n+-----+--------+------+-----------+----------+------------+-----------+---------+\n|    1|  George|   800|        800|      null|         800|        800|        1|\n|    1|  George|   800|        800|       800|         800|        800|        2|\n|    1|  George|   800|        950|       800|         800|        800|        3|\n|    2|     Sam|   950|        950|       800|         800|        950|        4|\n|    2|     Sam|   950|        950|       950|         800|        950|        5|\n|    2|     Sam|   950|       1100|       950|         800|        950|        6|\n|    3|   Diane|  1100|       1100|       950|         800|       1100|        7|\n|    3|   Diane|  1100|       1100|      1100|         800|       1100|        8|\n|    3|   Diane|  1100|       1250|      1100|         800|       1100|        9|\n|    4|Nicholas|  1250|       1250|      1100|         800|       1250|       10|\n|    4|Nicholas|  1250|       1250|      1250|         800|       1250|       12|\n|    4|Nicholas|  1250|       1250|      1250|         800|       1250|       14|\n|    5|  Samuel|  1250|       1250|      1250|         800|       1250|       11|\n|    5|  Samuel|  1250|       1250|      1250|         800|       1250|       13|\n|    5|  Samuel|  1250|       1300|      1250|         800|       1250|       15|\n|    6|Patricia|  1300|       1300|      1250|         800|       1300|       16|\n|    6|Patricia|  1300|       1300|      1300|         800|       1300|       17|\n|    6|Patricia|  1300|       1500|      1300|         800|       1300|       18|\n|    7|   Brian|  1500|       1500|      1300|         800|       1500|       19|\n|    7|   Brian|  1500|       1500|      1500|         800|       1500|       20|\n+-----+--------+------+-----------+----------+------------+-----------+---------+\nonly showing top 20 rows\n\n"
     ]
    }
   ],
   "source": [
    "\n",
    "\n",
    "# Okno z posortowaniem według kolumny \"Salary\"\n",
    "window_spec = Window.orderBy(\"Salary\")\n",
    "\n",
    "# Dodaj funkcje okienkowe\n",
    "df_window = df2.withColumn(\"Lead_Salary\", F.lead(\"Salary\", 1).over(window_spec)) \\\n",
    "              .withColumn(\"Lag_Salary\", F.lag(\"Salary\", 1).over(window_spec)) \\\n",
    "              .withColumn(\"First_Salary\", F.first(\"Salary\").over(window_spec)) \\\n",
    "              .withColumn(\"Last_Salary\", F.last(\"Salary\").over(window_spec)) \\\n",
    "              .withColumn(\"RowNumber\", F.row_number().over(window_spec)) \\\n",
    "              .orderBy(\"RowID\")\n",
    "\n",
    "df_window.show()\n"
   ]
  }
 ],
 "metadata": {
  "application/vnd.databricks.v1+notebook": {
   "computePreferences": null,
   "dashboards": [],
   "environmentMetadata": {
    "base_environment": "",
    "environment_version": "1"
   },
   "inputWidgetPreferences": null,
   "language": "python",
   "notebookMetadata": {
    "mostRecentlyExecutedCommandWithImplicitDF": {
     "commandId": 747396539791198,
     "dataframes": [
      "_sqldf"
     ]
    },
    "pythonIndentUnit": 4
   },
   "notebookName": "Lab4_3",
   "widgets": {}
  }
 },
 "nbformat": 4,
 "nbformat_minor": 0
}