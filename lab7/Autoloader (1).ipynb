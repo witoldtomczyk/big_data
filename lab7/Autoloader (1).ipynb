{
 "cells": [
  {
   "cell_type": "code",
   "execution_count": 0,
   "metadata": {
    "application/vnd.databricks.v1+cell": {
     "cellMetadata": {
      "byteLimit": 2048000,
      "rowLimit": 10000
     },
     "inputWidgets": {},
     "nuid": "b1f15450-80e6-468d-a81b-afe2fb314c56",
     "showTitle": true,
     "tableResultSettingsMap": {},
     "title": "Przygotowanie środowiska"
    }
   },
   "outputs": [
    {
     "output_type": "stream",
     "name": "stdout",
     "output_type": "stream",
     "text": [
      "Out[10]: True"
     ]
    }
   ],
   "source": [
    "# Import functions\n",
    "from pyspark.sql.functions import col, current_timestamp\n",
    "\n",
    "# Define variables used in code below\n",
    "file_path = \"/FileStore/stream/events/\"\n",
    "username = spark.sql(\"SELECT regexp_replace(current_user(), '[^a-zA-Z0-9]', '_')\").first()[0]\n",
    "table_name = f\"{username}_etl_quickstart\"\n",
    "checkpoint_path = f\"/tmp/{username}/_checkpoint/etl_quickstart\"\n",
    "\n",
    "# Clear out data from previous demo execution\n",
    "spark.sql(f\"DROP TABLE IF EXISTS {table_name}\")\n",
    "dbutils.fs.rm(checkpoint_path, True)\n",
    "\n",
    "\n",
    "\n"
   ]
  },
  {
   "cell_type": "code",
   "execution_count": 0,
   "metadata": {
    "application/vnd.databricks.v1+cell": {
     "cellMetadata": {
      "byteLimit": 2048000,
      "rowLimit": 10000
     },
     "inputWidgets": {},
     "nuid": "de6cd530-5127-4c5f-a36e-dca868b3436f",
     "showTitle": false,
     "tableResultSettingsMap": {},
     "title": ""
    }
   },
   "outputs": [
    {
     "output_type": "stream",
     "name": "stdout",
     "output_type": "stream",
     "text": [
      "Out[11]: False"
     ]
    }
   ],
   "source": [
    "dbutils.fs.rm(f\"dbfs:/user/hive/warehouse/{username}_etl_quickstart\", True)\n"
   ]
  },
  {
   "cell_type": "code",
   "execution_count": 0,
   "metadata": {
    "application/vnd.databricks.v1+cell": {
     "cellMetadata": {
      "byteLimit": 2048000,
      "rowLimit": 10000
     },
     "inputWidgets": {},
     "nuid": "bc7add7a-ca44-4a1a-9c99-54130d587b5f",
     "showTitle": false,
     "tableResultSettingsMap": {},
     "title": ""
    }
   },
   "outputs": [
    {
     "output_type": "display_data",
     "data": {
      "text/html": [
       "<style scoped>\n",
       "  .table-result-container {\n",
       "    max-height: 300px;\n",
       "    overflow: auto;\n",
       "  }\n",
       "  table, th, td {\n",
       "    border: 1px solid black;\n",
       "    border-collapse: collapse;\n",
       "  }\n",
       "  th, td {\n",
       "    padding: 5px;\n",
       "  }\n",
       "  th {\n",
       "    text-align: left;\n",
       "  }\n",
       "</style><div class='table-result-container'><table class='table-result'><thead style='background-color: white'><tr><th>path</th><th>name</th><th>size</th><th>modificationTime</th></tr></thead><tbody><tr><td>dbfs:/databricks-datasets/structured-streaming/events/file-0.json</td><td>file-0.json</td><td>72530</td><td>1469673865000</td></tr><tr><td>dbfs:/databricks-datasets/structured-streaming/events/file-1.json</td><td>file-1.json</td><td>72961</td><td>1469673866000</td></tr><tr><td>dbfs:/databricks-datasets/structured-streaming/events/file-10.json</td><td>file-10.json</td><td>73025</td><td>1469673878000</td></tr><tr><td>dbfs:/databricks-datasets/structured-streaming/events/file-11.json</td><td>file-11.json</td><td>72999</td><td>1469673879000</td></tr><tr><td>dbfs:/databricks-datasets/structured-streaming/events/file-12.json</td><td>file-12.json</td><td>72987</td><td>1469673880000</td></tr><tr><td>dbfs:/databricks-datasets/structured-streaming/events/file-13.json</td><td>file-13.json</td><td>73006</td><td>1469673881000</td></tr><tr><td>dbfs:/databricks-datasets/structured-streaming/events/file-14.json</td><td>file-14.json</td><td>73003</td><td>1469673882000</td></tr><tr><td>dbfs:/databricks-datasets/structured-streaming/events/file-15.json</td><td>file-15.json</td><td>73007</td><td>1469673883000</td></tr><tr><td>dbfs:/databricks-datasets/structured-streaming/events/file-16.json</td><td>file-16.json</td><td>72978</td><td>1469673885000</td></tr><tr><td>dbfs:/databricks-datasets/structured-streaming/events/file-17.json</td><td>file-17.json</td><td>73008</td><td>1469673886000</td></tr><tr><td>dbfs:/databricks-datasets/structured-streaming/events/file-18.json</td><td>file-18.json</td><td>73002</td><td>1469673887000</td></tr><tr><td>dbfs:/databricks-datasets/structured-streaming/events/file-19.json</td><td>file-19.json</td><td>73014</td><td>1469673888000</td></tr><tr><td>dbfs:/databricks-datasets/structured-streaming/events/file-2.json</td><td>file-2.json</td><td>73007</td><td>1469673868000</td></tr><tr><td>dbfs:/databricks-datasets/structured-streaming/events/file-20.json</td><td>file-20.json</td><td>72987</td><td>1469673889000</td></tr><tr><td>dbfs:/databricks-datasets/structured-streaming/events/file-21.json</td><td>file-21.json</td><td>72983</td><td>1469673891000</td></tr><tr><td>dbfs:/databricks-datasets/structured-streaming/events/file-22.json</td><td>file-22.json</td><td>73009</td><td>1469673892000</td></tr><tr><td>dbfs:/databricks-datasets/structured-streaming/events/file-23.json</td><td>file-23.json</td><td>72985</td><td>1469673893000</td></tr><tr><td>dbfs:/databricks-datasets/structured-streaming/events/file-24.json</td><td>file-24.json</td><td>73020</td><td>1469673894000</td></tr><tr><td>dbfs:/databricks-datasets/structured-streaming/events/file-25.json</td><td>file-25.json</td><td>72980</td><td>1469673895000</td></tr><tr><td>dbfs:/databricks-datasets/structured-streaming/events/file-26.json</td><td>file-26.json</td><td>73002</td><td>1469673897000</td></tr><tr><td>dbfs:/databricks-datasets/structured-streaming/events/file-27.json</td><td>file-27.json</td><td>73013</td><td>1469673898000</td></tr><tr><td>dbfs:/databricks-datasets/structured-streaming/events/file-28.json</td><td>file-28.json</td><td>73005</td><td>1469673899000</td></tr><tr><td>dbfs:/databricks-datasets/structured-streaming/events/file-29.json</td><td>file-29.json</td><td>72977</td><td>1469673900000</td></tr><tr><td>dbfs:/databricks-datasets/structured-streaming/events/file-3.json</td><td>file-3.json</td><td>72996</td><td>1469673869000</td></tr><tr><td>dbfs:/databricks-datasets/structured-streaming/events/file-30.json</td><td>file-30.json</td><td>73009</td><td>1469673902000</td></tr><tr><td>dbfs:/databricks-datasets/structured-streaming/events/file-31.json</td><td>file-31.json</td><td>73008</td><td>1469673903000</td></tr><tr><td>dbfs:/databricks-datasets/structured-streaming/events/file-32.json</td><td>file-32.json</td><td>72982</td><td>1469673904000</td></tr><tr><td>dbfs:/databricks-datasets/structured-streaming/events/file-33.json</td><td>file-33.json</td><td>73033</td><td>1469673905000</td></tr><tr><td>dbfs:/databricks-datasets/structured-streaming/events/file-34.json</td><td>file-34.json</td><td>72985</td><td>1469673907000</td></tr><tr><td>dbfs:/databricks-datasets/structured-streaming/events/file-35.json</td><td>file-35.json</td><td>72974</td><td>1469673908000</td></tr><tr><td>dbfs:/databricks-datasets/structured-streaming/events/file-36.json</td><td>file-36.json</td><td>73013</td><td>1469673909000</td></tr><tr><td>dbfs:/databricks-datasets/structured-streaming/events/file-37.json</td><td>file-37.json</td><td>72989</td><td>1469673910000</td></tr><tr><td>dbfs:/databricks-datasets/structured-streaming/events/file-38.json</td><td>file-38.json</td><td>72999</td><td>1469673911000</td></tr><tr><td>dbfs:/databricks-datasets/structured-streaming/events/file-39.json</td><td>file-39.json</td><td>73013</td><td>1469673913000</td></tr><tr><td>dbfs:/databricks-datasets/structured-streaming/events/file-4.json</td><td>file-4.json</td><td>72992</td><td>1469673870000</td></tr><tr><td>dbfs:/databricks-datasets/structured-streaming/events/file-40.json</td><td>file-40.json</td><td>72986</td><td>1469673914000</td></tr><tr><td>dbfs:/databricks-datasets/structured-streaming/events/file-41.json</td><td>file-41.json</td><td>73019</td><td>1469673915000</td></tr><tr><td>dbfs:/databricks-datasets/structured-streaming/events/file-42.json</td><td>file-42.json</td><td>72986</td><td>1469673916000</td></tr><tr><td>dbfs:/databricks-datasets/structured-streaming/events/file-43.json</td><td>file-43.json</td><td>72990</td><td>1469673918000</td></tr><tr><td>dbfs:/databricks-datasets/structured-streaming/events/file-44.json</td><td>file-44.json</td><td>73018</td><td>1469673919000</td></tr><tr><td>dbfs:/databricks-datasets/structured-streaming/events/file-45.json</td><td>file-45.json</td><td>72997</td><td>1469673921000</td></tr><tr><td>dbfs:/databricks-datasets/structured-streaming/events/file-46.json</td><td>file-46.json</td><td>72991</td><td>1469673922000</td></tr><tr><td>dbfs:/databricks-datasets/structured-streaming/events/file-47.json</td><td>file-47.json</td><td>73009</td><td>1469673923000</td></tr><tr><td>dbfs:/databricks-datasets/structured-streaming/events/file-48.json</td><td>file-48.json</td><td>72993</td><td>1469673924000</td></tr><tr><td>dbfs:/databricks-datasets/structured-streaming/events/file-49.json</td><td>file-49.json</td><td>73496</td><td>1469673926000</td></tr><tr><td>dbfs:/databricks-datasets/structured-streaming/events/file-5.json</td><td>file-5.json</td><td>72998</td><td>1469673871000</td></tr><tr><td>dbfs:/databricks-datasets/structured-streaming/events/file-6.json</td><td>file-6.json</td><td>72997</td><td>1469673873000</td></tr><tr><td>dbfs:/databricks-datasets/structured-streaming/events/file-7.json</td><td>file-7.json</td><td>73022</td><td>1469673874000</td></tr><tr><td>dbfs:/databricks-datasets/structured-streaming/events/file-8.json</td><td>file-8.json</td><td>72997</td><td>1469673875000</td></tr><tr><td>dbfs:/databricks-datasets/structured-streaming/events/file-9.json</td><td>file-9.json</td><td>72970</td><td>1469673876000</td></tr></tbody></table></div>"
      ]
     },
     "metadata": {
      "application/vnd.databricks.v1+output": {
       "addedWidgets": {},
       "aggData": [],
       "aggError": "",
       "aggOverflow": false,
       "aggSchema": [],
       "aggSeriesLimitReached": false,
       "aggType": "",
       "arguments": {},
       "columnCustomDisplayInfos": {},
       "data": [
        [
         "dbfs:/databricks-datasets/structured-streaming/events/file-0.json",
         "file-0.json",
         72530,
         1469673865000
        ],
        [
         "dbfs:/databricks-datasets/structured-streaming/events/file-1.json",
         "file-1.json",
         72961,
         1469673866000
        ],
        [
         "dbfs:/databricks-datasets/structured-streaming/events/file-10.json",
         "file-10.json",
         73025,
         1469673878000
        ],
        [
         "dbfs:/databricks-datasets/structured-streaming/events/file-11.json",
         "file-11.json",
         72999,
         1469673879000
        ],
        [
         "dbfs:/databricks-datasets/structured-streaming/events/file-12.json",
         "file-12.json",
         72987,
         1469673880000
        ],
        [
         "dbfs:/databricks-datasets/structured-streaming/events/file-13.json",
         "file-13.json",
         73006,
         1469673881000
        ],
        [
         "dbfs:/databricks-datasets/structured-streaming/events/file-14.json",
         "file-14.json",
         73003,
         1469673882000
        ],
        [
         "dbfs:/databricks-datasets/structured-streaming/events/file-15.json",
         "file-15.json",
         73007,
         1469673883000
        ],
        [
         "dbfs:/databricks-datasets/structured-streaming/events/file-16.json",
         "file-16.json",
         72978,
         1469673885000
        ],
        [
         "dbfs:/databricks-datasets/structured-streaming/events/file-17.json",
         "file-17.json",
         73008,
         1469673886000
        ],
        [
         "dbfs:/databricks-datasets/structured-streaming/events/file-18.json",
         "file-18.json",
         73002,
         1469673887000
        ],
        [
         "dbfs:/databricks-datasets/structured-streaming/events/file-19.json",
         "file-19.json",
         73014,
         1469673888000
        ],
        [
         "dbfs:/databricks-datasets/structured-streaming/events/file-2.json",
         "file-2.json",
         73007,
         1469673868000
        ],
        [
         "dbfs:/databricks-datasets/structured-streaming/events/file-20.json",
         "file-20.json",
         72987,
         1469673889000
        ],
        [
         "dbfs:/databricks-datasets/structured-streaming/events/file-21.json",
         "file-21.json",
         72983,
         1469673891000
        ],
        [
         "dbfs:/databricks-datasets/structured-streaming/events/file-22.json",
         "file-22.json",
         73009,
         1469673892000
        ],
        [
         "dbfs:/databricks-datasets/structured-streaming/events/file-23.json",
         "file-23.json",
         72985,
         1469673893000
        ],
        [
         "dbfs:/databricks-datasets/structured-streaming/events/file-24.json",
         "file-24.json",
         73020,
         1469673894000
        ],
        [
         "dbfs:/databricks-datasets/structured-streaming/events/file-25.json",
         "file-25.json",
         72980,
         1469673895000
        ],
        [
         "dbfs:/databricks-datasets/structured-streaming/events/file-26.json",
         "file-26.json",
         73002,
         1469673897000
        ],
        [
         "dbfs:/databricks-datasets/structured-streaming/events/file-27.json",
         "file-27.json",
         73013,
         1469673898000
        ],
        [
         "dbfs:/databricks-datasets/structured-streaming/events/file-28.json",
         "file-28.json",
         73005,
         1469673899000
        ],
        [
         "dbfs:/databricks-datasets/structured-streaming/events/file-29.json",
         "file-29.json",
         72977,
         1469673900000
        ],
        [
         "dbfs:/databricks-datasets/structured-streaming/events/file-3.json",
         "file-3.json",
         72996,
         1469673869000
        ],
        [
         "dbfs:/databricks-datasets/structured-streaming/events/file-30.json",
         "file-30.json",
         73009,
         1469673902000
        ],
        [
         "dbfs:/databricks-datasets/structured-streaming/events/file-31.json",
         "file-31.json",
         73008,
         1469673903000
        ],
        [
         "dbfs:/databricks-datasets/structured-streaming/events/file-32.json",
         "file-32.json",
         72982,
         1469673904000
        ],
        [
         "dbfs:/databricks-datasets/structured-streaming/events/file-33.json",
         "file-33.json",
         73033,
         1469673905000
        ],
        [
         "dbfs:/databricks-datasets/structured-streaming/events/file-34.json",
         "file-34.json",
         72985,
         1469673907000
        ],
        [
         "dbfs:/databricks-datasets/structured-streaming/events/file-35.json",
         "file-35.json",
         72974,
         1469673908000
        ],
        [
         "dbfs:/databricks-datasets/structured-streaming/events/file-36.json",
         "file-36.json",
         73013,
         1469673909000
        ],
        [
         "dbfs:/databricks-datasets/structured-streaming/events/file-37.json",
         "file-37.json",
         72989,
         1469673910000
        ],
        [
         "dbfs:/databricks-datasets/structured-streaming/events/file-38.json",
         "file-38.json",
         72999,
         1469673911000
        ],
        [
         "dbfs:/databricks-datasets/structured-streaming/events/file-39.json",
         "file-39.json",
         73013,
         1469673913000
        ],
        [
         "dbfs:/databricks-datasets/structured-streaming/events/file-4.json",
         "file-4.json",
         72992,
         1469673870000
        ],
        [
         "dbfs:/databricks-datasets/structured-streaming/events/file-40.json",
         "file-40.json",
         72986,
         1469673914000
        ],
        [
         "dbfs:/databricks-datasets/structured-streaming/events/file-41.json",
         "file-41.json",
         73019,
         1469673915000
        ],
        [
         "dbfs:/databricks-datasets/structured-streaming/events/file-42.json",
         "file-42.json",
         72986,
         1469673916000
        ],
        [
         "dbfs:/databricks-datasets/structured-streaming/events/file-43.json",
         "file-43.json",
         72990,
         1469673918000
        ],
        [
         "dbfs:/databricks-datasets/structured-streaming/events/file-44.json",
         "file-44.json",
         73018,
         1469673919000
        ],
        [
         "dbfs:/databricks-datasets/structured-streaming/events/file-45.json",
         "file-45.json",
         72997,
         1469673921000
        ],
        [
         "dbfs:/databricks-datasets/structured-streaming/events/file-46.json",
         "file-46.json",
         72991,
         1469673922000
        ],
        [
         "dbfs:/databricks-datasets/structured-streaming/events/file-47.json",
         "file-47.json",
         73009,
         1469673923000
        ],
        [
         "dbfs:/databricks-datasets/structured-streaming/events/file-48.json",
         "file-48.json",
         72993,
         1469673924000
        ],
        [
         "dbfs:/databricks-datasets/structured-streaming/events/file-49.json",
         "file-49.json",
         73496,
         1469673926000
        ],
        [
         "dbfs:/databricks-datasets/structured-streaming/events/file-5.json",
         "file-5.json",
         72998,
         1469673871000
        ],
        [
         "dbfs:/databricks-datasets/structured-streaming/events/file-6.json",
         "file-6.json",
         72997,
         1469673873000
        ],
        [
         "dbfs:/databricks-datasets/structured-streaming/events/file-7.json",
         "file-7.json",
         73022,
         1469673874000
        ],
        [
         "dbfs:/databricks-datasets/structured-streaming/events/file-8.json",
         "file-8.json",
         72997,
         1469673875000
        ],
        [
         "dbfs:/databricks-datasets/structured-streaming/events/file-9.json",
         "file-9.json",
         72970,
         1469673876000
        ]
       ],
       "datasetInfos": [],
       "dbfsResultPath": null,
       "isJsonSchema": true,
       "metadata": {
        "isDbfsCommandResult": false
       },
       "overflow": false,
       "plotOptions": {
        "customPlotOptions": {},
        "displayType": "table",
        "pivotAggregation": null,
        "pivotColumns": null,
        "xColumns": null,
        "yColumns": null
       },
       "removedWidgets": [],
       "schema": [
        {
         "metadata": "{}",
         "name": "path",
         "type": "\"string\""
        },
        {
         "metadata": "{}",
         "name": "name",
         "type": "\"string\""
        },
        {
         "metadata": "{}",
         "name": "size",
         "type": "\"long\""
        },
        {
         "metadata": "{}",
         "name": "modificationTime",
         "type": "\"long\""
        }
       ],
       "type": "table"
      }
     },
     "output_type": "display_data"
    }
   ],
   "source": [
    "%fs ls /databricks-datasets/structured-streaming/events"
   ]
  },
  {
   "cell_type": "markdown",
   "metadata": {
    "application/vnd.databricks.v1+cell": {
     "cellMetadata": {
      "byteLimit": 2048000,
      "rowLimit": 10000
     },
     "inputWidgets": {},
     "nuid": "9e3f5fff-0a33-47bb-a578-a9663538ca45",
     "showTitle": false,
     "tableResultSettingsMap": {},
     "title": ""
    }
   },
   "source": [
    "Żeby sprawdzić czy stream działa kopiuj po jednym bądź kilku plikach "
   ]
  },
  {
   "cell_type": "code",
   "execution_count": 0,
   "metadata": {
    "application/vnd.databricks.v1+cell": {
     "cellMetadata": {
      "byteLimit": 2048000,
      "rowLimit": 10000
     },
     "inputWidgets": {},
     "nuid": "86a32b8f-5771-42f5-b260-64349d507957",
     "showTitle": false,
     "tableResultSettingsMap": {},
     "title": ""
    }
   },
   "outputs": [
    {
     "output_type": "stream",
     "name": "stdout",
     "output_type": "stream",
     "text": [
      "Out[12]: True"
     ]
    }
   ],
   "source": [
    "dbutils.fs.cp(\"/databricks-datasets/structured-streaming/events/file-4.json\",\"/FileStore/stream/events/file-4.json\",True)"
   ]
  },
  {
   "cell_type": "code",
   "execution_count": 0,
   "metadata": {
    "application/vnd.databricks.v1+cell": {
     "cellMetadata": {
      "byteLimit": 2048000,
      "rowLimit": 10000
     },
     "inputWidgets": {},
     "nuid": "49be85fe-7012-42b4-89d6-5bb3613482ae",
     "showTitle": false,
     "tableResultSettingsMap": {},
     "title": ""
    }
   },
   "outputs": [
    {
     "output_type": "display_data",
     "data": {
      "text/html": [
       "<style scoped>\n",
       "  .table-result-container {\n",
       "    max-height: 300px;\n",
       "    overflow: auto;\n",
       "  }\n",
       "  table, th, td {\n",
       "    border: 1px solid black;\n",
       "    border-collapse: collapse;\n",
       "  }\n",
       "  th, td {\n",
       "    padding: 5px;\n",
       "  }\n",
       "  th {\n",
       "    text-align: left;\n",
       "  }\n",
       "</style><div class='table-result-container'><table class='table-result'><thead style='background-color: white'><tr><th>path</th><th>name</th><th>size</th><th>modificationTime</th></tr></thead><tbody><tr><td>dbfs:/FileStore/stream/events/file-4.json</td><td>file-4.json</td><td>72992</td><td>1746268891000</td></tr></tbody></table></div>"
      ]
     },
     "metadata": {
      "application/vnd.databricks.v1+output": {
       "addedWidgets": {},
       "aggData": [],
       "aggError": "",
       "aggOverflow": false,
       "aggSchema": [],
       "aggSeriesLimitReached": false,
       "aggType": "",
       "arguments": {},
       "columnCustomDisplayInfos": {},
       "data": [
        [
         "dbfs:/FileStore/stream/events/file-4.json",
         "file-4.json",
         72992,
         1746268891000
        ]
       ],
       "datasetInfos": [],
       "dbfsResultPath": null,
       "isJsonSchema": true,
       "metadata": {},
       "overflow": false,
       "plotOptions": {
        "customPlotOptions": {},
        "displayType": "table",
        "pivotAggregation": null,
        "pivotColumns": null,
        "xColumns": null,
        "yColumns": null
       },
       "removedWidgets": [],
       "schema": [
        {
         "metadata": "{}",
         "name": "path",
         "type": "\"string\""
        },
        {
         "metadata": "{}",
         "name": "name",
         "type": "\"string\""
        },
        {
         "metadata": "{}",
         "name": "size",
         "type": "\"long\""
        },
        {
         "metadata": "{}",
         "name": "modificationTime",
         "type": "\"long\""
        }
       ],
       "type": "table"
      }
     },
     "output_type": "display_data"
    }
   ],
   "source": [
    "display(dbutils.fs.ls(\"/FileStore/stream/events/\"))"
   ]
  },
  {
   "cell_type": "code",
   "execution_count": 0,
   "metadata": {
    "application/vnd.databricks.v1+cell": {
     "cellMetadata": {
      "byteLimit": 2048000,
      "rowLimit": 10000
     },
     "inputWidgets": {},
     "nuid": "6512dfcb-0dff-45aa-939e-53d8494eb586",
     "showTitle": false,
     "tableResultSettingsMap": {},
     "title": ""
    }
   },
   "outputs": [
    {
     "output_type": "stream",
     "name": "stdout",
     "output_type": "stream",
     "text": [
      "Out[14]: 2000"
     ]
    }
   ],
   "source": [
    "spark.read.format(\"json\").load(\"dbfs:/FileStore/stream/events/\").count()"
   ]
  },
  {
   "cell_type": "markdown",
   "metadata": {
    "application/vnd.databricks.v1+cell": {
     "cellMetadata": {
      "byteLimit": 2048000,
      "rowLimit": 10000
     },
     "inputWidgets": {},
     "nuid": "2e2e489c-ad7a-49e3-801f-6f9268a9647b",
     "showTitle": false,
     "tableResultSettingsMap": {},
     "title": ""
    }
   },
   "source": [
    "Dokończyć kod autoloadera \n",
    "1. Dodaj opcje 'cloudfiles'\n",
    "2. Dodaj kolumnę z metadanych 'source_file'\n",
    "3. Dane zapisać do tabeli"
   ]
  },
  {
   "cell_type": "code",
   "execution_count": 0,
   "metadata": {
    "application/vnd.databricks.v1+cell": {
     "cellMetadata": {
      "byteLimit": 2048000,
      "rowLimit": 10000
     },
     "inputWidgets": {},
     "nuid": "9091358c-ab7a-4b63-94a8-24594344d4d3",
     "showTitle": false,
     "tableResultSettingsMap": {},
     "title": ""
    }
   },
   "outputs": [
    {
     "output_type": "display_data",
     "data": {
      "text/html": [
       "<style scoped>\n",
       "  .table-result-container {\n",
       "    max-height: 300px;\n",
       "    overflow: auto;\n",
       "  }\n",
       "  table, th, td {\n",
       "    border: 1px solid black;\n",
       "    border-collapse: collapse;\n",
       "  }\n",
       "  th, td {\n",
       "    padding: 5px;\n",
       "  }\n",
       "  th {\n",
       "    text-align: left;\n",
       "  }\n",
       "</style><div class='table-result-container'><table class='table-result'><thead style='background-color: white'><tr><th>action</th><th>time</th><th>_rescued_data</th><th>source_file</th></tr></thead><tbody></tbody></table></div>"
      ]
     },
     "metadata": {
      "application/vnd.databricks.v1+output": {
       "addedWidgets": {},
       "aggData": [],
       "aggError": "",
       "aggOverflow": false,
       "aggSchema": [],
       "aggSeriesLimitReached": false,
       "aggType": "",
       "arguments": {},
       "columnCustomDisplayInfos": {},
       "data": [],
       "datasetInfos": [],
       "dbfsResultPath": null,
       "isJsonSchema": true,
       "metadata": {},
       "overflow": false,
       "plotOptions": {
        "customPlotOptions": {},
        "displayType": "table",
        "pivotAggregation": null,
        "pivotColumns": null,
        "xColumns": null,
        "yColumns": null
       },
       "removedWidgets": [],
       "schema": [
        {
         "metadata": "{}",
         "name": "action",
         "type": "\"string\""
        },
        {
         "metadata": "{}",
         "name": "time",
         "type": "\"string\""
        },
        {
         "metadata": "{}",
         "name": "_rescued_data",
         "type": "\"string\""
        },
        {
         "metadata": "{}",
         "name": "source_file",
         "type": "\"string\""
        }
       ],
       "type": "table"
      }
     },
     "output_type": "display_data"
    }
   ],
   "source": [
    "\n",
    "from pyspark.sql.functions import input_file_name\n",
    "\n",
    "(spark.readStream\n",
    "  .format(\"cloudFiles\")\n",
    "  .option(\"cloudFiles.format\", \"json\")\n",
    "  .option(\"cloudFiles.schemaLocation\", checkpoint_path)\n",
    "  .load(file_path)\n",
    "  .withColumn(\"source_file\", input_file_name())\n",
    "  .writeStream\n",
    "  .option(\"checkpointLocation\", checkpoint_path)\n",
    "  .trigger(availableNow=True)\n",
    "  .toTable(table_name))\n",
    "\n",
    "df = spark.sql(f\"SELECT * FROM {table_name} LIMIT 10\")\n",
    "df.display()"
   ]
  },
  {
   "cell_type": "code",
   "execution_count": 0,
   "metadata": {
    "application/vnd.databricks.v1+cell": {
     "cellMetadata": {
      "byteLimit": 2048000,
      "rowLimit": 10000
     },
     "inputWidgets": {},
     "nuid": "dab3ddba-a9f9-4d97-a413-2376a38a9b6c",
     "showTitle": false,
     "tableResultSettingsMap": {},
     "title": ""
    }
   },
   "outputs": [
    {
     "output_type": "display_data",
     "data": {
      "text/html": [
       "<style scoped>\n",
       "  .table-result-container {\n",
       "    max-height: 300px;\n",
       "    overflow: auto;\n",
       "  }\n",
       "  table, th, td {\n",
       "    border: 1px solid black;\n",
       "    border-collapse: collapse;\n",
       "  }\n",
       "  th, td {\n",
       "    padding: 5px;\n",
       "  }\n",
       "  th {\n",
       "    text-align: left;\n",
       "  }\n",
       "</style><div class='table-result-container'><table class='table-result'><thead style='background-color: white'><tr><th>count(1)</th></tr></thead><tbody><tr><td>0</td></tr></tbody></table></div>"
      ]
     },
     "metadata": {
      "application/vnd.databricks.v1+output": {
       "addedWidgets": {},
       "aggData": [],
       "aggError": "",
       "aggOverflow": false,
       "aggSchema": [],
       "aggSeriesLimitReached": false,
       "aggType": "",
       "arguments": {},
       "columnCustomDisplayInfos": {},
       "data": [
        [
         0
        ]
       ],
       "datasetInfos": [],
       "dbfsResultPath": null,
       "isJsonSchema": true,
       "metadata": {},
       "overflow": false,
       "plotOptions": {
        "customPlotOptions": {},
        "displayType": "table",
        "pivotAggregation": null,
        "pivotColumns": null,
        "xColumns": null,
        "yColumns": null
       },
       "removedWidgets": [],
       "schema": [
        {
         "metadata": "{\"__autoGeneratedAlias\":\"true\"}",
         "name": "count(1)",
         "type": "\"long\""
        }
       ],
       "type": "table"
      }
     },
     "output_type": "display_data"
    }
   ],
   "source": [
    "\n",
    "\n",
    "df = spark.sql(f\"select count(*) from {table_name}\")\n",
    "df.display()"
   ]
  },
  {
   "cell_type": "markdown",
   "metadata": {
    "application/vnd.databricks.v1+cell": {
     "cellMetadata": {
      "byteLimit": 2048000,
      "rowLimit": 10000
     },
     "inputWidgets": {},
     "nuid": "c57b7e7a-ec13-42ef-ae8c-704021be3209",
     "showTitle": false,
     "tableResultSettingsMap": {},
     "title": ""
    }
   },
   "source": [
    "Sprawdzć metadane "
   ]
  },
  {
   "cell_type": "code",
   "execution_count": 0,
   "metadata": {
    "application/vnd.databricks.v1+cell": {
     "cellMetadata": {
      "byteLimit": 2048000,
      "rowLimit": 10000
     },
     "inputWidgets": {},
     "nuid": "bce06416-61c8-4364-b2e3-74af2d0a3db7",
     "showTitle": false,
     "tableResultSettingsMap": {},
     "title": ""
    }
   },
   "outputs": [
    {
     "output_type": "display_data",
     "data": {
      "text/html": [
       "<style scoped>\n",
       "  .table-result-container {\n",
       "    max-height: 300px;\n",
       "    overflow: auto;\n",
       "  }\n",
       "  table, th, td {\n",
       "    border: 1px solid black;\n",
       "    border-collapse: collapse;\n",
       "  }\n",
       "  th, td {\n",
       "    padding: 5px;\n",
       "  }\n",
       "  th {\n",
       "    text-align: left;\n",
       "  }\n",
       "</style><div class='table-result-container'><table class='table-result'><thead style='background-color: white'><tr><th>path</th><th>name</th><th>size</th><th>modificationTime</th></tr></thead><tbody><tr><td>dbfs:/tmp/wtomczyk_student_agh_edu_pl/_checkpoint/etl_quickstart/sources/0/metadata</td><td>metadata</td><td>133</td><td>1746268906000</td></tr></tbody></table></div>"
      ]
     },
     "metadata": {
      "application/vnd.databricks.v1+output": {
       "addedWidgets": {},
       "aggData": [],
       "aggError": "",
       "aggOverflow": false,
       "aggSchema": [],
       "aggSeriesLimitReached": false,
       "aggType": "",
       "arguments": {},
       "columnCustomDisplayInfos": {},
       "data": [
        [
         "dbfs:/tmp/wtomczyk_student_agh_edu_pl/_checkpoint/etl_quickstart/sources/0/metadata",
         "metadata",
         133,
         1746268906000
        ]
       ],
       "datasetInfos": [],
       "dbfsResultPath": null,
       "isJsonSchema": true,
       "metadata": {},
       "overflow": false,
       "plotOptions": {
        "customPlotOptions": {},
        "displayType": "table",
        "pivotAggregation": null,
        "pivotColumns": null,
        "xColumns": null,
        "yColumns": null
       },
       "removedWidgets": [],
       "schema": [
        {
         "metadata": "{}",
         "name": "path",
         "type": "\"string\""
        },
        {
         "metadata": "{}",
         "name": "name",
         "type": "\"string\""
        },
        {
         "metadata": "{}",
         "name": "size",
         "type": "\"long\""
        },
        {
         "metadata": "{}",
         "name": "modificationTime",
         "type": "\"long\""
        }
       ],
       "type": "table"
      }
     },
     "output_type": "display_data"
    }
   ],
   "source": [
    "\n",
    "display(dbutils.fs.ls(f\"/tmp/{username}/_checkpoint/etl_quickstart/sources/0/metadata/\"))"
   ]
  },
  {
   "cell_type": "code",
   "execution_count": 0,
   "metadata": {
    "application/vnd.databricks.v1+cell": {
     "cellMetadata": {
      "byteLimit": 2048000,
      "rowLimit": 10000
     },
     "inputWidgets": {},
     "nuid": "95f19fe2-bf28-436a-a42c-648e5498160a",
     "showTitle": false,
     "tableResultSettingsMap": {},
     "title": ""
    }
   },
   "outputs": [
    {
     "output_type": "display_data",
     "data": {
      "text/html": [
       "<style scoped>\n",
       "  .table-result-container {\n",
       "    max-height: 300px;\n",
       "    overflow: auto;\n",
       "  }\n",
       "  table, th, td {\n",
       "    border: 1px solid black;\n",
       "    border-collapse: collapse;\n",
       "  }\n",
       "  th, td {\n",
       "    padding: 5px;\n",
       "  }\n",
       "  th {\n",
       "    text-align: left;\n",
       "  }\n",
       "</style><div class='table-result-container'><table class='table-result'><thead style='background-color: white'><tr><th>path</th><th>name</th><th>size</th><th>modificationTime</th></tr></thead><tbody><tr><td>dbfs:/tmp/wtomczyk_student_agh_edu_pl/_checkpoint/etl_quickstart/sources/0/metadata</td><td>metadata</td><td>133</td><td>1746268906000</td></tr></tbody></table></div>"
      ]
     },
     "metadata": {
      "application/vnd.databricks.v1+output": {
       "addedWidgets": {},
       "aggData": [],
       "aggError": "",
       "aggOverflow": false,
       "aggSchema": [],
       "aggSeriesLimitReached": false,
       "aggType": "",
       "arguments": {},
       "columnCustomDisplayInfos": {},
       "data": [
        [
         "dbfs:/tmp/wtomczyk_student_agh_edu_pl/_checkpoint/etl_quickstart/sources/0/metadata",
         "metadata",
         133,
         1746268906000
        ]
       ],
       "datasetInfos": [],
       "dbfsResultPath": null,
       "isJsonSchema": true,
       "metadata": {},
       "overflow": false,
       "plotOptions": {
        "customPlotOptions": {},
        "displayType": "table",
        "pivotAggregation": null,
        "pivotColumns": null,
        "xColumns": null,
        "yColumns": null
       },
       "removedWidgets": [],
       "schema": [
        {
         "metadata": "{}",
         "name": "path",
         "type": "\"string\""
        },
        {
         "metadata": "{}",
         "name": "name",
         "type": "\"string\""
        },
        {
         "metadata": "{}",
         "name": "size",
         "type": "\"long\""
        },
        {
         "metadata": "{}",
         "name": "modificationTime",
         "type": "\"long\""
        }
       ],
       "type": "table"
      }
     },
     "output_type": "display_data"
    }
   ],
   "source": [
    "\n",
    "display(dbutils.fs.ls(f\"/tmp/{username}/_checkpoint/etl_quickstart/sources/0/metadata/\"))"
   ]
  }
 ],
 "metadata": {
  "application/vnd.databricks.v1+notebook": {
   "computePreferences": null,
   "dashboards": [],
   "environmentMetadata": null,
   "inputWidgetPreferences": null,
   "language": "python",
   "notebookMetadata": {
    "mostRecentlyExecutedCommandWithImplicitDF": {
     "commandId": 854507827004200,
     "dataframes": [
      "_sqldf"
     ]
    },
    "pythonIndentUnit": 4
   },
   "notebookName": "Autoloader",
   "widgets": {}
  }
 },
 "nbformat": 4,
 "nbformat_minor": 0
}