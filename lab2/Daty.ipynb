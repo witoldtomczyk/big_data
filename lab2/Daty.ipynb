{
 "cells": [
  {
   "cell_type": "markdown",
   "metadata": {
    "application/vnd.databricks.v1+cell": {
     "cellMetadata": {
      "byteLimit": 2048000,
      "rowLimit": 10000
     },
     "inputWidgets": {},
     "nuid": "7080a470-8c29-4102-8090-a6cfc2a06f08",
     "showTitle": false,
     "tableResultSettingsMap": {},
     "title": ""
    }
   },
   "source": [
    "Użyj każdą z tych funkcji \n",
    "* `unix_timestamp()` \n",
    "* `date_format()`\n",
    "* `to_unix_timestamp()`\n",
    "* `from_unixtime()`\n",
    "* `to_date()` \n",
    "* `to_timestamp()` \n",
    "* `from_utc_timestamp()` \n",
    "* `to_utc_timestamp()`"
   ]
  },
  {
   "cell_type": "code",
   "execution_count": 1,
   "metadata": {
    "application/vnd.databricks.v1+cell": {
     "cellMetadata": {
      "byteLimit": 2048000,
      "rowLimit": 10000
     },
     "inputWidgets": {},
     "nuid": "6f9776f7-6073-41f0-8f38-0490f0788c93",
     "showTitle": false,
     "tableResultSettingsMap": {},
     "title": ""
    }
   },
   "outputs": [
    {
     "name": "stderr",
     "output_type": "stream",
     "text": [
      "25/03/26 15:41:36 WARN Utils: Your hostname, MacBook-Air-Witold.local resolves to a loopback address: 127.0.0.1; using 192.168.1.100 instead (on interface en0)\n",
      "25/03/26 15:41:36 WARN Utils: Set SPARK_LOCAL_IP if you need to bind to another address\n",
      "Setting default log level to \"WARN\".\n",
      "To adjust logging level use sc.setLogLevel(newLevel). For SparkR, use setLogLevel(newLevel).\n",
      "25/03/26 15:41:37 WARN NativeCodeLoader: Unable to load native-hadoop library for your platform... using builtin-java classes where applicable\n"
     ]
    },
    {
     "data": {
      "text/plain": [
       "DataFrame[timestamp: string, unix: bigint, Date: string, current_date: date, current_timestamp: timestamp]"
      ]
     },
     "metadata": {},
     "output_type": "display_data"
    },
    {
     "name": "stderr",
     "output_type": "stream",
     "text": [
      "                                                                                \r"
     ]
    },
    {
     "name": "stdout",
     "output_type": "stream",
     "text": [
      "+-------------------+-------------+---------+------------+--------------------+\n",
      "|          timestamp|         unix|     Date|current_date|   current_timestamp|\n",
      "+-------------------+-------------+---------+------------+--------------------+\n",
      "|2015-03-22T14:13:34|1646641525847|May, 2021|  2025-03-26|2025-03-26 15:41:...|\n",
      "|2015-03-22T15:03:18|1646641557555|Mar, 2021|  2025-03-26|2025-03-26 15:41:...|\n",
      "|2015-03-22T14:38:39|1646641578622|Jan, 2021|  2025-03-26|2025-03-26 15:41:...|\n",
      "+-------------------+-------------+---------+------------+--------------------+\n",
      "\n"
     ]
    }
   ],
   "source": [
    "from pyspark.sql import SparkSession\n",
    "from pyspark.sql.functions import current_date, current_timestamp\n",
    "\n",
    "spark = SparkSession.builder.appName(\"TestApp\").getOrCreate()\n",
    "\n",
    "kolumny = [\"timestamp\", \"unix\", \"Date\"]\n",
    "dane = [\n",
    "    (\"2015-03-22T14:13:34\", 1646641525847, \"May, 2021\"),\n",
    "    (\"2015-03-22T15:03:18\", 1646641557555, \"Mar, 2021\"),\n",
    "    (\"2015-03-22T14:38:39\", 1646641578622, \"Jan, 2021\")\n",
    "]\n",
    "\n",
    "dataFrame = spark.createDataFrame(dane, kolumny) \\\n",
    "    .withColumn(\"current_date\", current_date()) \\\n",
    "    .withColumn(\"current_timestamp\", current_timestamp())\n",
    "\n",
    "display(dataFrame)\n",
    "dataFrame.show()\n"
   ]
  },
  {
   "cell_type": "code",
   "execution_count": null,
   "metadata": {
    "application/vnd.databricks.v1+cell": {
     "cellMetadata": {
      "byteLimit": 2048000,
      "rowLimit": 10000
     },
     "inputWidgets": {},
     "nuid": "bfc884ee-94a0-456b-9212-48b7bcaac341",
     "showTitle": false,
     "tableResultSettingsMap": {},
     "title": ""
    }
   },
   "outputs": [
    {
     "name": "stdout",
     "output_type": "stream",
     "text": [
      "root\n",
      " |-- timestamp: string (nullable = true)\n",
      " |-- unix: long (nullable = true)\n",
      " |-- Date: string (nullable = true)\n",
      " |-- current_date: date (nullable = false)\n",
      " |-- current_timestamp: timestamp (nullable = false)\n",
      "\n"
     ]
    }
   ],
   "source": [
    "\n",
    "dataFrame.printSchema()"
   ]
  },
  {
   "cell_type": "markdown",
   "metadata": {
    "application/vnd.databricks.v1+cell": {
     "cellMetadata": {
      "byteLimit": 2048000,
      "rowLimit": 10000
     },
     "inputWidgets": {},
     "nuid": "5b0f5676-af9a-4c46-9e90-b4270f30f222",
     "showTitle": false,
     "tableResultSettingsMap": {},
     "title": ""
    }
   },
   "source": [
    "## unix_timestamp(..) & cast(..)"
   ]
  },
  {
   "cell_type": "markdown",
   "metadata": {
    "application/vnd.databricks.v1+cell": {
     "cellMetadata": {
      "byteLimit": 2048000,
      "rowLimit": 10000
     },
     "inputWidgets": {},
     "nuid": "da2c85c6-dc7c-4519-a586-411a8fc3a0ad",
     "showTitle": false,
     "tableResultSettingsMap": {},
     "title": ""
    }
   },
   "source": [
    "Konwersja **string** to a **timestamp**.\n",
    "\n",
    "Lokalizacja funkcji \n",
    "* `pyspark.sql.functions` in the case of Python\n",
    "* `org.apache.spark.sql.functions` in the case of Scala & Java"
   ]
  },
  {
   "cell_type": "markdown",
   "metadata": {
    "application/vnd.databricks.v1+cell": {
     "cellMetadata": {
      "byteLimit": 2048000,
      "rowLimit": 10000
     },
     "inputWidgets": {},
     "nuid": "29619a12-2790-4d54-bd50-abf02531a3c7",
     "showTitle": false,
     "tableResultSettingsMap": {},
     "title": ""
    }
   },
   "source": [
    "## 1. Zmiana formatu wartości timestamp yyyy-MM-dd'T'HH:mm:ss \n",
    "`unix_timestamp(..)`\n",
    "\n",
    "Dokumentacja API `unix_timestamp(..)`:\n",
    "> Convert time string with given pattern (see <a href=\"http://docs.oracle.com/javase/tutorial/i18n/format/simpleDateFormat.html\" target=\"_blank\">SimpleDateFormat</a>) to Unix time stamp (in seconds), return null if fail.\n",
    "\n",
    "`SimpleDataFormat` is part of the Java API and provides support for parsing and formatting date and time values."
   ]
  },
  {
   "cell_type": "code",
   "execution_count": null,
   "metadata": {
    "application/vnd.databricks.v1+cell": {
     "cellMetadata": {
      "byteLimit": 2048000,
      "rowLimit": 10000
     },
     "inputWidgets": {},
     "nuid": "1a88bca0-2ce7-4a7b-b332-d53e84fe79ae",
     "showTitle": false,
     "tableResultSettingsMap": {},
     "title": ""
    }
   },
   "outputs": [
    {
     "name": "stdout",
     "output_type": "stream",
     "text": [
      "+-------------------+-------------+---------+------------+--------------------+--------------+\n",
      "|          timestamp|         unix|     Date|current_date|   current_timestamp|unix_timestamp|\n",
      "+-------------------+-------------+---------+------------+--------------------+--------------+\n",
      "|2015-03-22T14:13:34|1646641525847|May, 2021|  2025-03-19|2025-03-19 01:22:...|    1427033614|\n",
      "|2015-03-22T15:03:18|1646641557555|Mar, 2021|  2025-03-19|2025-03-19 01:22:...|    1427036598|\n",
      "|2015-03-22T14:38:39|1646641578622|Jan, 2021|  2025-03-19|2025-03-19 01:22:...|    1427035119|\n",
      "+-------------------+-------------+---------+------------+--------------------+--------------+\n",
      "\n"
     ]
    }
   ],
   "source": [
    " # `unix_timestamp()` \n",
    "import pyspark.sql.functions as F\n",
    "from pyspark.sql.functions import *\n",
    "\n",
    "selected = dataFrame.select(\"timestamp\")\n",
    "dataFrame = dataFrame.withColumn(\"unix_timestamp\",F.unix_timestamp(\"timestamp\", \"yyyy-MM-dd'T'HH:mm:ss\"))\n",
    "dataFrame.show()\n",
    "\n"
   ]
  },
  {
   "cell_type": "markdown",
   "metadata": {
    "application/vnd.databricks.v1+cell": {
     "cellMetadata": {
      "byteLimit": 2048000,
      "rowLimit": 10000
     },
     "inputWidgets": {},
     "nuid": "965ee74b-2147-4065-a06b-a832afc3a7d4",
     "showTitle": false,
     "tableResultSettingsMap": {},
     "title": ""
    }
   },
   "source": [
    "2. Zmień format zgodnie z klasą `SimpleDateFormat`**yyyy-MM-dd HH:mm:ss**\n",
    "  * a. Wyświetl schemat i dane żeby sprawdzicz czy wartości się zmieniły"
   ]
  },
  {
   "cell_type": "code",
   "execution_count": null,
   "metadata": {
    "application/vnd.databricks.v1+cell": {
     "cellMetadata": {
      "byteLimit": 2048000,
      "rowLimit": 10000
     },
     "inputWidgets": {},
     "nuid": "9013e7b3-750a-442e-9ac9-15d86b16e303",
     "showTitle": false,
     "tableResultSettingsMap": {},
     "title": ""
    }
   },
   "outputs": [
    {
     "name": "stdout",
     "output_type": "stream",
     "text": [
      "root\n",
      " |-- timestamp: string (nullable = true)\n",
      " |-- unix: long (nullable = true)\n",
      " |-- Date: string (nullable = true)\n",
      " |-- current_date: date (nullable = false)\n",
      " |-- current_timestamp: string (nullable = false)\n",
      " |-- unix_timestamp: long (nullable = true)\n",
      "\n",
      "+-------------------+-------------+---------+------------+-------------------+--------------+\n",
      "|          timestamp|         unix|     Date|current_date|  current_timestamp|unix_timestamp|\n",
      "+-------------------+-------------+---------+------------+-------------------+--------------+\n",
      "|2015-03-22 14:13:34|1646641525847|May, 2021|  2025-03-19|2025-03-19 01:22:07|    1427033614|\n",
      "|2015-03-22 15:03:18|1646641557555|Mar, 2021|  2025-03-19|2025-03-19 01:22:07|    1427036598|\n",
      "|2015-03-22 14:38:39|1646641578622|Jan, 2021|  2025-03-19|2025-03-19 01:22:07|    1427035119|\n",
      "+-------------------+-------------+---------+------------+-------------------+--------------+\n",
      "\n"
     ]
    }
   ],
   "source": [
    "# `date_format()`\n",
    "zmianaFormatu = dataFrame.withColumn(\"timestamp\", date_format(col(\"timestamp\"), \"yyyy-MM-dd HH:mm:ss\")).withColumn(\"current_timestamp\", date_format(col(\"current_timestamp\"), \"yyyy-MM-dd HH:mm:ss\"))\n",
    "# with.Column() \n",
    "zmianaFormatu.printSchema()\n",
    "zmianaFormatu.show()"
   ]
  },
  {
   "cell_type": "code",
   "execution_count": null,
   "metadata": {
    "application/vnd.databricks.v1+cell": {
     "cellMetadata": {
      "byteLimit": 2048000,
      "rowLimit": 10000
     },
     "inputWidgets": {},
     "nuid": "f035d832-20ce-4a42-900a-e4b1a16c225b",
     "showTitle": false,
     "tableResultSettingsMap": {},
     "title": ""
    }
   },
   "outputs": [
    {
     "name": "stdout",
     "output_type": "stream",
     "text": [
      "+-------------------+-------------+---------+------------+-------------------+--------------+-------------------+\n",
      "|          timestamp|         unix|     Date|current_date|  current_timestamp|unix_timestamp|nowy_unix_timestamp|\n",
      "+-------------------+-------------+---------+------------+-------------------+--------------+-------------------+\n",
      "|2015-03-22 14:13:34|1646641525847|May, 2021|  2025-03-19|2025-03-19 01:22:08|    1427033614|         1742342400|\n",
      "|2015-03-22 15:03:18|1646641557555|Mar, 2021|  2025-03-19|2025-03-19 01:22:08|    1427036598|         1742342400|\n",
      "|2015-03-22 14:38:39|1646641578622|Jan, 2021|  2025-03-19|2025-03-19 01:22:08|    1427035119|         1742342400|\n",
      "+-------------------+-------------+---------+------------+-------------------+--------------+-------------------+\n",
      "\n"
     ]
    },
    {
     "data": {
      "text/html": [
       "<style scoped>\n",
       "  .table-result-container {\n",
       "    max-height: 300px;\n",
       "    overflow: auto;\n",
       "  }\n",
       "  table, th, td {\n",
       "    border: 1px solid black;\n",
       "    border-collapse: collapse;\n",
       "  }\n",
       "  th, td {\n",
       "    padding: 5px;\n",
       "  }\n",
       "  th {\n",
       "    text-align: left;\n",
       "  }\n",
       "</style><div class='table-result-container'><table class='table-result'><thead style='background-color: white'><tr><th>timestamp</th><th>unix</th><th>Date</th><th>current_date</th><th>current_timestamp</th><th>unix_timestamp</th><th>nowy_unix_timestamp</th></tr></thead><tbody><tr><td>2015-03-22 14:13:34</td><td>1646641525847</td><td>May, 2021</td><td>2025-03-19</td><td>2025-03-19 01:22:09</td><td>1427033614</td><td>1742342400</td></tr><tr><td>2015-03-22 15:03:18</td><td>1646641557555</td><td>Mar, 2021</td><td>2025-03-19</td><td>2025-03-19 01:22:09</td><td>1427036598</td><td>1742342400</td></tr><tr><td>2015-03-22 14:38:39</td><td>1646641578622</td><td>Jan, 2021</td><td>2025-03-19</td><td>2025-03-19 01:22:09</td><td>1427035119</td><td>1742342400</td></tr></tbody></table></div>"
      ]
     },
     "metadata": {
      "application/vnd.databricks.v1+output": {
       "addedWidgets": {},
       "aggData": [],
       "aggError": "",
       "aggOverflow": false,
       "aggSchema": [],
       "aggSeriesLimitReached": false,
       "aggType": "",
       "arguments": {},
       "columnCustomDisplayInfos": {},
       "data": [
        [
         "2015-03-22 14:13:34",
         1646641525847,
         "May, 2021",
         "2025-03-19",
         "2025-03-19 01:22:09",
         1427033614,
         1742342400
        ],
        [
         "2015-03-22 15:03:18",
         1646641557555,
         "Mar, 2021",
         "2025-03-19",
         "2025-03-19 01:22:09",
         1427036598,
         1742342400
        ],
        [
         "2015-03-22 14:38:39",
         1646641578622,
         "Jan, 2021",
         "2025-03-19",
         "2025-03-19 01:22:09",
         1427035119,
         1742342400
        ]
       ],
       "datasetInfos": [],
       "dbfsResultPath": null,
       "isJsonSchema": true,
       "metadata": {},
       "overflow": false,
       "plotOptions": {
        "customPlotOptions": {},
        "displayType": "table",
        "pivotAggregation": null,
        "pivotColumns": null,
        "xColumns": null,
        "yColumns": null
       },
       "removedWidgets": [],
       "schema": [
        {
         "metadata": "{}",
         "name": "timestamp",
         "type": "\"string\""
        },
        {
         "metadata": "{}",
         "name": "unix",
         "type": "\"long\""
        },
        {
         "metadata": "{}",
         "name": "Date",
         "type": "\"string\""
        },
        {
         "metadata": "{}",
         "name": "current_date",
         "type": "\"date\""
        },
        {
         "metadata": "{}",
         "name": "current_timestamp",
         "type": "\"string\""
        },
        {
         "metadata": "{}",
         "name": "unix_timestamp",
         "type": "\"long\""
        },
        {
         "metadata": "{}",
         "name": "nowy_unix_timestamp",
         "type": "\"long\""
        }
       ],
       "type": "table"
      }
     },
     "output_type": "display_data"
    }
   ],
   "source": [
    "#unix_timestamp  \n",
    "tempE = zmianaFormatu.withColumn(\"nowy_unix_timestamp\", unix_timestamp(\"current_date\", \"yyyy-MM-dd\"))\n",
    "tempE.show()\n",
    "display(tempE)"
   ]
  },
  {
   "cell_type": "markdown",
   "metadata": {
    "application/vnd.databricks.v1+cell": {
     "cellMetadata": {
      "byteLimit": 2048000,
      "rowLimit": 10000
     },
     "inputWidgets": {},
     "nuid": "db03d5cd-61eb-4fca-a821-e19a85950b6e",
     "showTitle": false,
     "tableResultSettingsMap": {},
     "title": ""
    }
   },
   "source": [
    "## Stwórz nowe kolumny do DataFrame z wartościami year(..), month(..), dayofyear(..)"
   ]
  },
  {
   "cell_type": "code",
   "execution_count": null,
   "metadata": {
    "application/vnd.databricks.v1+cell": {
     "cellMetadata": {
      "byteLimit": 2048000,
      "rowLimit": 10000
     },
     "inputWidgets": {},
     "nuid": "e1461557-acfa-490d-80e7-ce453bf7a728",
     "showTitle": false,
     "tableResultSettingsMap": {},
     "title": ""
    }
   },
   "outputs": [
    {
     "name": "stdout",
     "output_type": "stream",
     "text": [
      "+-------------------+-------------+---------+------------+-------------------+--------------+-------------------+----+-----+---------+\n",
      "|          timestamp|         unix|     Date|current_date|  current_timestamp|unix_timestamp|nowy_unix_timestamp|year|month|dayofyear|\n",
      "+-------------------+-------------+---------+------------+-------------------+--------------+-------------------+----+-----+---------+\n",
      "|2015-03-22 14:13:34|1646641525847|May, 2021|  2025-03-19|2025-03-19 01:22:10|    1427033614|         1742342400|2015|   03|       22|\n",
      "|2015-03-22 15:03:18|1646641557555|Mar, 2021|  2025-03-19|2025-03-19 01:22:10|    1427036598|         1742342400|2015|   03|       22|\n",
      "|2015-03-22 14:38:39|1646641578622|Jan, 2021|  2025-03-19|2025-03-19 01:22:10|    1427035119|         1742342400|2015|   03|       22|\n",
      "+-------------------+-------------+---------+------------+-------------------+--------------+-------------------+----+-----+---------+\n",
      "\n"
     ]
    }
   ],
   "source": [
    "#date_format\n",
    "dataFrame = tempE\n",
    "\n",
    "yearDate = dataFrame.withColumn(\"year\", date_format(col(\"timestamp\"), \"yyyy\")) \\\n",
    "    .withColumn(\"month\", date_format(col(\"timestamp\"), \"MM\")) \\\n",
    "        .withColumn(\"dayofyear\", date_format(col(\"timestamp\"), \"dd\"))\n",
    "\n",
    "yearDate.show()\n",
    "        \n",
    "# "
   ]
  },
  {
   "cell_type": "code",
   "execution_count": null,
   "metadata": {
    "application/vnd.databricks.v1+cell": {
     "cellMetadata": {
      "byteLimit": 2048000,
      "rowLimit": 10000
     },
     "inputWidgets": {},
     "nuid": "d2c0abf1-1002-423c-8bd0-5b2519dd1411",
     "showTitle": false,
     "tableResultSettingsMap": {},
     "title": ""
    }
   },
   "outputs": [
    {
     "data": {
      "text/html": [
       "<style scoped>\n",
       "  .table-result-container {\n",
       "    max-height: 300px;\n",
       "    overflow: auto;\n",
       "  }\n",
       "  table, th, td {\n",
       "    border: 1px solid black;\n",
       "    border-collapse: collapse;\n",
       "  }\n",
       "  th, td {\n",
       "    padding: 5px;\n",
       "  }\n",
       "  th {\n",
       "    text-align: left;\n",
       "  }\n",
       "</style><div class='table-result-container'><table class='table-result'><thead style='background-color: white'><tr><th>timestamp</th><th>unix</th><th>Date</th><th>current_date</th><th>current_timestamp</th><th>unix_timestamp</th><th>nowy_unix_timestamp</th><th>year</th><th>month</th><th>dayofyear</th></tr></thead><tbody><tr><td>2015-03-22 14:13:34</td><td>1646641525847</td><td>May, 2021</td><td>2025-03-19</td><td>2025-03-19 01:22:11</td><td>1427033614</td><td>1742342400</td><td>2025</td><td>3</td><td>78</td></tr><tr><td>2015-03-22 15:03:18</td><td>1646641557555</td><td>Mar, 2021</td><td>2025-03-19</td><td>2025-03-19 01:22:11</td><td>1427036598</td><td>1742342400</td><td>2025</td><td>3</td><td>78</td></tr><tr><td>2015-03-22 14:38:39</td><td>1646641578622</td><td>Jan, 2021</td><td>2025-03-19</td><td>2025-03-19 01:22:11</td><td>1427035119</td><td>1742342400</td><td>2025</td><td>3</td><td>78</td></tr></tbody></table></div>"
      ]
     },
     "metadata": {
      "application/vnd.databricks.v1+output": {
       "addedWidgets": {},
       "aggData": [],
       "aggError": "",
       "aggOverflow": false,
       "aggSchema": [],
       "aggSeriesLimitReached": false,
       "aggType": "",
       "arguments": {},
       "columnCustomDisplayInfos": {},
       "data": [
        [
         "2015-03-22 14:13:34",
         1646641525847,
         "May, 2021",
         "2025-03-19",
         "2025-03-19 01:22:11",
         1427033614,
         1742342400,
         2025,
         3,
         78
        ],
        [
         "2015-03-22 15:03:18",
         1646641557555,
         "Mar, 2021",
         "2025-03-19",
         "2025-03-19 01:22:11",
         1427036598,
         1742342400,
         2025,
         3,
         78
        ],
        [
         "2015-03-22 14:38:39",
         1646641578622,
         "Jan, 2021",
         "2025-03-19",
         "2025-03-19 01:22:11",
         1427035119,
         1742342400,
         2025,
         3,
         78
        ]
       ],
       "datasetInfos": [],
       "dbfsResultPath": null,
       "isJsonSchema": true,
       "metadata": {},
       "overflow": false,
       "plotOptions": {
        "customPlotOptions": {},
        "displayType": "table",
        "pivotAggregation": null,
        "pivotColumns": null,
        "xColumns": null,
        "yColumns": null
       },
       "removedWidgets": [],
       "schema": [
        {
         "metadata": "{}",
         "name": "timestamp",
         "type": "\"string\""
        },
        {
         "metadata": "{}",
         "name": "unix",
         "type": "\"long\""
        },
        {
         "metadata": "{}",
         "name": "Date",
         "type": "\"string\""
        },
        {
         "metadata": "{}",
         "name": "current_date",
         "type": "\"date\""
        },
        {
         "metadata": "{}",
         "name": "current_timestamp",
         "type": "\"string\""
        },
        {
         "metadata": "{}",
         "name": "unix_timestamp",
         "type": "\"long\""
        },
        {
         "metadata": "{}",
         "name": "nowy_unix_timestamp",
         "type": "\"long\""
        },
        {
         "metadata": "{}",
         "name": "year",
         "type": "\"integer\""
        },
        {
         "metadata": "{}",
         "name": "month",
         "type": "\"integer\""
        },
        {
         "metadata": "{}",
         "name": "dayofyear",
         "type": "\"integer\""
        }
       ],
       "type": "table"
      }
     },
     "output_type": "display_data"
    },
    {
     "name": "stdout",
     "output_type": "stream",
     "text": [
      "+-------------------+-------------+---------+------------+-------------------+--------------+-------------------+----+-----+---------+\n",
      "|          timestamp|         unix|     Date|current_date|  current_timestamp|unix_timestamp|nowy_unix_timestamp|year|month|dayofyear|\n",
      "+-------------------+-------------+---------+------------+-------------------+--------------+-------------------+----+-----+---------+\n",
      "|2015-03-22 14:13:34|1646641525847|May, 2021|  2025-03-19|2025-03-19 01:22:12|    1427033614|         1742342400|2025|    3|       78|\n",
      "|2015-03-22 15:03:18|1646641557555|Mar, 2021|  2025-03-19|2025-03-19 01:22:12|    1427036598|         1742342400|2025|    3|       78|\n",
      "|2015-03-22 14:38:39|1646641578622|Jan, 2021|  2025-03-19|2025-03-19 01:22:12|    1427035119|         1742342400|2025|    3|       78|\n",
      "+-------------------+-------------+---------+------------+-------------------+--------------+-------------------+----+-----+---------+\n",
      "\n"
     ]
    }
   ],
   "source": [
    "#to_date()  \n",
    "toDate = dataFrame.withColumn(\"year\", year(to_date(\"current_timestamp\"))) \\\n",
    "    .withColumn(\"month\", month(to_date(\"current_timestamp\"))) \\\n",
    "    .withColumn(\"dayofyear\", dayofyear(to_date(\"current_timestamp\")))\n",
    "display(toDate)\n",
    "toDate.show()"
   ]
  },
  {
   "cell_type": "code",
   "execution_count": null,
   "metadata": {
    "application/vnd.databricks.v1+cell": {
     "cellMetadata": {
      "byteLimit": 2048000,
      "rowLimit": 10000
     },
     "inputWidgets": {},
     "nuid": "81f3377a-1ca5-43a1-8a62-18d7eceee982",
     "showTitle": false,
     "tableResultSettingsMap": {},
     "title": ""
    }
   },
   "outputs": [],
   "source": [
    "# G\tera designator\tText\tAD\n",
    "# y\tyear\tNumber\t2009\n",
    "# M\tmonth in year\tText & Number\tJuly & 07\n",
    "# d\tday in month\tNumber\t10\n",
    "# h\thour in am/pm (1-12)\tNumber\t12\n",
    "# H\thour in day (0-23)\tNumber\t0\n",
    "# m\tminute in hour\tNumber\t30\n",
    "# s\tsecond in minute\tNumber\t55\n",
    "# S\tmillisecond\tNumber\t978\n",
    "# E\tday in week\tText\tTuesday\n",
    "# D\tday in year\tNumber\t189\n",
    "# F\tday of week in month\tNumber\t2 (2nd Wed in July)\n",
    "# w\tweek in year\tNumber\t27\n",
    "# W\tweek in month\tNumber\t2\n",
    "# a\tam/pm marker\tText\tPM\n",
    "# k\thour in day (1-24)\tNumber\t24\n",
    "# K\thour in am/pm (0-11)\tNumber\t0\n",
    "# z\ttime zone\tText\tPacific Standard Time\n",
    "# '\tescape for text\tDelimiter\t(none)\n",
    "# '\tsingle quote\tLiteral\t'"
   ]
  },
  {
   "cell_type": "code",
   "execution_count": null,
   "metadata": {
    "application/vnd.databricks.v1+cell": {
     "cellMetadata": {
      "byteLimit": 2048000,
      "rowLimit": 10000
     },
     "inputWidgets": {},
     "nuid": "867a2aa1-3f1d-41ed-9d75-dbf309fb3dd2",
     "showTitle": false,
     "tableResultSettingsMap": {},
     "title": ""
    }
   },
   "outputs": [
    {
     "name": "stdout",
     "output_type": "stream",
     "text": [
      "+-------------------+-------------+---------+------------+-------------------+--------------+-------------------+---------+----------+--------+\n",
      "|          timestamp|         unix|     Date|current_date|  current_timestamp|unix_timestamp|nowy_unix_timestamp|year_UNIX|month_UNIX|day_UNIX|\n",
      "+-------------------+-------------+---------+------------+-------------------+--------------+-------------------+---------+----------+--------+\n",
      "|2015-03-22 14:13:34|1646641525847|May, 2021|  2025-03-19|2025-03-19 01:22:13|    1427033614|         1742342400|     2022|        03|     066|\n",
      "|2015-03-22 15:03:18|1646641557555|Mar, 2021|  2025-03-19|2025-03-19 01:22:13|    1427036598|         1742342400|     2022|        03|     066|\n",
      "|2015-03-22 14:38:39|1646641578622|Jan, 2021|  2025-03-19|2025-03-19 01:22:13|    1427035119|         1742342400|     2022|        03|     066|\n",
      "+-------------------+-------------+---------+------------+-------------------+--------------+-------------------+---------+----------+--------+\n",
      "\n"
     ]
    },
    {
     "data": {
      "text/html": [
       "<style scoped>\n",
       "  .table-result-container {\n",
       "    max-height: 300px;\n",
       "    overflow: auto;\n",
       "  }\n",
       "  table, th, td {\n",
       "    border: 1px solid black;\n",
       "    border-collapse: collapse;\n",
       "  }\n",
       "  th, td {\n",
       "    padding: 5px;\n",
       "  }\n",
       "  th {\n",
       "    text-align: left;\n",
       "  }\n",
       "</style><div class='table-result-container'><table class='table-result'><thead style='background-color: white'><tr><th>timestamp</th><th>unix</th><th>Date</th><th>current_date</th><th>current_timestamp</th><th>unix_timestamp</th><th>nowy_unix_timestamp</th><th>year_UNIX</th><th>month_UNIX</th><th>day_UNIX</th></tr></thead><tbody><tr><td>2015-03-22 14:13:34</td><td>1646641525847</td><td>May, 2021</td><td>2025-03-19</td><td>2025-03-19 01:22:13</td><td>1427033614</td><td>1742342400</td><td>2022</td><td>03</td><td>066</td></tr><tr><td>2015-03-22 15:03:18</td><td>1646641557555</td><td>Mar, 2021</td><td>2025-03-19</td><td>2025-03-19 01:22:13</td><td>1427036598</td><td>1742342400</td><td>2022</td><td>03</td><td>066</td></tr><tr><td>2015-03-22 14:38:39</td><td>1646641578622</td><td>Jan, 2021</td><td>2025-03-19</td><td>2025-03-19 01:22:13</td><td>1427035119</td><td>1742342400</td><td>2022</td><td>03</td><td>066</td></tr></tbody></table></div>"
      ]
     },
     "metadata": {
      "application/vnd.databricks.v1+output": {
       "addedWidgets": {},
       "aggData": [],
       "aggError": "",
       "aggOverflow": false,
       "aggSchema": [],
       "aggSeriesLimitReached": false,
       "aggType": "",
       "arguments": {},
       "columnCustomDisplayInfos": {},
       "data": [
        [
         "2015-03-22 14:13:34",
         1646641525847,
         "May, 2021",
         "2025-03-19",
         "2025-03-19 01:22:13",
         1427033614,
         1742342400,
         "2022",
         "03",
         "066"
        ],
        [
         "2015-03-22 15:03:18",
         1646641557555,
         "Mar, 2021",
         "2025-03-19",
         "2025-03-19 01:22:13",
         1427036598,
         1742342400,
         "2022",
         "03",
         "066"
        ],
        [
         "2015-03-22 14:38:39",
         1646641578622,
         "Jan, 2021",
         "2025-03-19",
         "2025-03-19 01:22:13",
         1427035119,
         1742342400,
         "2022",
         "03",
         "066"
        ]
       ],
       "datasetInfos": [],
       "dbfsResultPath": null,
       "isJsonSchema": true,
       "metadata": {},
       "overflow": false,
       "plotOptions": {
        "customPlotOptions": {},
        "displayType": "table",
        "pivotAggregation": null,
        "pivotColumns": null,
        "xColumns": null,
        "yColumns": null
       },
       "removedWidgets": [],
       "schema": [
        {
         "metadata": "{}",
         "name": "timestamp",
         "type": "\"string\""
        },
        {
         "metadata": "{}",
         "name": "unix",
         "type": "\"long\""
        },
        {
         "metadata": "{}",
         "name": "Date",
         "type": "\"string\""
        },
        {
         "metadata": "{}",
         "name": "current_date",
         "type": "\"date\""
        },
        {
         "metadata": "{}",
         "name": "current_timestamp",
         "type": "\"string\""
        },
        {
         "metadata": "{}",
         "name": "unix_timestamp",
         "type": "\"long\""
        },
        {
         "metadata": "{}",
         "name": "nowy_unix_timestamp",
         "type": "\"long\""
        },
        {
         "metadata": "{}",
         "name": "year_UNIX",
         "type": "\"string\""
        },
        {
         "metadata": "{}",
         "name": "month_UNIX",
         "type": "\"string\""
        },
        {
         "metadata": "{}",
         "name": "day_UNIX",
         "type": "\"string\""
        }
       ],
       "type": "table"
      }
     },
     "output_type": "display_data"
    }
   ],
   "source": [
    "#from_unixtime()\n",
    "fromUnix = dataFrame.withColumn(\"year_UNIX\", from_unixtime(col(\"unix\")/1000, \"yyyy\")) \\\n",
    "    .withColumn(\"month_UNIX\", from_unixtime(col(\"unix\")/1000, \"MM\")) \\\n",
    "        .withColumn(\"day_UNIX\", from_unixtime(col(\"unix\")/1000, \"DDD\"))\n",
    "fromUnix.show()\n",
    "display(fromUnix)"
   ]
  },
  {
   "cell_type": "code",
   "execution_count": null,
   "metadata": {
    "application/vnd.databricks.v1+cell": {
     "cellMetadata": {
      "byteLimit": 2048000,
      "rowLimit": 10000
     },
     "inputWidgets": {},
     "nuid": "ebba34dc-f8ad-4c31-9de1-59bf7e86e749",
     "showTitle": false,
     "tableResultSettingsMap": {},
     "title": ""
    }
   },
   "outputs": [
    {
     "data": {
      "text/html": [
       "<style scoped>\n",
       "  .table-result-container {\n",
       "    max-height: 300px;\n",
       "    overflow: auto;\n",
       "  }\n",
       "  table, th, td {\n",
       "    border: 1px solid black;\n",
       "    border-collapse: collapse;\n",
       "  }\n",
       "  th, td {\n",
       "    padding: 5px;\n",
       "  }\n",
       "  th {\n",
       "    text-align: left;\n",
       "  }\n",
       "</style><div class='table-result-container'><table class='table-result'><thead style='background-color: white'><tr><th>timestamp</th><th>unix</th><th>Date</th><th>current_date</th><th>current_timestamp</th><th>unix_timestamp</th><th>nowy_unix_timestamp</th><th>timestamp_YEAR</th><th>timestamp_MONTH</th><th>timestamp_DAY</th></tr></thead><tbody><tr><td>2015-03-22 14:13:34</td><td>1646641525847</td><td>May, 2021</td><td>2025-03-19</td><td>2025-03-19 01:22:14</td><td>1427033614</td><td>1742342400</td><td>2015</td><td>3</td><td>81</td></tr><tr><td>2015-03-22 15:03:18</td><td>1646641557555</td><td>Mar, 2021</td><td>2025-03-19</td><td>2025-03-19 01:22:14</td><td>1427036598</td><td>1742342400</td><td>2015</td><td>3</td><td>81</td></tr><tr><td>2015-03-22 14:38:39</td><td>1646641578622</td><td>Jan, 2021</td><td>2025-03-19</td><td>2025-03-19 01:22:14</td><td>1427035119</td><td>1742342400</td><td>2015</td><td>3</td><td>81</td></tr></tbody></table></div>"
      ]
     },
     "metadata": {
      "application/vnd.databricks.v1+output": {
       "addedWidgets": {},
       "aggData": [],
       "aggError": "",
       "aggOverflow": false,
       "aggSchema": [],
       "aggSeriesLimitReached": false,
       "aggType": "",
       "arguments": {},
       "columnCustomDisplayInfos": {},
       "data": [
        [
         "2015-03-22 14:13:34",
         1646641525847,
         "May, 2021",
         "2025-03-19",
         "2025-03-19 01:22:14",
         1427033614,
         1742342400,
         2015,
         3,
         81
        ],
        [
         "2015-03-22 15:03:18",
         1646641557555,
         "Mar, 2021",
         "2025-03-19",
         "2025-03-19 01:22:14",
         1427036598,
         1742342400,
         2015,
         3,
         81
        ],
        [
         "2015-03-22 14:38:39",
         1646641578622,
         "Jan, 2021",
         "2025-03-19",
         "2025-03-19 01:22:14",
         1427035119,
         1742342400,
         2015,
         3,
         81
        ]
       ],
       "datasetInfos": [],
       "dbfsResultPath": null,
       "isJsonSchema": true,
       "metadata": {},
       "overflow": false,
       "plotOptions": {
        "customPlotOptions": {},
        "displayType": "table",
        "pivotAggregation": null,
        "pivotColumns": null,
        "xColumns": null,
        "yColumns": null
       },
       "removedWidgets": [],
       "schema": [
        {
         "metadata": "{}",
         "name": "timestamp",
         "type": "\"string\""
        },
        {
         "metadata": "{}",
         "name": "unix",
         "type": "\"long\""
        },
        {
         "metadata": "{}",
         "name": "Date",
         "type": "\"string\""
        },
        {
         "metadata": "{}",
         "name": "current_date",
         "type": "\"date\""
        },
        {
         "metadata": "{}",
         "name": "current_timestamp",
         "type": "\"string\""
        },
        {
         "metadata": "{}",
         "name": "unix_timestamp",
         "type": "\"long\""
        },
        {
         "metadata": "{}",
         "name": "nowy_unix_timestamp",
         "type": "\"long\""
        },
        {
         "metadata": "{}",
         "name": "timestamp_YEAR",
         "type": "\"integer\""
        },
        {
         "metadata": "{}",
         "name": "timestamp_MONTH",
         "type": "\"integer\""
        },
        {
         "metadata": "{}",
         "name": "timestamp_DAY",
         "type": "\"integer\""
        }
       ],
       "type": "table"
      }
     },
     "output_type": "display_data"
    },
    {
     "name": "stdout",
     "output_type": "stream",
     "text": [
      "+-------------------+-------------+---------+------------+-------------------+--------------+-------------------+--------------+---------------+-------------+\n",
      "|          timestamp|         unix|     Date|current_date|  current_timestamp|unix_timestamp|nowy_unix_timestamp|timestamp_YEAR|timestamp_MONTH|timestamp_DAY|\n",
      "+-------------------+-------------+---------+------------+-------------------+--------------+-------------------+--------------+---------------+-------------+\n",
      "|2015-03-22 14:13:34|1646641525847|May, 2021|  2025-03-19|2025-03-19 01:22:15|    1427033614|         1742342400|          2015|              3|           81|\n",
      "|2015-03-22 15:03:18|1646641557555|Mar, 2021|  2025-03-19|2025-03-19 01:22:15|    1427036598|         1742342400|          2015|              3|           81|\n",
      "|2015-03-22 14:38:39|1646641578622|Jan, 2021|  2025-03-19|2025-03-19 01:22:15|    1427035119|         1742342400|          2015|              3|           81|\n",
      "+-------------------+-------------+---------+------------+-------------------+--------------+-------------------+--------------+---------------+-------------+\n",
      "\n"
     ]
    }
   ],
   "source": [
    "#to_timestamp()\n",
    "toTimestamp = dataFrame.withColumn(\"timestamp_YEAR\", year(to_timestamp(col(\"timestamp\")))) \\\n",
    "    .withColumn(\"timestamp_MONTH\", month(to_timestamp(col(\"timestamp\")))) \\\n",
    "        .withColumn(\"timestamp_DAY\", dayofyear(to_timestamp(col(\"timestamp\"))))\n",
    "display(toTimestamp)\n",
    "toTimestamp.show()"
   ]
  },
  {
   "cell_type": "code",
   "execution_count": null,
   "metadata": {
    "application/vnd.databricks.v1+cell": {
     "cellMetadata": {
      "byteLimit": 2048000,
      "rowLimit": 10000
     },
     "inputWidgets": {},
     "nuid": "8ea929b6-c0cb-49a1-9db7-f9b057fb4de9",
     "showTitle": false,
     "tableResultSettingsMap": {},
     "title": ""
    }
   },
   "outputs": [
    {
     "data": {
      "text/html": [
       "<style scoped>\n",
       "  .table-result-container {\n",
       "    max-height: 300px;\n",
       "    overflow: auto;\n",
       "  }\n",
       "  table, th, td {\n",
       "    border: 1px solid black;\n",
       "    border-collapse: collapse;\n",
       "  }\n",
       "  th, td {\n",
       "    padding: 5px;\n",
       "  }\n",
       "  th {\n",
       "    text-align: left;\n",
       "  }\n",
       "</style><div class='table-result-container'><table class='table-result'><thead style='background-color: white'><tr><th>timestamp</th><th>unix</th><th>Date</th><th>current_date</th><th>current_timestamp</th><th>unix_timestamp</th><th>nowy_unix_timestamp</th><th>timestamp_YEAR</th><th>timestamp_MONTH</th><th>timestamp_DAY</th></tr></thead><tbody><tr><td>2015-03-22 14:13:34</td><td>1646641525847</td><td>May, 2021</td><td>2025-03-19</td><td>2025-03-19 01:22:16</td><td>1427033614</td><td>1742342400</td><td>2015</td><td>3</td><td>81</td></tr><tr><td>2015-03-22 15:03:18</td><td>1646641557555</td><td>Mar, 2021</td><td>2025-03-19</td><td>2025-03-19 01:22:16</td><td>1427036598</td><td>1742342400</td><td>2015</td><td>3</td><td>81</td></tr><tr><td>2015-03-22 14:38:39</td><td>1646641578622</td><td>Jan, 2021</td><td>2025-03-19</td><td>2025-03-19 01:22:16</td><td>1427035119</td><td>1742342400</td><td>2015</td><td>3</td><td>81</td></tr></tbody></table></div>"
      ]
     },
     "metadata": {
      "application/vnd.databricks.v1+output": {
       "addedWidgets": {},
       "aggData": [],
       "aggError": "",
       "aggOverflow": false,
       "aggSchema": [],
       "aggSeriesLimitReached": false,
       "aggType": "",
       "arguments": {},
       "columnCustomDisplayInfos": {},
       "data": [
        [
         "2015-03-22 14:13:34",
         1646641525847,
         "May, 2021",
         "2025-03-19",
         "2025-03-19 01:22:16",
         1427033614,
         1742342400,
         2015,
         3,
         81
        ],
        [
         "2015-03-22 15:03:18",
         1646641557555,
         "Mar, 2021",
         "2025-03-19",
         "2025-03-19 01:22:16",
         1427036598,
         1742342400,
         2015,
         3,
         81
        ],
        [
         "2015-03-22 14:38:39",
         1646641578622,
         "Jan, 2021",
         "2025-03-19",
         "2025-03-19 01:22:16",
         1427035119,
         1742342400,
         2015,
         3,
         81
        ]
       ],
       "datasetInfos": [],
       "dbfsResultPath": null,
       "isJsonSchema": true,
       "metadata": {},
       "overflow": false,
       "plotOptions": {
        "customPlotOptions": {},
        "displayType": "table",
        "pivotAggregation": null,
        "pivotColumns": null,
        "xColumns": null,
        "yColumns": null
       },
       "removedWidgets": [],
       "schema": [
        {
         "metadata": "{}",
         "name": "timestamp",
         "type": "\"string\""
        },
        {
         "metadata": "{}",
         "name": "unix",
         "type": "\"long\""
        },
        {
         "metadata": "{}",
         "name": "Date",
         "type": "\"string\""
        },
        {
         "metadata": "{}",
         "name": "current_date",
         "type": "\"date\""
        },
        {
         "metadata": "{}",
         "name": "current_timestamp",
         "type": "\"string\""
        },
        {
         "metadata": "{}",
         "name": "unix_timestamp",
         "type": "\"long\""
        },
        {
         "metadata": "{}",
         "name": "nowy_unix_timestamp",
         "type": "\"long\""
        },
        {
         "metadata": "{}",
         "name": "timestamp_YEAR",
         "type": "\"integer\""
        },
        {
         "metadata": "{}",
         "name": "timestamp_MONTH",
         "type": "\"integer\""
        },
        {
         "metadata": "{}",
         "name": "timestamp_DAY",
         "type": "\"integer\""
        }
       ],
       "type": "table"
      }
     },
     "output_type": "display_data"
    },
    {
     "name": "stdout",
     "output_type": "stream",
     "text": [
      "+-------------------+-------------+---------+------------+-------------------+--------------+-------------------+--------------+---------------+-------------+\n",
      "|          timestamp|         unix|     Date|current_date|  current_timestamp|unix_timestamp|nowy_unix_timestamp|timestamp_YEAR|timestamp_MONTH|timestamp_DAY|\n",
      "+-------------------+-------------+---------+------------+-------------------+--------------+-------------------+--------------+---------------+-------------+\n",
      "|2015-03-22 14:13:34|1646641525847|May, 2021|  2025-03-19|2025-03-19 01:22:17|    1427033614|         1742342400|          2015|              3|           81|\n",
      "|2015-03-22 15:03:18|1646641557555|Mar, 2021|  2025-03-19|2025-03-19 01:22:17|    1427036598|         1742342400|          2015|              3|           81|\n",
      "|2015-03-22 14:38:39|1646641578622|Jan, 2021|  2025-03-19|2025-03-19 01:22:17|    1427035119|         1742342400|          2015|              3|           81|\n",
      "+-------------------+-------------+---------+------------+-------------------+--------------+-------------------+--------------+---------------+-------------+\n",
      "\n"
     ]
    }
   ],
   "source": [
    "#to_utc_timestamp()\n",
    "toUtcTimestamp = dataFrame.withColumn(\"timestamp_YEAR\", year(to_utc_timestamp(col(\"timestamp\"), tz = \"UTC\"))) \\\n",
    "    .withColumn(\"timestamp_MONTH\", month(to_utc_timestamp(col(\"timestamp\"), tz = \"UTC\"))) \\\n",
    "        .withColumn(\"timestamp_DAY\", dayofyear(to_utc_timestamp(col(\"timestamp\"), tz = \"UTC\")))\n",
    "display(toUtcTimestamp)\n",
    "toUtcTimestamp.show()\n"
   ]
  },
  {
   "cell_type": "code",
   "execution_count": null,
   "metadata": {
    "application/vnd.databricks.v1+cell": {
     "cellMetadata": {
      "byteLimit": 2048000,
      "rowLimit": 10000
     },
     "inputWidgets": {},
     "nuid": "d9d24a58-521a-4bb2-b03a-a1fac517faed",
     "showTitle": false,
     "tableResultSettingsMap": {},
     "title": ""
    }
   },
   "outputs": [
    {
     "data": {
      "text/html": [
       "<style scoped>\n",
       "  .table-result-container {\n",
       "    max-height: 300px;\n",
       "    overflow: auto;\n",
       "  }\n",
       "  table, th, td {\n",
       "    border: 1px solid black;\n",
       "    border-collapse: collapse;\n",
       "  }\n",
       "  th, td {\n",
       "    padding: 5px;\n",
       "  }\n",
       "  th {\n",
       "    text-align: left;\n",
       "  }\n",
       "</style><div class='table-result-container'><table class='table-result'><thead style='background-color: white'><tr><th>timestamp</th><th>unix</th><th>Date</th><th>current_date</th><th>current_timestamp</th><th>unix_timestamp</th><th>nowy_unix_timestamp</th><th>curr_timestamp_YEAR</th><th>curr_timestamp_MONTH</th><th>curr_timestamp_DAY</th></tr></thead><tbody><tr><td>2015-03-22 14:13:34</td><td>1646641525847</td><td>May, 2021</td><td>2025-03-19</td><td>2025-03-19 01:22:18</td><td>1427033614</td><td>1742342400</td><td>2025</td><td>3</td><td>78</td></tr><tr><td>2015-03-22 15:03:18</td><td>1646641557555</td><td>Mar, 2021</td><td>2025-03-19</td><td>2025-03-19 01:22:18</td><td>1427036598</td><td>1742342400</td><td>2025</td><td>3</td><td>78</td></tr><tr><td>2015-03-22 14:38:39</td><td>1646641578622</td><td>Jan, 2021</td><td>2025-03-19</td><td>2025-03-19 01:22:18</td><td>1427035119</td><td>1742342400</td><td>2025</td><td>3</td><td>78</td></tr></tbody></table></div>"
      ]
     },
     "metadata": {
      "application/vnd.databricks.v1+output": {
       "addedWidgets": {},
       "aggData": [],
       "aggError": "",
       "aggOverflow": false,
       "aggSchema": [],
       "aggSeriesLimitReached": false,
       "aggType": "",
       "arguments": {},
       "columnCustomDisplayInfos": {},
       "data": [
        [
         "2015-03-22 14:13:34",
         1646641525847,
         "May, 2021",
         "2025-03-19",
         "2025-03-19 01:22:18",
         1427033614,
         1742342400,
         2025,
         3,
         78
        ],
        [
         "2015-03-22 15:03:18",
         1646641557555,
         "Mar, 2021",
         "2025-03-19",
         "2025-03-19 01:22:18",
         1427036598,
         1742342400,
         2025,
         3,
         78
        ],
        [
         "2015-03-22 14:38:39",
         1646641578622,
         "Jan, 2021",
         "2025-03-19",
         "2025-03-19 01:22:18",
         1427035119,
         1742342400,
         2025,
         3,
         78
        ]
       ],
       "datasetInfos": [],
       "dbfsResultPath": null,
       "isJsonSchema": true,
       "metadata": {},
       "overflow": false,
       "plotOptions": {
        "customPlotOptions": {},
        "displayType": "table",
        "pivotAggregation": null,
        "pivotColumns": null,
        "xColumns": null,
        "yColumns": null
       },
       "removedWidgets": [],
       "schema": [
        {
         "metadata": "{}",
         "name": "timestamp",
         "type": "\"string\""
        },
        {
         "metadata": "{}",
         "name": "unix",
         "type": "\"long\""
        },
        {
         "metadata": "{}",
         "name": "Date",
         "type": "\"string\""
        },
        {
         "metadata": "{}",
         "name": "current_date",
         "type": "\"date\""
        },
        {
         "metadata": "{}",
         "name": "current_timestamp",
         "type": "\"string\""
        },
        {
         "metadata": "{}",
         "name": "unix_timestamp",
         "type": "\"long\""
        },
        {
         "metadata": "{}",
         "name": "nowy_unix_timestamp",
         "type": "\"long\""
        },
        {
         "metadata": "{}",
         "name": "curr_timestamp_YEAR",
         "type": "\"integer\""
        },
        {
         "metadata": "{}",
         "name": "curr_timestamp_MONTH",
         "type": "\"integer\""
        },
        {
         "metadata": "{}",
         "name": "curr_timestamp_DAY",
         "type": "\"integer\""
        }
       ],
       "type": "table"
      }
     },
     "output_type": "display_data"
    },
    {
     "name": "stdout",
     "output_type": "stream",
     "text": [
      "+-------------------+-------------+---------+------------+-------------------+--------------+-------------------+-------------------+--------------------+------------------+\n",
      "|          timestamp|         unix|     Date|current_date|  current_timestamp|unix_timestamp|nowy_unix_timestamp|curr_timestamp_YEAR|curr_timestamp_MONTH|curr_timestamp_DAY|\n",
      "+-------------------+-------------+---------+------------+-------------------+--------------+-------------------+-------------------+--------------------+------------------+\n",
      "|2015-03-22 14:13:34|1646641525847|May, 2021|  2025-03-19|2025-03-19 01:22:19|    1427033614|         1742342400|               2025|                   3|                78|\n",
      "|2015-03-22 15:03:18|1646641557555|Mar, 2021|  2025-03-19|2025-03-19 01:22:19|    1427036598|         1742342400|               2025|                   3|                78|\n",
      "|2015-03-22 14:38:39|1646641578622|Jan, 2021|  2025-03-19|2025-03-19 01:22:19|    1427035119|         1742342400|               2025|                   3|                78|\n",
      "+-------------------+-------------+---------+------------+-------------------+--------------+-------------------+-------------------+--------------------+------------------+\n",
      "\n"
     ]
    }
   ],
   "source": [
    "#from_utc_timestamp()\n",
    "fromUtcTimestamp = dataFrame.withColumn(\"curr_timestamp_YEAR\", year(from_utc_timestamp(col(\"current_timestamp\"), tz = \"UTC\"))) \\\n",
    "    .withColumn(\"curr_timestamp_MONTH\", month(from_utc_timestamp(col(\"current_timestamp\"), tz = \"UTC\"))) \\\n",
    "        .withColumn(\"curr_timestamp_DAY\", dayofyear(from_utc_timestamp(col(\"current_timestamp\"), tz = \"UTC\")))\n",
    "display(fromUtcTimestamp)\n",
    "fromUtcTimestamp.show()"
   ]
  },
  {
   "cell_type": "code",
   "execution_count": null,
   "metadata": {
    "application/vnd.databricks.v1+cell": {
     "cellMetadata": {
      "byteLimit": 2048000,
      "rowLimit": 10000
     },
     "inputWidgets": {},
     "nuid": "8f1f5379-c42b-4971-afd7-9de10a45ab96",
     "showTitle": false,
     "tableResultSettingsMap": {},
     "title": ""
    }
   },
   "outputs": [
    {
     "data": {
      "text/html": [
       "<style scoped>\n",
       "  .table-result-container {\n",
       "    max-height: 300px;\n",
       "    overflow: auto;\n",
       "  }\n",
       "  table, th, td {\n",
       "    border: 1px solid black;\n",
       "    border-collapse: collapse;\n",
       "  }\n",
       "  th, td {\n",
       "    padding: 5px;\n",
       "  }\n",
       "  th {\n",
       "    text-align: left;\n",
       "  }\n",
       "</style><div class='table-result-container'><table class='table-result'><thead style='background-color: white'><tr><th>path</th><th>name</th><th>size</th><th>modificationTime</th></tr></thead><tbody><tr><td>dbfs:/databricks-datasets/COVID/</td><td>COVID/</td><td>0</td><td>0</td></tr><tr><td>dbfs:/databricks-datasets/README.md</td><td>README.md</td><td>976</td><td>1532468253000</td></tr><tr><td>dbfs:/databricks-datasets/Rdatasets/</td><td>Rdatasets/</td><td>0</td><td>0</td></tr><tr><td>dbfs:/databricks-datasets/SPARK_README.md</td><td>SPARK_README.md</td><td>3359</td><td>1455043490000</td></tr><tr><td>dbfs:/databricks-datasets/adult/</td><td>adult/</td><td>0</td><td>0</td></tr><tr><td>dbfs:/databricks-datasets/airlines/</td><td>airlines/</td><td>0</td><td>0</td></tr><tr><td>dbfs:/databricks-datasets/amazon/</td><td>amazon/</td><td>0</td><td>0</td></tr><tr><td>dbfs:/databricks-datasets/asa/</td><td>asa/</td><td>0</td><td>0</td></tr><tr><td>dbfs:/databricks-datasets/atlas_higgs/</td><td>atlas_higgs/</td><td>0</td><td>0</td></tr><tr><td>dbfs:/databricks-datasets/bikeSharing/</td><td>bikeSharing/</td><td>0</td><td>0</td></tr><tr><td>dbfs:/databricks-datasets/cctvVideos/</td><td>cctvVideos/</td><td>0</td><td>0</td></tr><tr><td>dbfs:/databricks-datasets/credit-card-fraud/</td><td>credit-card-fraud/</td><td>0</td><td>0</td></tr><tr><td>dbfs:/databricks-datasets/cs100/</td><td>cs100/</td><td>0</td><td>0</td></tr><tr><td>dbfs:/databricks-datasets/cs110x/</td><td>cs110x/</td><td>0</td><td>0</td></tr><tr><td>dbfs:/databricks-datasets/cs190/</td><td>cs190/</td><td>0</td><td>0</td></tr><tr><td>dbfs:/databricks-datasets/data.gov/</td><td>data.gov/</td><td>0</td><td>0</td></tr><tr><td>dbfs:/databricks-datasets/definitive-guide/</td><td>definitive-guide/</td><td>0</td><td>0</td></tr><tr><td>dbfs:/databricks-datasets/delta-sharing/</td><td>delta-sharing/</td><td>0</td><td>0</td></tr><tr><td>dbfs:/databricks-datasets/flights/</td><td>flights/</td><td>0</td><td>0</td></tr><tr><td>dbfs:/databricks-datasets/flower_photos/</td><td>flower_photos/</td><td>0</td><td>0</td></tr><tr><td>dbfs:/databricks-datasets/flowers/</td><td>flowers/</td><td>0</td><td>0</td></tr><tr><td>dbfs:/databricks-datasets/genomics/</td><td>genomics/</td><td>0</td><td>0</td></tr><tr><td>dbfs:/databricks-datasets/hail/</td><td>hail/</td><td>0</td><td>0</td></tr><tr><td>dbfs:/databricks-datasets/identifying-campaign-effectiveness/</td><td>identifying-campaign-effectiveness/</td><td>0</td><td>0</td></tr><tr><td>dbfs:/databricks-datasets/iot/</td><td>iot/</td><td>0</td><td>0</td></tr><tr><td>dbfs:/databricks-datasets/iot-stream/</td><td>iot-stream/</td><td>0</td><td>0</td></tr><tr><td>dbfs:/databricks-datasets/learning-spark/</td><td>learning-spark/</td><td>0</td><td>0</td></tr><tr><td>dbfs:/databricks-datasets/learning-spark-v2/</td><td>learning-spark-v2/</td><td>0</td><td>0</td></tr><tr><td>dbfs:/databricks-datasets/lending-club-loan-stats/</td><td>lending-club-loan-stats/</td><td>0</td><td>0</td></tr><tr><td>dbfs:/databricks-datasets/med-images/</td><td>med-images/</td><td>0</td><td>0</td></tr><tr><td>dbfs:/databricks-datasets/media/</td><td>media/</td><td>0</td><td>0</td></tr><tr><td>dbfs:/databricks-datasets/mnist-digits/</td><td>mnist-digits/</td><td>0</td><td>0</td></tr><tr><td>dbfs:/databricks-datasets/news20.binary/</td><td>news20.binary/</td><td>0</td><td>0</td></tr><tr><td>dbfs:/databricks-datasets/nyctaxi/</td><td>nyctaxi/</td><td>0</td><td>0</td></tr><tr><td>dbfs:/databricks-datasets/nyctaxi-with-zipcodes/</td><td>nyctaxi-with-zipcodes/</td><td>0</td><td>0</td></tr><tr><td>dbfs:/databricks-datasets/online_retail/</td><td>online_retail/</td><td>0</td><td>0</td></tr><tr><td>dbfs:/databricks-datasets/overlap-join/</td><td>overlap-join/</td><td>0</td><td>0</td></tr><tr><td>dbfs:/databricks-datasets/power-plant/</td><td>power-plant/</td><td>0</td><td>0</td></tr><tr><td>dbfs:/databricks-datasets/retail-org/</td><td>retail-org/</td><td>0</td><td>0</td></tr><tr><td>dbfs:/databricks-datasets/rwe/</td><td>rwe/</td><td>0</td><td>0</td></tr><tr><td>dbfs:/databricks-datasets/sai-summit-2019-sf/</td><td>sai-summit-2019-sf/</td><td>0</td><td>0</td></tr><tr><td>dbfs:/databricks-datasets/sample_logs/</td><td>sample_logs/</td><td>0</td><td>0</td></tr><tr><td>dbfs:/databricks-datasets/samples/</td><td>samples/</td><td>0</td><td>0</td></tr><tr><td>dbfs:/databricks-datasets/sfo_customer_survey/</td><td>sfo_customer_survey/</td><td>0</td><td>0</td></tr><tr><td>dbfs:/databricks-datasets/sms_spam_collection/</td><td>sms_spam_collection/</td><td>0</td><td>0</td></tr><tr><td>dbfs:/databricks-datasets/songs/</td><td>songs/</td><td>0</td><td>0</td></tr><tr><td>dbfs:/databricks-datasets/structured-streaming/</td><td>structured-streaming/</td><td>0</td><td>0</td></tr><tr><td>dbfs:/databricks-datasets/timeseries/</td><td>timeseries/</td><td>0</td><td>0</td></tr><tr><td>dbfs:/databricks-datasets/tpch/</td><td>tpch/</td><td>0</td><td>0</td></tr><tr><td>dbfs:/databricks-datasets/travel_recommendations_realtime/</td><td>travel_recommendations_realtime/</td><td>0</td><td>0</td></tr><tr><td>dbfs:/databricks-datasets/warmup/</td><td>warmup/</td><td>0</td><td>0</td></tr><tr><td>dbfs:/databricks-datasets/weather/</td><td>weather/</td><td>0</td><td>0</td></tr><tr><td>dbfs:/databricks-datasets/wiki/</td><td>wiki/</td><td>0</td><td>0</td></tr><tr><td>dbfs:/databricks-datasets/wikipedia-datasets/</td><td>wikipedia-datasets/</td><td>0</td><td>0</td></tr><tr><td>dbfs:/databricks-datasets/wine-quality/</td><td>wine-quality/</td><td>0</td><td>0</td></tr></tbody></table></div>"
      ]
     },
     "metadata": {
      "application/vnd.databricks.v1+output": {
       "addedWidgets": {},
       "aggData": [],
       "aggError": "",
       "aggOverflow": false,
       "aggSchema": [],
       "aggSeriesLimitReached": false,
       "aggType": "",
       "arguments": {},
       "columnCustomDisplayInfos": {},
       "data": [
        [
         "dbfs:/databricks-datasets/COVID/",
         "COVID/",
         0,
         0
        ],
        [
         "dbfs:/databricks-datasets/README.md",
         "README.md",
         976,
         1532468253000
        ],
        [
         "dbfs:/databricks-datasets/Rdatasets/",
         "Rdatasets/",
         0,
         0
        ],
        [
         "dbfs:/databricks-datasets/SPARK_README.md",
         "SPARK_README.md",
         3359,
         1455043490000
        ],
        [
         "dbfs:/databricks-datasets/adult/",
         "adult/",
         0,
         0
        ],
        [
         "dbfs:/databricks-datasets/airlines/",
         "airlines/",
         0,
         0
        ],
        [
         "dbfs:/databricks-datasets/amazon/",
         "amazon/",
         0,
         0
        ],
        [
         "dbfs:/databricks-datasets/asa/",
         "asa/",
         0,
         0
        ],
        [
         "dbfs:/databricks-datasets/atlas_higgs/",
         "atlas_higgs/",
         0,
         0
        ],
        [
         "dbfs:/databricks-datasets/bikeSharing/",
         "bikeSharing/",
         0,
         0
        ],
        [
         "dbfs:/databricks-datasets/cctvVideos/",
         "cctvVideos/",
         0,
         0
        ],
        [
         "dbfs:/databricks-datasets/credit-card-fraud/",
         "credit-card-fraud/",
         0,
         0
        ],
        [
         "dbfs:/databricks-datasets/cs100/",
         "cs100/",
         0,
         0
        ],
        [
         "dbfs:/databricks-datasets/cs110x/",
         "cs110x/",
         0,
         0
        ],
        [
         "dbfs:/databricks-datasets/cs190/",
         "cs190/",
         0,
         0
        ],
        [
         "dbfs:/databricks-datasets/data.gov/",
         "data.gov/",
         0,
         0
        ],
        [
         "dbfs:/databricks-datasets/definitive-guide/",
         "definitive-guide/",
         0,
         0
        ],
        [
         "dbfs:/databricks-datasets/delta-sharing/",
         "delta-sharing/",
         0,
         0
        ],
        [
         "dbfs:/databricks-datasets/flights/",
         "flights/",
         0,
         0
        ],
        [
         "dbfs:/databricks-datasets/flower_photos/",
         "flower_photos/",
         0,
         0
        ],
        [
         "dbfs:/databricks-datasets/flowers/",
         "flowers/",
         0,
         0
        ],
        [
         "dbfs:/databricks-datasets/genomics/",
         "genomics/",
         0,
         0
        ],
        [
         "dbfs:/databricks-datasets/hail/",
         "hail/",
         0,
         0
        ],
        [
         "dbfs:/databricks-datasets/identifying-campaign-effectiveness/",
         "identifying-campaign-effectiveness/",
         0,
         0
        ],
        [
         "dbfs:/databricks-datasets/iot/",
         "iot/",
         0,
         0
        ],
        [
         "dbfs:/databricks-datasets/iot-stream/",
         "iot-stream/",
         0,
         0
        ],
        [
         "dbfs:/databricks-datasets/learning-spark/",
         "learning-spark/",
         0,
         0
        ],
        [
         "dbfs:/databricks-datasets/learning-spark-v2/",
         "learning-spark-v2/",
         0,
         0
        ],
        [
         "dbfs:/databricks-datasets/lending-club-loan-stats/",
         "lending-club-loan-stats/",
         0,
         0
        ],
        [
         "dbfs:/databricks-datasets/med-images/",
         "med-images/",
         0,
         0
        ],
        [
         "dbfs:/databricks-datasets/media/",
         "media/",
         0,
         0
        ],
        [
         "dbfs:/databricks-datasets/mnist-digits/",
         "mnist-digits/",
         0,
         0
        ],
        [
         "dbfs:/databricks-datasets/news20.binary/",
         "news20.binary/",
         0,
         0
        ],
        [
         "dbfs:/databricks-datasets/nyctaxi/",
         "nyctaxi/",
         0,
         0
        ],
        [
         "dbfs:/databricks-datasets/nyctaxi-with-zipcodes/",
         "nyctaxi-with-zipcodes/",
         0,
         0
        ],
        [
         "dbfs:/databricks-datasets/online_retail/",
         "online_retail/",
         0,
         0
        ],
        [
         "dbfs:/databricks-datasets/overlap-join/",
         "overlap-join/",
         0,
         0
        ],
        [
         "dbfs:/databricks-datasets/power-plant/",
         "power-plant/",
         0,
         0
        ],
        [
         "dbfs:/databricks-datasets/retail-org/",
         "retail-org/",
         0,
         0
        ],
        [
         "dbfs:/databricks-datasets/rwe/",
         "rwe/",
         0,
         0
        ],
        [
         "dbfs:/databricks-datasets/sai-summit-2019-sf/",
         "sai-summit-2019-sf/",
         0,
         0
        ],
        [
         "dbfs:/databricks-datasets/sample_logs/",
         "sample_logs/",
         0,
         0
        ],
        [
         "dbfs:/databricks-datasets/samples/",
         "samples/",
         0,
         0
        ],
        [
         "dbfs:/databricks-datasets/sfo_customer_survey/",
         "sfo_customer_survey/",
         0,
         0
        ],
        [
         "dbfs:/databricks-datasets/sms_spam_collection/",
         "sms_spam_collection/",
         0,
         0
        ],
        [
         "dbfs:/databricks-datasets/songs/",
         "songs/",
         0,
         0
        ],
        [
         "dbfs:/databricks-datasets/structured-streaming/",
         "structured-streaming/",
         0,
         0
        ],
        [
         "dbfs:/databricks-datasets/timeseries/",
         "timeseries/",
         0,
         0
        ],
        [
         "dbfs:/databricks-datasets/tpch/",
         "tpch/",
         0,
         0
        ],
        [
         "dbfs:/databricks-datasets/travel_recommendations_realtime/",
         "travel_recommendations_realtime/",
         0,
         0
        ],
        [
         "dbfs:/databricks-datasets/warmup/",
         "warmup/",
         0,
         0
        ],
        [
         "dbfs:/databricks-datasets/weather/",
         "weather/",
         0,
         0
        ],
        [
         "dbfs:/databricks-datasets/wiki/",
         "wiki/",
         0,
         0
        ],
        [
         "dbfs:/databricks-datasets/wikipedia-datasets/",
         "wikipedia-datasets/",
         0,
         0
        ],
        [
         "dbfs:/databricks-datasets/wine-quality/",
         "wine-quality/",
         0,
         0
        ]
       ],
       "datasetInfos": [],
       "dbfsResultPath": null,
       "isJsonSchema": true,
       "metadata": {
        "isDbfsCommandResult": false
       },
       "overflow": false,
       "plotOptions": {
        "customPlotOptions": {},
        "displayType": "table",
        "pivotAggregation": null,
        "pivotColumns": null,
        "xColumns": null,
        "yColumns": null
       },
       "removedWidgets": [],
       "schema": [
        {
         "metadata": "{}",
         "name": "path",
         "type": "\"string\""
        },
        {
         "metadata": "{}",
         "name": "name",
         "type": "\"string\""
        },
        {
         "metadata": "{}",
         "name": "size",
         "type": "\"long\""
        },
        {
         "metadata": "{}",
         "name": "modificationTime",
         "type": "\"long\""
        }
       ],
       "type": "table"
      }
     },
     "output_type": "display_data"
    }
   ],
   "source": [
    "%fs ls dbfs:/databricks-datasets/\n"
   ]
  }
 ],
 "metadata": {
  "application/vnd.databricks.v1+notebook": {
   "computePreferences": null,
   "dashboards": [],
   "environmentMetadata": null,
   "inputWidgetPreferences": null,
   "language": "python",
   "notebookMetadata": {
    "mostRecentlyExecutedCommandWithImplicitDF": {
     "commandId": 229650497889914,
     "dataframes": [
      "_sqldf"
     ]
    },
    "pythonIndentUnit": 4
   },
   "notebookName": "Daty",
   "widgets": {}
  },
  "kernelspec": {
   "display_name": "Python 3 (ipykernel)",
   "language": "python",
   "name": "python3"
  },
  "language_info": {
   "codemirror_mode": {
    "name": "ipython",
    "version": 3
   },
   "file_extension": ".py",
   "mimetype": "text/x-python",
   "name": "python",
   "nbconvert_exporter": "python",
   "pygments_lexer": "ipython3",
   "version": "3.11.8"
  }
 },
 "nbformat": 4,
 "nbformat_minor": 4
}
